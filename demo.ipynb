{
 "cells": [
  {
   "cell_type": "markdown",
   "metadata": {},
   "source": [
    "# EvoGFuzz++"
   ]
  },
  {
   "cell_type": "code",
   "execution_count": 1,
   "metadata": {},
   "outputs": [],
   "source": [
    "import string\n",
    "import math\n",
    "\n",
    "from fuzzingbook.Grammars import Grammar\n",
    "from isla.language import DerivationTree\n",
    "\n",
    "GRAMMAR: Grammar = {\n",
    "    \"<start>\": [\"<arith_expr>\"],\n",
    "    \"<arith_expr>\": [\"<function>(<number>)\"],\n",
    "    \"<function>\": [\"sqrt\", \"sin\", \"cos\", \"tan\"],\n",
    "    \"<number>\": [\"<maybe_minus><onenine><maybe_digits><maybe_frac>\"],\n",
    "    \"<maybe_minus>\": [\"\", \"-\"],\n",
    "    \"<onenine>\": [str(num) for num in range(1, 10)],\n",
    "    \"<digit>\": list(string.digits),\n",
    "    \"<maybe_digits>\": [\"\", \"<digits>\"],\n",
    "    \"<digits>\": [\"<digit>\", \"<digit><digits>\"],\n",
    "    \"<maybe_frac>\": [\"\", \".<digits>\"]\n",
    "}\n",
    "\n",
    "INITIAL_INPUTS = ['cos(10)', 'sqrt(28367)', 'tan(-12)', 'sqrt(-900)']"
   ]
  },
  {
   "cell_type": "markdown",
   "metadata": {},
   "source": [
    "Let's parse the initial input files an observe if they are valid according to the grammar"
   ]
  },
  {
   "cell_type": "code",
   "execution_count": 2,
   "metadata": {},
   "outputs": [],
   "source": [
    "from fuzzingbook.Parser import EarleyParser, tree_to_string\n",
    "\n",
    "p = EarleyParser(GRAMMAR)\n",
    "\n",
    "for inp in INITIAL_INPUTS:\n",
    "    for tree in p.parse(inp):\n",
    "        assert tree_to_string(tree) == inp, f\"{tree} != {inp}\""
   ]
  },
  {
   "cell_type": "code",
   "execution_count": 3,
   "metadata": {},
   "outputs": [],
   "source": [
    "def arith_eval(inp: DerivationTree) -> float:\n",
    "    return eval(str(inp), {\"sqrt\": math.sqrt, \"sin\": math.sin, \"cos\": math.cos, \"tan\": math.tan})\n",
    "\n",
    "# Returns true if a Error is found\n",
    "def prop(inp: DerivationTree) -> bool:\n",
    "    try:\n",
    "        arith_eval(inp)\n",
    "        return False\n",
    "    except ValueError:\n",
    "        return True\n"
   ]
  },
  {
   "cell_type": "code",
   "execution_count": 4,
   "metadata": {},
   "outputs": [
    {
     "name": "stdout",
     "output_type": "stream",
     "text": [
      "[('cos(10)', False), ('sqrt(28367)', False), ('tan(-12)', False), ('sqrt(-900)', True)]\n"
     ]
    }
   ],
   "source": [
    "print([(x, prop(x)) for x in INITIAL_INPUTS])"
   ]
  },
  {
   "cell_type": "code",
   "execution_count": 5,
   "metadata": {},
   "outputs": [],
   "source": [
    "from evogfuzzpp.evogfuzzpp import EvoGFuzz\n",
    "from importlib import reload  # Not needed in Python 2\n",
    "import logging\n",
    "reload(logging)\n",
    "logging.basicConfig(\n",
    "    level=logging.DEBUG,\n",
    "    format=\"%(asctime)s:  %(message)s\"\n",
    ")"
   ]
  },
  {
   "cell_type": "code",
   "execution_count": 6,
   "metadata": {},
   "outputs": [],
   "source": [
    "epp = EvoGFuzz(GRAMMAR, prop, INITIAL_INPUTS, working_dir=None)"
   ]
  },
  {
   "cell_type": "code",
   "execution_count": 7,
   "metadata": {},
   "outputs": [
    {
     "name": "stderr",
     "output_type": "stream",
     "text": [
      "2022-12-21 15:07:44,645:  Executing EvoGFuzz\n",
      "2022-12-21 15:07:44,647:  Executing input files\n",
      "2022-12-21 15:07:44,649:  Learned probabilistic grammar:\n",
      "2022-12-21 15:07:44,649:  <start>                                 [('<arith_expr>', {'prob': None})]\n",
      "2022-12-21 15:07:44,650:  <arith_expr>                            [('<function>(<number>)', {'prob': None})]\n",
      "2022-12-21 15:07:44,650:  <function>                              [('sqrt', {'prob': 1.0}), ('sin', {'prob': 0.0}), ('cos', {'prob': 0.0}), ('tan', {'prob': 0.0})]\n",
      "2022-12-21 15:07:44,651:  <number>                                [('<maybe_minus><onenine><maybe_digits><maybe_frac>', {'prob': None})]\n",
      "2022-12-21 15:07:44,652:  <maybe_minus>                           [('', {'prob': 0.0}), ('-', {'prob': 1.0})]\n",
      "2022-12-21 15:07:44,653:  <onenine>                               [('1', {'prob': 0.0}), ('2', {'prob': 0.0}), ('3', {'prob': 0.0}), ('4', {'prob': 0.0}), ('5', {'prob': 0.0}), ('6', {'prob': 0.0}), ('7', {'prob': 0.0}), ('8', {'prob': 0.0}), ('9', {'prob': 1.0})]\n",
      "2022-12-21 15:07:44,653:  <digit>                                 [('0', {'prob': 1.0}), ('1', {'prob': 0.0}), ('2', {'prob': 0.0}), ('3', {'prob': 0.0}), ('4', {'prob': 0.0}), ('5', {'prob': 0.0}), ('6', {'prob': 0.0}), ('7', {'prob': 0.0}), ('8', {'prob': 0.0}), ('9', {'prob': 0.0})]\n",
      "2022-12-21 15:07:44,654:  <maybe_digits>                          [('', {'prob': 0.0}), ('<digits>', {'prob': 1.0})]\n",
      "2022-12-21 15:07:44,654:  <digits>                                [('<digit>', {'prob': 0.5}), ('<digit><digits>', {'prob': 0.5})]\n",
      "2022-12-21 15:07:44,655:  <maybe_frac>                            [('', {'prob': None}), ('.<digits>', {'prob': None})]\n",
      "2022-12-21 15:07:44,655:  Starting iteration 0\n",
      "2022-12-21 15:07:44,699:  Generated 23 unique inputs\n",
      "2022-12-21 15:07:44,699:  Executing input files\n"
     ]
    },
    {
     "name": "stdout",
     "output_type": "stream",
     "text": [
      "cos(10)\n",
      "sqrt(28367)\n",
      "tan(-12)\n",
      "sqrt(-900)\n",
      "sqrt(-900000)\n",
      "sqrt(-9000.00)\n",
      "sqrt(-900000000.0)\n",
      "sqrt(-90000)\n",
      "sqrt(-900000.0)\n",
      "sqrt(-90000000)\n",
      "sqrt(-900.000)\n",
      "sqrt(-90000000000)\n",
      "sqrt(-90000.0000)\n",
      "sqrt(-900.0)\n",
      "sqrt(-900.00000)\n",
      "sqrt(-9000.0)\n",
      "sqrt(-9000)\n",
      "sqrt(-900.0000)\n",
      "sqrt(-90)\n",
      "sqrt(-900)\n",
      "sqrt(-9000000)\n",
      "sqrt(-900.00)\n",
      "sqrt(-90.0000)\n",
      "sqrt(-90.00)\n",
      "sqrt(-90.000)\n",
      "sqrt(-90.00000)\n",
      "sqrt(-90.0)\n",
      "('sqrt(-900000)', True)\n",
      "('sqrt(-9000.00)', True)\n",
      "('sqrt(-900000000.0)', True)\n",
      "('sqrt(-90000)', True)\n",
      "('sqrt(-900000.0)', True)\n",
      "('sqrt(-90000000)', True)\n",
      "('sqrt(-900.000)', True)\n",
      "('sqrt(-90000000000)', True)\n",
      "('sqrt(-90000.0000)', True)\n",
      "('sqrt(-900.0)', True)\n",
      "('sqrt(-900.00000)', True)\n",
      "('sqrt(-9000.0)', True)\n",
      "('sqrt(-9000)', True)\n",
      "('sqrt(-900.0000)', True)\n",
      "('sqrt(-90)', True)\n",
      "('sqrt(-900)', True)\n",
      "('sqrt(-9000000)', True)\n",
      "('sqrt(-900.00)', True)\n",
      "('sqrt(-90.0000)', True)\n",
      "('sqrt(-90.00)', True)\n",
      "('sqrt(-90.000)', True)\n",
      "('sqrt(-90.00000)', True)\n",
      "('sqrt(-90.0)', True)\n"
     ]
    },
    {
     "ename": "NameError",
     "evalue": "name 'exec_data' is not defined",
     "output_type": "error",
     "traceback": [
      "\u001B[0;31m---------------------------------------------------------------------------\u001B[0m",
      "\u001B[0;31mNameError\u001B[0m                                 Traceback (most recent call last)",
      "Cell \u001B[0;32mIn[7], line 1\u001B[0m\n\u001B[0;32m----> 1\u001B[0m \u001B[43mepp\u001B[49m\u001B[38;5;241;43m.\u001B[39;49m\u001B[43mexecute\u001B[49m\u001B[43m(\u001B[49m\u001B[43m)\u001B[49m\n",
      "File \u001B[0;32m~/github/EvoGFuzzplusplus/evogfuzzpp/evogfuzzpp.py:41\u001B[0m, in \u001B[0;36mEvoGFuzz.execute\u001B[0;34m(self)\u001B[0m\n\u001B[1;32m     39\u001B[0m \u001B[38;5;28;01mwhile\u001B[39;00m \u001B[38;5;28mself\u001B[39m\u001B[38;5;241m.\u001B[39m_do_more_iterations():\n\u001B[1;32m     40\u001B[0m     logging\u001B[38;5;241m.\u001B[39minfo(\u001B[38;5;124mf\u001B[39m\u001B[38;5;124m\"\u001B[39m\u001B[38;5;124mStarting iteration \u001B[39m\u001B[38;5;132;01m{\u001B[39;00m\u001B[38;5;28mself\u001B[39m\u001B[38;5;241m.\u001B[39m_iteration\u001B[38;5;132;01m}\u001B[39;00m\u001B[38;5;124m\"\u001B[39m)\n\u001B[0;32m---> 41\u001B[0m     \u001B[38;5;28;43mself\u001B[39;49m\u001B[38;5;241;43m.\u001B[39;49m\u001B[43m_loop\u001B[49m\u001B[43m(\u001B[49m\u001B[43m)\u001B[49m\n\u001B[1;32m     42\u001B[0m     \u001B[38;5;28mself\u001B[39m\u001B[38;5;241m.\u001B[39m_iteration \u001B[38;5;241m=\u001B[39m \u001B[38;5;28mself\u001B[39m\u001B[38;5;241m.\u001B[39m_iteration \u001B[38;5;241m+\u001B[39m \u001B[38;5;241m1\u001B[39m\n",
      "File \u001B[0;32m~/github/EvoGFuzzplusplus/evogfuzzpp/evogfuzzpp.py:60\u001B[0m, in \u001B[0;36mEvoGFuzz._loop\u001B[0;34m(self)\u001B[0m\n\u001B[1;32m     58\u001B[0m \u001B[38;5;28mself\u001B[39m\u001B[38;5;241m.\u001B[39m__check_mutation(fittest_individuals)\n\u001B[1;32m     59\u001B[0m \u001B[38;5;66;03m# collect new data\u001B[39;00m\n\u001B[0;32m---> 60\u001B[0m \u001B[38;5;28mself\u001B[39m\u001B[38;5;241m.\u001B[39m__add_new_data(\u001B[43mexec_data\u001B[49m, fitness, fittest_individuals)\n",
      "\u001B[0;31mNameError\u001B[0m: name 'exec_data' is not defined"
     ]
    }
   ],
   "source": [
    "epp.execute()"
   ]
  },
  {
   "cell_type": "code",
   "execution_count": null,
   "metadata": {},
   "outputs": [],
   "source": []
  },
  {
   "cell_type": "code",
   "execution_count": null,
   "metadata": {},
   "outputs": [],
   "source": []
  }
 ],
 "metadata": {
  "kernelspec": {
   "display_name": "Python 3 (ipykernel)",
   "language": "python",
   "name": "python3"
  },
  "language_info": {
   "codemirror_mode": {
    "name": "ipython",
    "version": 3
   },
   "file_extension": ".py",
   "mimetype": "text/x-python",
   "name": "python",
   "nbconvert_exporter": "python",
   "pygments_lexer": "ipython3",
   "version": "3.10.6"
  }
 },
 "nbformat": 4,
 "nbformat_minor": 1
}
