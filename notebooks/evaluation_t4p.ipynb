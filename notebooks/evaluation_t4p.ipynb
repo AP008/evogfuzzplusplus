{
 "cells": [
  {
   "cell_type": "markdown",
   "metadata": {},
   "source": [
    "Evaluation with Tests4Py\n",
    "==="
   ]
  },
  {
   "cell_type": "code",
   "execution_count": 1,
   "metadata": {},
   "outputs": [],
   "source": [
    "# !pip install git+https://github.com/smythi93/Tests4Py.git"
   ]
  },
  {
   "cell_type": "code",
   "execution_count": 2,
   "metadata": {},
   "outputs": [
    {
     "name": "stderr",
     "output_type": "stream",
     "text": [
      "tests4py :: INFO     :: Loading projects\n"
     ]
    }
   ],
   "source": [
    "from tests4py import framework"
   ]
  },
  {
   "cell_type": "code",
   "execution_count": 3,
   "metadata": {},
   "outputs": [
    {
     "name": "stdout",
     "output_type": "stream",
     "text": [
      "The existing subjects in Tests4Py:\n",
      "\n",
      "╒══════════════╤══════════╕\n",
      "│ project      │   # bugs │\n",
      "╞══════════════╪══════════╡\n",
      "│ ansible      │       18 │\n",
      "├──────────────┼──────────┤\n",
      "│ black        │       23 │\n",
      "├──────────────┼──────────┤\n",
      "│ cookiecutter │        4 │\n",
      "├──────────────┼──────────┤\n",
      "│ fastapi      │       16 │\n",
      "├──────────────┼──────────┤\n",
      "│ httpie       │        5 │\n",
      "├──────────────┼──────────┤\n",
      "│ keras        │       45 │\n",
      "├──────────────┼──────────┤\n",
      "│ luigi        │       32 │\n",
      "├──────────────┼──────────┤\n",
      "│ matplotlib   │       30 │\n",
      "├──────────────┼──────────┤\n",
      "│ pandas       │      169 │\n",
      "├──────────────┼──────────┤\n",
      "│ pysnooper    │        3 │\n",
      "├──────────────┼──────────┤\n",
      "│ sanic        │        5 │\n",
      "├──────────────┼──────────┤\n",
      "│ scrapy       │       40 │\n",
      "├──────────────┼──────────┤\n",
      "│ spacy        │       10 │\n",
      "├──────────────┼──────────┤\n",
      "│ thefuck      │       32 │\n",
      "├──────────────┼──────────┤\n",
      "│ tornado      │       16 │\n",
      "├──────────────┼──────────┤\n",
      "│ tqdm         │        9 │\n",
      "╘══════════════╧══════════╛\n",
      "\n",
      "Set a project to get further information.\n"
     ]
    },
    {
     "data": {
      "text/plain": [
       "{\n",
       "    \"command\": \"info\",\n",
       "    \"successful\": true\n",
       "}"
      ]
     },
     "execution_count": 3,
     "metadata": {},
     "output_type": "execute_result"
    }
   ],
   "source": [
    "framework.default.tests4py_info()"
   ]
  },
  {
   "cell_type": "code",
   "execution_count": 4,
   "metadata": {},
   "outputs": [
    {
     "name": "stdout",
     "output_type": "stream",
     "text": [
      "Information for project cookiecutter:\n",
      "\n",
      "╒════════╤══════════════════════════════════════════════╕\n",
      "│ Name   │ cookiecutter                                 │\n",
      "├────────┼──────────────────────────────────────────────┤\n",
      "│ URL    │ https://github.com/cookiecutter/cookiecutter │\n",
      "├────────┼──────────────────────────────────────────────┤\n",
      "│ Status │ Status.OK                                    │\n",
      "├────────┼──────────────────────────────────────────────┤\n",
      "│ Bugs   │ 4                                            │\n",
      "╘════════╧══════════════════════════════════════════════╛\n",
      "\n"
     ]
    },
    {
     "data": {
      "text/plain": [
       "{\n",
       "    \"command\": \"info\",\n",
       "    \"successful\": true,\n",
       "    \"project\": \"cookiecutter\"\n",
       "}"
      ]
     },
     "execution_count": 4,
     "metadata": {},
     "output_type": "execute_result"
    }
   ],
   "source": [
    "framework.default.tests4py_info(\"cookiecutter\")"
   ]
  },
  {
   "cell_type": "code",
   "execution_count": 5,
   "metadata": {},
   "outputs": [],
   "source": [
    "from pathlib import Path"
   ]
  },
  {
   "cell_type": "code",
   "execution_count": 6,
   "metadata": {},
   "outputs": [
    {
     "name": "stderr",
     "output_type": "stream",
     "text": [
      "tests4py :: INFO     :: PROJECT_NAME: cookiecutter\n",
      "tests4py :: INFO     :: BUG_ID: 2\n",
      "tests4py :: INFO     :: FIXED: False\n",
      "tests4py :: INFO     :: WORK_DIR: /Users/martineberlein/github/EvoGFuzzplusplus/notebooks/tmp\n",
      "tests4py :: INFO     :: Loading projects\n",
      "tests4py :: INFO     :: Copying https://github.com/cookiecutter/cookiecutter from /Users/martineberlein/.t4p/projects/cookiecutter into /Users/martineberlein/github/EvoGFuzzplusplus/notebooks/tmp/cookiecutter_2... \n",
      "tests4py :: INFO     :: Entering dir /Users/martineberlein/github/EvoGFuzzplusplus/notebooks/tmp/cookiecutter_2\n",
      "tests4py :: INFO     :: Resetting git at /Users/martineberlein/github/EvoGFuzzplusplus/notebooks/tmp/cookiecutter_2 to 90434ff4ea4477941444f1e83313beb414838535\n",
      "tests4py :: INFO     :: Creating tmp location at /Users/martineberlein/github/EvoGFuzzplusplus/notebooks/tmp/tmp_cookiecutter\n",
      "tests4py :: INFO     :: Copying required files to /Users/martineberlein/github/EvoGFuzzplusplus/notebooks/tmp/tmp_cookiecutter\n",
      "tests4py :: INFO     :: Checkout buggy commit id d7e7b28811e474e14d1bed747115e47dcdd15ba3\n",
      "tests4py :: INFO     :: Copying required files from /Users/martineberlein/github/EvoGFuzzplusplus/notebooks/tmp/tmp_cookiecutter\n",
      "tests4py :: INFO     :: Create info file\n",
      "tests4py :: INFO     :: Copying resources for cookiecutter_2\n"
     ]
    },
    {
     "name": "stdout",
     "output_type": "stream",
     "text": [
      "HEAD is now at 90434ff Changed: Generated projects can use multiple type hooks at same time. (sh + py) (#974)\n",
      "HEAD is now at d7e7b28 Render path templates in copy_wihtout_render (fix #456) (#839)\n"
     ]
    },
    {
     "data": {
      "text/plain": [
       "{\n",
       "    \"command\": \"checkout\",\n",
       "    \"successful\": true,\n",
       "    \"project\": \"cookiecutter_2\"\n",
       "}"
      ]
     },
     "execution_count": 6,
     "metadata": {},
     "output_type": "execute_result"
    }
   ],
   "source": [
    "framework.default.tests4py_checkout(\"cookiecutter\", 2, fixed=False, work_dir=Path(\"tmp\").absolute())"
   ]
  },
  {
   "cell_type": "code",
   "execution_count": 8,
   "metadata": {},
   "outputs": [
    {
     "name": "stderr",
     "output_type": "stream",
     "text": [
      "tests4py :: INFO     :: Entering dir /Users/martineberlein/github/EvoGFuzzplusplus/notebooks/tmp/cookiecutter_2\n",
      "tests4py :: INFO     :: Checking whether Tests4Py project\n"
     ]
    },
    {
     "data": {
      "text/plain": [
       "{\n",
       "    \"command\": \"compile\",\n",
       "    \"successful\": false,\n",
       "    \"raised\": \"ValueError('No Tests4Py project found in /Users/martineberlein/github/EvoGFuzzplusplus/notebooks/tmp/cookiecutter_2, no tests4py_requirements')\"\n",
       "}"
      ]
     },
     "execution_count": 8,
     "metadata": {},
     "output_type": "execute_result"
    }
   ],
   "source": [
    "framework.default.tests4py_compile(Path(\"tmp\", \"cookiecutter_2\").absolute())"
   ]
  },
  {
   "cell_type": "code",
   "execution_count": null,
   "metadata": {},
   "outputs": [],
   "source": [
    " "
   ]
  }
 ],
 "metadata": {
  "kernelspec": {
   "display_name": "Python 3 (ipykernel)",
   "language": "python",
   "name": "python3"
  },
  "language_info": {
   "codemirror_mode": {
    "name": "ipython",
    "version": 3
   },
   "file_extension": ".py",
   "mimetype": "text/x-python",
   "name": "python",
   "nbconvert_exporter": "python",
   "pygments_lexer": "ipython3",
   "version": "3.10.9"
  }
 },
 "nbformat": 4,
 "nbformat_minor": 4
}
