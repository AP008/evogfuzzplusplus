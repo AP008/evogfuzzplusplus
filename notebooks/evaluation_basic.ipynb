{
 "cells": [
  {
   "cell_type": "markdown",
   "metadata": {
    "collapsed": false,
    "jupyter": {
     "outputs_hidden": false
    }
   },
   "source": [
    "EvoGGen vs. Alhazen-py\n",
    "==="
   ]
  },
  {
   "cell_type": "code",
   "execution_count": 1,
   "metadata": {
    "collapsed": false,
    "jupyter": {
     "outputs_hidden": false
    }
   },
   "outputs": [],
   "source": [
    "# !pip install alhazen-py"
   ]
  },
  {
   "cell_type": "code",
   "execution_count": 2,
   "metadata": {},
   "outputs": [],
   "source": [
    "from evogfuzz_formalizations.calculator import grammar as grammar, initial_inputs"
   ]
  },
  {
   "cell_type": "code",
   "execution_count": 3,
   "metadata": {},
   "outputs": [],
   "source": [
    "import string\n",
    "\n",
    "grammar = {\n",
    "    \"<start>\":\n",
    "        [\"<function>(<term>)\"],\n",
    "\n",
    "    \"<function>\":\n",
    "        [\"sqrt\", \"tan\", \"cos\", \"sin\"],\n",
    "    \n",
    "    \"<term>\": [\"-<value>\", \"<value>\"], \n",
    "    \n",
    "    \"<value>\":\n",
    "        [\"<integer>.<integer>\",\n",
    "         \"<integer>\"],\n",
    "\n",
    "    \"<integer>\":\n",
    "        [\"<digit><integer>\", \"<digit>\"],\n",
    "\n",
    "    \"<digit>\":\n",
    "        [\"1\", \"2\", \"3\", \"4\", \"5\", \"6\", \"7\", \"8\", \"9\"]\n",
    "}\n",
    "    "
   ]
  },
  {
   "cell_type": "code",
   "execution_count": 4,
   "metadata": {},
   "outputs": [
    {
     "name": "stdout",
     "output_type": "stream",
     "text": [
      "cos(12)\n",
      "sqrt(-900)\n"
     ]
    }
   ],
   "source": [
    "for inp in initial_inputs:\n",
    "    print(inp)"
   ]
  },
  {
   "cell_type": "code",
   "execution_count": 5,
   "metadata": {},
   "outputs": [],
   "source": [
    "from evogfuzz.oracle import OracleResult\n",
    "import math\n",
    "\n",
    "def arith_eval(inp) -> float:\n",
    "    return eval(\n",
    "        str(inp), {\"sqrt\": math.sqrt, \"sin\": math.sin, \"cos\": math.cos, \"tan\": math.tan}\n",
    "    )\n",
    "\n",
    "def oracle(inp: str) -> OracleResult:\n",
    "    try:\n",
    "        arith_eval(inp)\n",
    "        return OracleResult.NO_BUG\n",
    "    except ValueError:\n",
    "        return OracleResult.BUG\n",
    "    \n",
    "    return OracleResult.NO_BUG"
   ]
  },
  {
   "cell_type": "markdown",
   "metadata": {},
   "source": [
    "## EvoGGen"
   ]
  },
  {
   "cell_type": "code",
   "execution_count": 6,
   "metadata": {},
   "outputs": [],
   "source": [
    "from evogfuzz.evogfuzz_class import EvoGGen\n",
    "\n",
    "egg = EvoGGen(\n",
    "    grammar=grammar,\n",
    "    inputs=[\"sqrt(-1)\"],\n",
    "    oracle=oracle,\n",
    "    transform_grammar=True,\n",
    "    iterations=20\n",
    ")"
   ]
  },
  {
   "cell_type": "code",
   "execution_count": 7,
   "metadata": {},
   "outputs": [],
   "source": [
    "failure_inducing_grammar, failing_inputs = egg.optimize()"
   ]
  },
  {
   "cell_type": "code",
   "execution_count": 8,
   "metadata": {},
   "outputs": [
    {
     "name": "stdout",
     "output_type": "stream",
     "text": [
      "sqrt(-8.85) BUG\n",
      "sqrt(-8558585.885) BUG\n",
      "sqrt(-8.5851) BUG\n",
      "sqrt(-58858.858885) BUG\n",
      "sqrt(-1.8885) BUG\n",
      "sqrt(-55.5588) BUG\n",
      "sqrt(-8551.8855855888) BUG\n",
      "sqrt(-58.58858) BUG\n",
      "sqrt(-5858555885585858.555) BUG\n",
      "sqrt(-55888.88888) BUG\n",
      "sqrt(-1) BUG\n",
      "sqrt(-585.8585) BUG\n",
      "sqrt(-888885858.55885588) BUG\n",
      "sqrt(-5.8) BUG\n",
      "sqrt(-5.888) BUG\n",
      "sqrt(-1) BUG\n",
      "sqrt(-81.55851) BUG\n",
      "sqrt(-88.851) BUG\n",
      "sqrt(-58881.1) BUG\n",
      "sqrt(-5.58) BUG\n"
     ]
    }
   ],
   "source": [
    "for inp in list(failing_inputs)[:20]:\n",
    "    print(inp, oracle(inp))"
   ]
  },
  {
   "cell_type": "code",
   "execution_count": 9,
   "metadata": {},
   "outputs": [
    {
     "data": {
      "text/plain": [
       "{'<start>': [('<rules>', {'prob': None})],\n",
       " '<function>': [('sqrt', {'prob': 1.0}),\n",
       "  ('tan', {'prob': 0.0}),\n",
       "  ('cos', {'prob': 0.0}),\n",
       "  ('sin', {'prob': 0.0})],\n",
       " '<term>': [('-<value>', {'prob': 1.0}),\n",
       "  ('<value>', {'prob': 0.0}),\n",
       "  ('-1', {'prob': 0.0})],\n",
       " '<value>': [('<integer>.<integer>', {'prob': 1.0}),\n",
       "  ('<integer>', {'prob': 0.0}),\n",
       "  ('1', {'prob': 0.0})],\n",
       " '<integer>': [('<digit><integer>', {'prob': 0.6565295169946332}),\n",
       "  ('<digit>', {'prob': 0.22182468694096602}),\n",
       "  ('1', {'prob': 0.12164579606440072})],\n",
       " '<digit>': [('1', {'prob': 0.0}),\n",
       "  ('2', {'prob': 0.0}),\n",
       "  ('3', {'prob': 0.0}),\n",
       "  ('4', {'prob': 0.0}),\n",
       "  ('5', {'prob': 0.48879837067209775}),\n",
       "  ('6', {'prob': 0.0}),\n",
       "  ('7', {'prob': 0.0}),\n",
       "  ('8', {'prob': 0.5112016293279023}),\n",
       "  ('9', {'prob': 0.0})],\n",
       " '<rules>': [('<function>(<term>)', {'prob': 0.9948186528497409}),\n",
       "  ('sqrt(-1)', {'prob': 0.0051813471502590676})]}"
      ]
     },
     "execution_count": 9,
     "metadata": {},
     "output_type": "execute_result"
    }
   ],
   "source": [
    "failure_inducing_grammar"
   ]
  },
  {
   "cell_type": "markdown",
   "metadata": {},
   "source": [
    "### Evaluation"
   ]
  },
  {
   "cell_type": "code",
   "execution_count": 10,
   "metadata": {},
   "outputs": [],
   "source": [
    "# !pip install timer"
   ]
  },
  {
   "cell_type": "code",
   "execution_count": 11,
   "metadata": {},
   "outputs": [
    {
     "name": "stdout",
     "output_type": "stream",
     "text": [
      "0.5334895000560209\n"
     ]
    }
   ],
   "source": [
    "from fuzzingbook.ProbabilisticGrammarFuzzer import ProbabilisticGrammarFuzzer\n",
    "from isla.language import DerivationTree\n",
    "from evogfuzz.input import Input\n",
    "from timer import timer\n",
    "\n",
    "evoggen_generator = ProbabilisticGrammarFuzzer(failure_inducing_grammar)\n",
    "\n",
    "generated_samples = list()\n",
    "with timer() as t:\n",
    "    for _ in range(1000):\n",
    "        inp = evoggen_generator.fuzz_tree()\n",
    "        generated_samples.append(inp)\n",
    "print(t.elapse)"
   ]
  },
  {
   "cell_type": "code",
   "execution_count": 12,
   "metadata": {},
   "outputs": [],
   "source": [
    "from fuzzingbook.Parser import tree_to_string\n",
    "clean_eval_data = set()\n",
    "for inp in generated_samples:\n",
    "    clean_eval_data.add(\n",
    "        Input(\n",
    "            tree=DerivationTree.from_parse_tree(\n",
    "                inp\n",
    "            ),\n",
    "            oracle=oracle(tree_to_string(inp))\n",
    "        )\n",
    "    )"
   ]
  },
  {
   "cell_type": "code",
   "execution_count": 13,
   "metadata": {},
   "outputs": [
    {
     "name": "stdout",
     "output_type": "stream",
     "text": [
      "655\n",
      "time per inp: 0.0008144877863450701\n"
     ]
    }
   ],
   "source": [
    "print(len(clean_eval_data))\n",
    "print(f\"time per inp: {t.elapse/len(clean_eval_data)}\")"
   ]
  },
  {
   "cell_type": "code",
   "execution_count": 14,
   "metadata": {},
   "outputs": [
    {
     "name": "stdout",
     "output_type": "stream",
     "text": [
      "sqrt(-8.5558581) BUG\n",
      "sqrt(-1.8585) BUG\n",
      "sqrt(-85858.588) BUG\n",
      "sqrt(-558.58) BUG\n",
      "sqrt(-55555.85) BUG\n",
      "sqrt(-1.8885) BUG\n",
      "sqrt(-581.85) BUG\n",
      "sqrt(-5888.85) BUG\n",
      "sqrt(-81.555) BUG\n",
      "sqrt(-888588885855.551) BUG\n"
     ]
    }
   ],
   "source": [
    "for inp in list(clean_eval_data)[:10]:\n",
    "    print(str(inp), inp.oracle)"
   ]
  },
  {
   "cell_type": "markdown",
   "metadata": {},
   "source": [
    "## Alhazen"
   ]
  },
  {
   "cell_type": "code",
   "execution_count": 15,
   "metadata": {},
   "outputs": [],
   "source": [
    "# !pip uninstall -y alhazen-py"
   ]
  },
  {
   "cell_type": "code",
   "execution_count": 16,
   "metadata": {},
   "outputs": [],
   "source": [
    "# !pip install git+https://github.com/martineberlein/alhazen-py.git@dev"
   ]
  },
  {
   "cell_type": "code",
   "execution_count": 17,
   "metadata": {},
   "outputs": [],
   "source": [
    "from alhazen.oracle import OracleResult\n",
    "\n",
    "def oracle_alhazen(inp: str) -> OracleResult:\n",
    "    try:\n",
    "        arith_eval(inp)\n",
    "        return OracleResult.NO_BUG\n",
    "    except ValueError:\n",
    "        return OracleResult.BUG\n",
    "    return OracleResult.UNDEF"
   ]
  },
  {
   "cell_type": "code",
   "execution_count": 18,
   "metadata": {},
   "outputs": [],
   "source": [
    "from alhazen import Alhazen\n",
    "from alhazen.features import EXISTENCE_FEATURE, NUMERIC_INTERPRETATION_FEATURE\n",
    "\n",
    "alhazen = Alhazen(\n",
    "    initial_inputs=[\"sqrt(-1)\", \"cos(9)\"],\n",
    "    grammar=grammar,\n",
    "    evaluation_function=oracle_alhazen,\n",
    "    features={EXISTENCE_FEATURE, NUMERIC_INTERPRETATION_FEATURE}\n",
    ")\n",
    "trees = alhazen.run()"
   ]
  },
  {
   "cell_type": "code",
   "execution_count": 19,
   "metadata": {},
   "outputs": [
    {
     "data": {
      "image/svg+xml": [
       "<?xml version=\"1.0\" encoding=\"UTF-8\" standalone=\"no\"?>\n",
       "<!DOCTYPE svg PUBLIC \"-//W3C//DTD SVG 1.1//EN\"\n",
       " \"http://www.w3.org/Graphics/SVG/1.1/DTD/svg11.dtd\">\n",
       "<!-- Generated by graphviz version 7.1.0 (20230121.1956)\n",
       " -->\n",
       "<!-- Title: Tree Pages: 1 -->\n",
       "<svg width=\"400pt\" height=\"314pt\"\n",
       " viewBox=\"0.00 0.00 400.00 314.00\" xmlns=\"http://www.w3.org/2000/svg\" xmlns:xlink=\"http://www.w3.org/1999/xlink\">\n",
       "<g id=\"graph0\" class=\"graph\" transform=\"scale(1 1) rotate(0) translate(4 310)\">\n",
       "<title>Tree</title>\n",
       "<polygon fill=\"white\" stroke=\"none\" points=\"-4,4 -4,-310 396,-310 396,4 -4,4\"/>\n",
       "<!-- 0 -->\n",
       "<g id=\"node1\" class=\"node\">\n",
       "<title>0</title>\n",
       "<path fill=\"#ffffff\" stroke=\"black\" d=\"M257.5,-306C257.5,-306 68.5,-306 68.5,-306 62.5,-306 56.5,-300 56.5,-294 56.5,-294 56.5,-235 56.5,-235 56.5,-229 62.5,-223 68.5,-223 68.5,-223 257.5,-223 257.5,-223 263.5,-223 269.5,-229 269.5,-235 269.5,-235 269.5,-294 269.5,-294 269.5,-300 263.5,-306 257.5,-306\"/>\n",
       "<text text-anchor=\"middle\" x=\"163\" y=\"-290.8\" font-family=\"Helvetica,sans-Serif\" font-size=\"14.00\">exists(&lt;function&gt; == sqrt) &lt;= 0.5</text>\n",
       "<text text-anchor=\"middle\" x=\"163\" y=\"-275.8\" font-family=\"Helvetica,sans-Serif\" font-size=\"14.00\">gini = 0.5</text>\n",
       "<text text-anchor=\"middle\" x=\"163\" y=\"-260.8\" font-family=\"Helvetica,sans-Serif\" font-size=\"14.00\">samples = 44</text>\n",
       "<text text-anchor=\"middle\" x=\"163\" y=\"-245.8\" font-family=\"Helvetica,sans-Serif\" font-size=\"14.00\">value = [1.0, 1.0]</text>\n",
       "<text text-anchor=\"middle\" x=\"163\" y=\"-230.8\" font-family=\"Helvetica,sans-Serif\" font-size=\"14.00\">class = NO_BUG</text>\n",
       "</g>\n",
       "<!-- 1 -->\n",
       "<g id=\"node2\" class=\"node\">\n",
       "<title>1</title>\n",
       "<path fill=\"#399de5\" stroke=\"black\" d=\"M120,-179.5C120,-179.5 12,-179.5 12,-179.5 6,-179.5 0,-173.5 0,-167.5 0,-167.5 0,-123.5 0,-123.5 0,-117.5 6,-111.5 12,-111.5 12,-111.5 120,-111.5 120,-111.5 126,-111.5 132,-117.5 132,-123.5 132,-123.5 132,-167.5 132,-167.5 132,-173.5 126,-179.5 120,-179.5\"/>\n",
       "<text text-anchor=\"middle\" x=\"66\" y=\"-164.3\" font-family=\"Helvetica,sans-Serif\" font-size=\"14.00\">gini = &#45;0.0</text>\n",
       "<text text-anchor=\"middle\" x=\"66\" y=\"-149.3\" font-family=\"Helvetica,sans-Serif\" font-size=\"14.00\">samples = 29</text>\n",
       "<text text-anchor=\"middle\" x=\"66\" y=\"-134.3\" font-family=\"Helvetica,sans-Serif\" font-size=\"14.00\">value = [0.0, 0.806]</text>\n",
       "<text text-anchor=\"middle\" x=\"66\" y=\"-119.3\" font-family=\"Helvetica,sans-Serif\" font-size=\"14.00\">class = NO_BUG</text>\n",
       "</g>\n",
       "<!-- 0&#45;&gt;1 -->\n",
       "<g id=\"edge1\" class=\"edge\">\n",
       "<title>0&#45;&gt;1</title>\n",
       "<path fill=\"none\" stroke=\"black\" d=\"M129.07,-222.58C119.94,-211.56 110.03,-199.61 100.85,-188.53\"/>\n",
       "<polygon fill=\"black\" stroke=\"black\" points=\"103.7,-186.49 94.62,-181.03 98.31,-190.96 103.7,-186.49\"/>\n",
       "<text text-anchor=\"middle\" x=\"91.33\" y=\"-201.05\" font-family=\"Helvetica,sans-Serif\" font-size=\"14.00\">True</text>\n",
       "</g>\n",
       "<!-- 2 -->\n",
       "<g id=\"node3\" class=\"node\">\n",
       "<title>2</title>\n",
       "<path fill=\"#ea9a60\" stroke=\"black\" d=\"M358,-187C358,-187 162,-187 162,-187 156,-187 150,-181 150,-175 150,-175 150,-116 150,-116 150,-110 156,-104 162,-104 162,-104 358,-104 358,-104 364,-104 370,-110 370,-116 370,-116 370,-175 370,-175 370,-181 364,-187 358,-187\"/>\n",
       "<text text-anchor=\"middle\" x=\"260\" y=\"-171.8\" font-family=\"Helvetica,sans-Serif\" font-size=\"14.00\">exists(&lt;term&gt; == &lt;value&gt;) &lt;= 0.5</text>\n",
       "<text text-anchor=\"middle\" x=\"260\" y=\"-156.8\" font-family=\"Helvetica,sans-Serif\" font-size=\"14.00\">gini = 0.273</text>\n",
       "<text text-anchor=\"middle\" x=\"260\" y=\"-141.8\" font-family=\"Helvetica,sans-Serif\" font-size=\"14.00\">samples = 15</text>\n",
       "<text text-anchor=\"middle\" x=\"260\" y=\"-126.8\" font-family=\"Helvetica,sans-Serif\" font-size=\"14.00\">value = [1.0, 0.194]</text>\n",
       "<text text-anchor=\"middle\" x=\"260\" y=\"-111.8\" font-family=\"Helvetica,sans-Serif\" font-size=\"14.00\">class = BUG</text>\n",
       "</g>\n",
       "<!-- 0&#45;&gt;2 -->\n",
       "<g id=\"edge2\" class=\"edge\">\n",
       "<title>0&#45;&gt;2</title>\n",
       "<path fill=\"none\" stroke=\"black\" d=\"M196.93,-222.58C204.06,-213.98 211.65,-204.82 219,-195.95\"/>\n",
       "<polygon fill=\"black\" stroke=\"black\" points=\"221.6,-198.3 225.29,-188.37 216.21,-193.83 221.6,-198.3\"/>\n",
       "<text text-anchor=\"middle\" x=\"228.58\" y=\"-208.39\" font-family=\"Helvetica,sans-Serif\" font-size=\"14.00\">False</text>\n",
       "</g>\n",
       "<!-- 3 -->\n",
       "<g id=\"node4\" class=\"node\">\n",
       "<title>3</title>\n",
       "<path fill=\"#e58139\" stroke=\"black\" d=\"M229.5,-68C229.5,-68 158.5,-68 158.5,-68 152.5,-68 146.5,-62 146.5,-56 146.5,-56 146.5,-12 146.5,-12 146.5,-6 152.5,0 158.5,0 158.5,0 229.5,0 229.5,0 235.5,0 241.5,-6 241.5,-12 241.5,-12 241.5,-56 241.5,-56 241.5,-62 235.5,-68 229.5,-68\"/>\n",
       "<text text-anchor=\"middle\" x=\"194\" y=\"-52.8\" font-family=\"Helvetica,sans-Serif\" font-size=\"14.00\">gini = 0.0</text>\n",
       "<text text-anchor=\"middle\" x=\"194\" y=\"-37.8\" font-family=\"Helvetica,sans-Serif\" font-size=\"14.00\">samples = 8</text>\n",
       "<text text-anchor=\"middle\" x=\"194\" y=\"-22.8\" font-family=\"Helvetica,sans-Serif\" font-size=\"14.00\">value = [1, 0]</text>\n",
       "<text text-anchor=\"middle\" x=\"194\" y=\"-7.8\" font-family=\"Helvetica,sans-Serif\" font-size=\"14.00\">class = BUG</text>\n",
       "</g>\n",
       "<!-- 2&#45;&gt;3 -->\n",
       "<g id=\"edge3\" class=\"edge\">\n",
       "<title>2&#45;&gt;3</title>\n",
       "<path fill=\"none\" stroke=\"black\" d=\"M235.42,-103.73C230.37,-95.34 225.03,-86.47 219.92,-78.01\"/>\n",
       "<polygon fill=\"black\" stroke=\"black\" points=\"223.01,-76.35 214.85,-69.6 217.02,-79.97 223.01,-76.35\"/>\n",
       "</g>\n",
       "<!-- 6 -->\n",
       "<g id=\"node5\" class=\"node\">\n",
       "<title>6</title>\n",
       "<path fill=\"#399de5\" stroke=\"black\" d=\"M380,-68C380,-68 272,-68 272,-68 266,-68 260,-62 260,-56 260,-56 260,-12 260,-12 260,-6 266,0 272,0 272,0 380,0 380,0 386,0 392,-6 392,-12 392,-12 392,-56 392,-56 392,-62 386,-68 380,-68\"/>\n",
       "<text text-anchor=\"middle\" x=\"326\" y=\"-52.8\" font-family=\"Helvetica,sans-Serif\" font-size=\"14.00\">gini = &#45;0.0</text>\n",
       "<text text-anchor=\"middle\" x=\"326\" y=\"-37.8\" font-family=\"Helvetica,sans-Serif\" font-size=\"14.00\">samples = 7</text>\n",
       "<text text-anchor=\"middle\" x=\"326\" y=\"-22.8\" font-family=\"Helvetica,sans-Serif\" font-size=\"14.00\">value = [0.0, 0.194]</text>\n",
       "<text text-anchor=\"middle\" x=\"326\" y=\"-7.8\" font-family=\"Helvetica,sans-Serif\" font-size=\"14.00\">class = NO_BUG</text>\n",
       "</g>\n",
       "<!-- 2&#45;&gt;6 -->\n",
       "<g id=\"edge4\" class=\"edge\">\n",
       "<title>2&#45;&gt;6</title>\n",
       "<path fill=\"none\" stroke=\"black\" d=\"M284.58,-103.73C289.63,-95.34 294.97,-86.47 300.08,-78.01\"/>\n",
       "<polygon fill=\"black\" stroke=\"black\" points=\"302.98,-79.97 305.15,-69.6 296.99,-76.35 302.98,-79.97\"/>\n",
       "</g>\n",
       "</g>\n",
       "</svg>\n"
      ],
      "text/plain": [
       "<graphviz.sources.Source at 0x1097283d0>"
      ]
     },
     "execution_count": 19,
     "metadata": {},
     "output_type": "execute_result"
    }
   ],
   "source": [
    "alhazen.show_model()"
   ]
  },
  {
   "cell_type": "code",
   "execution_count": 23,
   "metadata": {},
   "outputs": [],
   "source": [
    "from alhazen.generator import AdvancedGenerator\n",
    "\n",
    "generator = AdvancedGenerator(grammar)\n",
    "\n",
    "tests = [10, 20, 50, 100, 500, 1000]\n",
    "times = list()\n",
    "for test in tests:\n",
    "    test_samples = set()\n",
    "    with timer() as t:\n",
    "        for _ in range(test):\n",
    "            inp = (alhazen.generate(bug_triggering=True, generator=generator))\n",
    "            # print(inp)\n",
    "            test_samples.add(inp)\n",
    "    times.append(t.elapse)"
   ]
  },
  {
   "cell_type": "code",
   "execution_count": 24,
   "metadata": {},
   "outputs": [
    {
     "name": "stdout",
     "output_type": "stream",
     "text": [
      "[0.5462624579668045, 0.8942337499465793, 2.2087065409868956, 4.414274333044887, 22.10252979095094, 44.95534254203085]\n"
     ]
    }
   ],
   "source": [
    "print(times)"
   ]
  },
  {
   "cell_type": "code",
   "execution_count": 26,
   "metadata": {},
   "outputs": [
    {
     "data": {
      "text/plain": [
       "[<matplotlib.lines.Line2D at 0x152ad6b00>]"
      ]
     },
     "execution_count": 26,
     "metadata": {},
     "output_type": "execute_result"
    },
    {
     "data": {
      "image/png": "[encoded data removed]",
      "text/plain": [
       "<Figure size 640x480 with 1 Axes>"
      ]
     },
     "metadata": {},
     "output_type": "display_data"
    }
   ],
   "source": [
    "from matplotlib.pyplot import plot\n",
    "\n",
    "plot(times)"
   ]
  },
  {
   "cell_type": "code",
   "execution_count": 21,
   "metadata": {},
   "outputs": [
    {
     "name": "stdout",
     "output_type": "stream",
     "text": [
      "44.17613341694232\n",
      "641\n",
      "0.06891752483142327\n"
     ]
    }
   ],
   "source": [
    "print(t.elapse)\n",
    "print(len(test_samples))\n",
    "print(t.elapse/len(test_samples))"
   ]
  },
  {
   "cell_type": "code",
   "execution_count": 22,
   "metadata": {},
   "outputs": [
    {
     "name": "stdout",
     "output_type": "stream",
     "text": [
      "sqrt(-78)\n",
      "sqrt(-5.56)\n",
      "sqrt(-64.3)\n",
      "sqrt(-2.539)\n",
      "sqrt(-33.8)\n",
      "sqrt(-34.2)\n",
      "sqrt(-95)\n",
      "sqrt(-8.12)\n",
      "sqrt(-4462.43)\n",
      "sqrt(-78443)\n",
      "sqrt(-79)\n",
      "sqrt(-9336)\n",
      "sqrt(-56)\n",
      "sqrt(-35.7)\n",
      "sqrt(-54637.12)\n",
      "sqrt(-232459)\n",
      "sqrt(-9498)\n",
      "sqrt(-4.495)\n",
      "sqrt(-5124)\n",
      "sqrt(-48.3)\n"
     ]
    }
   ],
   "source": [
    "for inp in list(test_samples)[:20]:\n",
    "    print(inp)"
   ]
  },
  {
   "cell_type": "code",
   "execution_count": null,
   "metadata": {},
   "outputs": [],
   "source": []
  }
 ],
 "metadata": {
  "kernelspec": {
   "display_name": "Python 3 (ipykernel)",
   "language": "python",
   "name": "python3"
  },
  "language_info": {
   "codemirror_mode": {
    "name": "ipython",
    "version": 3
   },
   "file_extension": ".py",
   "mimetype": "text/x-python",
   "name": "python",
   "nbconvert_exporter": "python",
   "pygments_lexer": "ipython3",
   "version": "3.10.9"
  }
 },
 "nbformat": 4,
 "nbformat_minor": 4
}
