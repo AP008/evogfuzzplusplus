{
 "cells": [
  {
   "cell_type": "markdown",
   "metadata": {
    "pycharm": {
     "name": "#%% md\n"
    }
   },
   "source": [
    "# EvoGFuzz++"
   ]
  },
  {
   "cell_type": "code",
   "execution_count": null,
   "metadata": {
    "pycharm": {
     "name": "#%%\n"
    }
   },
   "outputs": [],
   "source": [
    "import string\n",
    "import math\n",
    "from fuzzingbook.Grammars import Grammar\n",
    "\n",
    "GRAMMAR: Grammar = {\n",
    "    \"<start>\": [\"<arith_expr>\"],\n",
    "    \"<arith_expr>\": [\"<function>(<number>)\"],\n",
    "    \"<function>\": [\"sqrt\", \"sin\", \"cos\", \"tan\"],\n",
    "    \"<number>\": [\"<maybe_minus><onenine><maybe_digits>\"],\n",
    "    \"<maybe_minus>\": [\"\", \"-\"],\n",
    "    \"<onenine>\": [str(num) for num in range(1, 10)],\n",
    "    \"<digit>\": list(string.digits),\n",
    "    \"<maybe_digits>\": [\"\", \"<digits>\"],\n",
    "    \"<digits>\": [\"<digit>\", \"<digit><digits>\"],\n",
    "}\n",
    "\n",
    "INITIAL_INPUTS = ['cos(10)', 'sqrt(28367)', 'tan(-12)', 'sqrt(-3)']"
   ]
  },
  {
   "cell_type": "markdown",
   "metadata": {
    "pycharm": {
     "name": "#%% md\n"
    }
   },
   "source": [
    "Let's parse the initial input files an observe if they are valid according to the grammar"
   ]
  },
  {
   "cell_type": "code",
   "execution_count": null,
   "metadata": {
    "pycharm": {
     "name": "#%%\n"
    }
   },
   "outputs": [],
   "source": [
    "from fuzzingbook.Parser import EarleyParser, tree_to_string, DerivationTree\n",
    "\n",
    "p = EarleyParser(GRAMMAR)\n",
    "\n",
    "for inp in INITIAL_INPUTS:\n",
    "    for tree in p.parse(inp):\n",
    "        assert tree_to_string(tree) == inp, f\"{tree} != {inp}\""
   ]
  },
  {
   "cell_type": "code",
   "execution_count": null,
   "metadata": {
    "pycharm": {
     "name": "#%%\n"
    }
   },
   "outputs": [],
   "source": [
    "def arith_eval(inp: DerivationTree) -> float:\n",
    "    return eval(str(inp), {\"sqrt\": math.sqrt, \"sin\": math.sin, \"cos\": math.cos, \"tan\": math.tan})\n",
    "\n",
    "# Returns true if an Error is found\n",
    "def prop(inp: DerivationTree) -> bool:\n",
    "    try:\n",
    "        arith_eval(inp)\n",
    "        return False\n",
    "    except ValueError:\n",
    "        return True\n"
   ]
  },
  {
   "cell_type": "code",
   "execution_count": null,
   "metadata": {
    "pycharm": {
     "name": "#%%\n"
    }
   },
   "outputs": [],
   "source": [
    "print([(x, prop(x)) for x in INITIAL_INPUTS])"
   ]
  },
  {
   "cell_type": "code",
   "execution_count": null,
   "metadata": {
    "pycharm": {
     "name": "#%%\n"
    }
   },
   "outputs": [],
   "source": [
    "from importlib import reload  # Not needed in Python 2\n",
    "import logging\n",
    "reload(logging)\n",
    "logging.basicConfig(\n",
    "    level=logging.DEBUG,\n",
    "    format=\"%(asctime)s:  %(message)s\"\n",
    ")"
   ]
  },
  {
   "cell_type": "code",
   "execution_count": null,
   "metadata": {
    "pycharm": {
     "name": "#%%\n"
    }
   },
   "outputs": [],
   "source": [
    "from evogfuzz.evogfuzz_class import EvoGFuzz\n",
    "from evogfuzz.fitness_functions import fitness_function_failure as fitness_function\n",
    "\n",
    "epp = EvoGFuzz(GRAMMAR,\n",
    "               prop,\n",
    "               INITIAL_INPUTS,\n",
    "               fitness_function=fitness_function,\n",
    "               iterations=10,\n",
    "               working_dir=None\n",
    "               )"
   ]
  },
  {
   "cell_type": "code",
   "execution_count": null,
   "metadata": {
    "pycharm": {
     "name": "#%%\n"
    }
   },
   "outputs": [],
   "source": [
    "epp.execute()"
   ]
  },
  {
   "cell_type": "code",
   "execution_count": null,
   "outputs": [],
   "source": [
    "display(epp._probabilistic_grammars)"
   ],
   "metadata": {
    "collapsed": false,
    "pycharm": {
     "name": "#%%\n"
    }
   }
  },
  {
   "cell_type": "code",
   "execution_count": null,
   "outputs": [],
   "source": [
    "from fuzzingbook.ProbabilisticGrammarFuzzer import ProbabilisticGrammarFuzzer\n",
    "\n",
    "prob_fuzzer = ProbabilisticGrammarFuzzer(epp._probabilistic_grammars[-1][0])\n",
    "\n",
    "for _ in range(1000):\n",
    "    inp = prob_fuzzer.fuzz()\n",
    "    print((inp, prop(inp)))\n"
   ],
   "metadata": {
    "collapsed": false,
    "pycharm": {
     "name": "#%%\n"
    }
   }
  },
  {
   "cell_type": "code",
   "execution_count": null,
   "outputs": [],
   "source": [
    "import pprint\n",
    "\n",
    "pprint.pprint(epp._probabilistic_grammars[-1][0])"
   ],
   "metadata": {
    "collapsed": false,
    "pycharm": {
     "name": "#%%\n"
    }
   }
  },
  {
   "cell_type": "code",
   "execution_count": null,
   "outputs": [],
   "source": [],
   "metadata": {
    "collapsed": false,
    "pycharm": {
     "name": "#%%\n",
     "is_executing": true
    }
   }
  },
  {
   "cell_type": "code",
   "execution_count": null,
   "outputs": [],
   "source": [],
   "metadata": {
    "collapsed": false,
    "pycharm": {
     "name": "#%%\n"
    }
   }
  }
 ],
 "metadata": {
  "kernelspec": {
   "display_name": "Python 3 (ipykernel)",
   "language": "python",
   "name": "python3"
  },
  "language_info": {
   "codemirror_mode": {
    "name": "ipython",
    "version": 3
   },
   "file_extension": ".py",
   "mimetype": "text/x-python",
   "name": "python",
   "nbconvert_exporter": "python",
   "pygments_lexer": "ipython3",
   "version": "3.10.6"
  }
 },
 "nbformat": 4,
 "nbformat_minor": 1
}