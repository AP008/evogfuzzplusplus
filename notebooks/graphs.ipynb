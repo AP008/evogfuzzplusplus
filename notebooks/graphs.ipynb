{
 "cells": [
  {
   "cell_type": "markdown",
   "source": [
    "# Analyze EvoGFuzz"
   ],
   "metadata": {
    "collapsed": false
   }
  },
  {
   "cell_type": "code",
   "execution_count": 31,
   "outputs": [],
   "source": [
    "from evogfuzz_formalizations.calculator import GRAMMAR, INITIAL_INPUTS, prop"
   ],
   "metadata": {
    "collapsed": false
   }
  },
  {
   "cell_type": "code",
   "execution_count": 32,
   "outputs": [],
   "source": [
    "from evogfuzz import EvoGFuzz"
   ],
   "metadata": {
    "collapsed": false
   }
  },
  {
   "cell_type": "code",
   "execution_count": 33,
   "outputs": [],
   "source": [
    "from importlib import reload  # Not needed in Python 2\n",
    "import logging\n",
    "reload(logging)\n",
    "logging.basicConfig(\n",
    "    level=logging.DEBUG,\n",
    "    format=\"%(asctime)s:  %(message)s\"\n",
    ")\n",
    "\n",
    "evogfuzz = EvoGFuzz(\n",
    "    grammar=GRAMMAR,\n",
    "    inputs=INITIAL_INPUTS,\n",
    "    prop=prop\n",
    ")"
   ],
   "metadata": {
    "collapsed": false
   }
  },
  {
   "cell_type": "code",
   "execution_count": 34,
   "outputs": [
    {
     "name": "stderr",
     "output_type": "stream",
     "text": [
      "2023-01-11 13:44:30,626:  Fuzzing with EvoGFuzz\n",
      "2023-01-11 13:44:30,627:  Executing input files\n",
      "2023-01-11 13:44:30,627:  exec: [False, False, False, False]\n",
      "2023-01-11 13:44:30,628:  inp: {'sqrt(28367)', 'cos(10)', 'sqrt(3)', 'tan(-12)'}\n",
      "2023-01-11 13:44:30,628:  zip_list: [('sqrt(28367)', False), ('cos(10)', False), ('sqrt(3)', False), ('tan(-12)', False)]\n",
      "2023-01-11 13:44:30,628:  New Learning.\n",
      "2023-01-11 13:44:30,630:  Learned probabilistic grammar:\n",
      "2023-01-11 13:44:30,630:  <start>                                 [('<arith_expr>', {'prob': None})]\n",
      "2023-01-11 13:44:30,631:  <arith_expr>                            [('<function>(<number>)', {'prob': None})]\n",
      "2023-01-11 13:44:30,631:  <function>                              [('sqrt', {'prob': 0.5}), ('sin', {'prob': 0.0}), ('cos', {'prob': 0.25}), ('tan', {'prob': 0.25})]\n",
      "2023-01-11 13:44:30,631:  <number>                                [('<maybe_minus><onenine><maybe_digits><maybe_frac>', {'prob': None})]\n",
      "2023-01-11 13:44:30,631:  <maybe_minus>                           [('', {'prob': 0.75}), ('-', {'prob': 0.25})]\n",
      "2023-01-11 13:44:30,631:  <onenine>                               [('1', {'prob': 0.5}), ('2', {'prob': 0.25}), ('3', {'prob': 0.25}), ('4', {'prob': 0.0}), ('5', {'prob': 0.0}), ('6', {'prob': 0.0}), ('7', {'prob': 0.0}), ('8', {'prob': 0.0}), ('9', {'prob': 0.0})]\n",
      "2023-01-11 13:44:30,632:  <digit>                                 [('0', {'prob': 0.16666666666666666}), ('1', {'prob': 0.0}), ('2', {'prob': 0.16666666666666666}), ('3', {'prob': 0.16666666666666666}), ('4', {'prob': 0.0}), ('5', {'prob': 0.0}), ('6', {'prob': 0.16666666666666666}), ('7', {'prob': 0.16666666666666666}), ('8', {'prob': 0.16666666666666666}), ('9', {'prob': 0.0})]\n",
      "2023-01-11 13:44:30,632:  <maybe_digits>                          [('', {'prob': 0.25}), ('<digits>', {'prob': 0.75})]\n",
      "2023-01-11 13:44:30,632:  <digits>                                [('<digit>', {'prob': 0.5}), ('<digit><digits>', {'prob': 0.5})]\n",
      "2023-01-11 13:44:30,632:  <maybe_frac>                            [('', {'prob': 1.0}), ('.<digits>', {'prob': 0.0})]\n",
      "2023-01-11 13:44:30,632:  Starting iteration 0\n",
      "2023-01-11 13:44:30,658:  Generated 82 unique inputs\n",
      "2023-01-11 13:44:30,658:  Executing input files\n",
      "2023-01-11 13:44:30,659:  Current probabilistic grammar achived a fitness of: 3\n",
      "2023-01-11 13:44:30,659:  Learning new Grammar\n",
      "2023-01-11 13:44:30,659:  ['sqrt(-26)', 'tan(178)', 'tan(130)', 'sqrt(17)', 'tan(30)', 'tan(-12)', 'sqrt(-28)', 'cos(22)', 'cos(-1)', 'sqrt(-30)']\n",
      "2023-01-11 13:44:30,663:  Mutating new Grammar\n",
      "2023-01-11 13:44:30,663:  Selected rule <maybe_digits> to be mutated.\n",
      "2023-01-11 13:44:30,664:  <start>                       [('<arith_expr>', {'prob': None})]\n",
      "2023-01-11 13:44:30,664:  <arith_expr>                  [('<function>(<number>)', {'prob': None})]\n",
      "2023-01-11 13:44:30,664:  <function>                    [('sqrt', {'prob': 0.4}), ('sin', {'prob': 0.0}), ('cos', {'prob': 0.2}), ('tan', {'prob': 0.4})]\n",
      "2023-01-11 13:44:30,664:  <number>                      [('<maybe_minus><onenine><maybe_digits><maybe_frac>', {'prob': None})]\n",
      "2023-01-11 13:44:30,665:  <maybe_minus>                 [('', {'prob': 0.5}), ('-', {'prob': 0.5})]\n",
      "2023-01-11 13:44:30,665:  <onenine>                     [('1', {'prob': 0.5}), ('2', {'prob': 0.3}), ('3', {'prob': 0.2}), ('4', {'prob': 0.0}), ('5', {'prob': 0.0}), ('6', {'prob': 0.0}), ('7', {'prob': 0.0}), ('8', {'prob': 0.0}), ('9', {'prob': 0.0})]\n",
      "2023-01-11 13:44:30,665:  <digit>                       [('0', {'prob': 0.2727272727272727}), ('1', {'prob': 0.0}), ('2', {'prob': 0.18181818181818182}), ('3', {'prob': 0.09090909090909091}), ('4', {'prob': 0.0}), ('5', {'prob': 0.0}), ('6', {'prob': 0.09090909090909091}), ('7', {'prob': 0.18181818181818182}), ('8', {'prob': 0.18181818181818182}), ('9', {'prob': 0.0})]\n",
      "2023-01-11 13:44:30,665:  <maybe_digits>                [('', {'prob': 0.5660729896592361}), ('<digits>', {'prob': 0.4339270103407638})]\n",
      "2023-01-11 13:44:30,665:  <digits>                      [('<digit>', {'prob': 0.8181818181818182}), ('<digit><digits>', {'prob': 0.18181818181818182})]\n",
      "2023-01-11 13:44:30,666:  <maybe_frac>                  [('', {'prob': 1.0}), ('.<digits>', {'prob': 0.0})]\n",
      "2023-01-11 13:44:30,666:  Starting iteration 1\n",
      "2023-01-11 13:44:30,687:  Generated 53 unique inputs\n",
      "2023-01-11 13:44:30,687:  Executing input files\n",
      "2023-01-11 13:44:30,688:  Current probabilistic grammar achived a fitness of: 3\n",
      "2023-01-11 13:44:30,689:  Learning new Grammar\n",
      "2023-01-11 13:44:30,689:  ['tan(-17)', 'sqrt(17)', 'tan(27)', 'cos(23)', 'tan(-30)', 'sqrt(-28)', 'sqrt(-17)', 'tan(26)', 'sqrt(-2763)', 'cos(-1)']\n",
      "2023-01-11 13:44:30,694:  Mutating new Grammar\n",
      "2023-01-11 13:44:30,694:  Selected rule <digits> to be mutated.\n",
      "2023-01-11 13:44:30,694:  <start>                       [('<arith_expr>', {'prob': None})]\n",
      "2023-01-11 13:44:30,695:  <arith_expr>                  [('<function>(<number>)', {'prob': None})]\n",
      "2023-01-11 13:44:30,695:  <function>                    [('sqrt', {'prob': 0.4}), ('sin', {'prob': 0.0}), ('cos', {'prob': 0.2}), ('tan', {'prob': 0.4})]\n",
      "2023-01-11 13:44:30,695:  <number>                      [('<maybe_minus><onenine><maybe_digits><maybe_frac>', {'prob': None})]\n",
      "2023-01-11 13:44:30,695:  <maybe_minus>                 [('', {'prob': 0.4}), ('-', {'prob': 0.6})]\n",
      "2023-01-11 13:44:30,696:  <onenine>                     [('1', {'prob': 0.4}), ('2', {'prob': 0.5}), ('3', {'prob': 0.1}), ('4', {'prob': 0.0}), ('5', {'prob': 0.0}), ('6', {'prob': 0.0}), ('7', {'prob': 0.0}), ('8', {'prob': 0.0}), ('9', {'prob': 0.0})]\n",
      "2023-01-11 13:44:30,696:  <digit>                       [('0', {'prob': 0.09090909090909091}), ('1', {'prob': 0.0}), ('2', {'prob': 0.0}), ('3', {'prob': 0.18181818181818182}), ('4', {'prob': 0.0}), ('5', {'prob': 0.0}), ('6', {'prob': 0.18181818181818182}), ('7', {'prob': 0.45454545454545453}), ('8', {'prob': 0.09090909090909091}), ('9', {'prob': 0.0})]\n",
      "2023-01-11 13:44:30,696:  <maybe_digits>                [('', {'prob': 0.1}), ('<digits>', {'prob': 0.9})]\n",
      "2023-01-11 13:44:30,696:  <digits>                      [('<digit>', {'prob': 0.8517267755914738}), ('<digit><digits>', {'prob': 0.14827322440852614})]\n",
      "2023-01-11 13:44:30,697:  <maybe_frac>                  [('', {'prob': 1.0}), ('.<digits>', {'prob': 0.0})]\n",
      "2023-01-11 13:44:30,697:  Starting iteration 2\n",
      "2023-01-11 13:44:30,719:  Generated 63 unique inputs\n",
      "2023-01-11 13:44:30,719:  Executing input files\n",
      "2023-01-11 13:44:30,720:  Current probabilistic grammar achived a fitness of: 2\n",
      "2023-01-11 13:44:30,720:  Learning new Grammar\n",
      "2023-01-11 13:44:30,720:  ['tan(-17)', 'sqrt(-276)', 'cos(20)', 'sqrt(17)', 'cos(-20)', 'sqrt(18)', 'sqrt(-23)', 'tan(27)', 'cos(13)', 'tan(-260)']\n",
      "2023-01-11 13:44:30,724:  Mutating new Grammar\n",
      "2023-01-11 13:44:30,724:  Selected rule <maybe_minus> to be mutated.\n",
      "2023-01-11 13:44:30,724:  <start>                       [('<arith_expr>', {'prob': None})]\n",
      "2023-01-11 13:44:30,724:  <arith_expr>                  [('<function>(<number>)', {'prob': None})]\n",
      "2023-01-11 13:44:30,725:  <function>                    [('sqrt', {'prob': 0.4}), ('sin', {'prob': 0.0}), ('cos', {'prob': 0.3}), ('tan', {'prob': 0.3})]\n",
      "2023-01-11 13:44:30,725:  <number>                      [('<maybe_minus><onenine><maybe_digits><maybe_frac>', {'prob': None})]\n",
      "2023-01-11 13:44:30,725:  <maybe_minus>                 [('', {'prob': 0.15888673461870345}), ('-', {'prob': 0.8411132653812966})]\n",
      "2023-01-11 13:44:30,725:  <onenine>                     [('1', {'prob': 0.4}), ('2', {'prob': 0.6}), ('3', {'prob': 0.0}), ('4', {'prob': 0.0}), ('5', {'prob': 0.0}), ('6', {'prob': 0.0}), ('7', {'prob': 0.0}), ('8', {'prob': 0.0}), ('9', {'prob': 0.0})]\n",
      "2023-01-11 13:44:30,725:  <digit>                       [('0', {'prob': 0.25}), ('1', {'prob': 0.0}), ('2', {'prob': 0.0}), ('3', {'prob': 0.16666666666666666}), ('4', {'prob': 0.0}), ('5', {'prob': 0.0}), ('6', {'prob': 0.16666666666666666}), ('7', {'prob': 0.3333333333333333}), ('8', {'prob': 0.08333333333333333}), ('9', {'prob': 0.0})]\n",
      "2023-01-11 13:44:30,725:  <maybe_digits>                [('', {'prob': 0.0}), ('<digits>', {'prob': 1.0})]\n",
      "2023-01-11 13:44:30,725:  <digits>                      [('<digit>', {'prob': 0.8333333333333334}), ('<digit><digits>', {'prob': 0.16666666666666666})]\n",
      "2023-01-11 13:44:30,726:  <maybe_frac>                  [('', {'prob': 1.0}), ('.<digits>', {'prob': 0.0})]\n",
      "2023-01-11 13:44:30,726:  Starting iteration 3\n",
      "2023-01-11 13:44:30,748:  Generated 50 unique inputs\n",
      "2023-01-11 13:44:30,749:  Executing input files\n",
      "2023-01-11 13:44:30,749:  Current probabilistic grammar achived a fitness of: 6\n",
      "2023-01-11 13:44:30,749:  Learning new Grammar\n",
      "2023-01-11 13:44:30,749:  ['tan(-17)', 'cos(20)', 'sqrt(-203)', 'cos(-20)', 'sqrt(-23)', 'sqrt(-28)', 'sqrt(-17)', 'cos(23)', 'sqrt(-263)', 'sqrt(-200)']\n",
      "2023-01-11 13:44:30,753:  Mutating new Grammar\n",
      "2023-01-11 13:44:30,753:  Selected rule <digits> to be mutated.\n",
      "2023-01-11 13:44:30,754:  <start>                       [('<arith_expr>', {'prob': None})]\n",
      "2023-01-11 13:44:30,754:  <arith_expr>                  [('<function>(<number>)', {'prob': None})]\n",
      "2023-01-11 13:44:30,754:  <function>                    [('sqrt', {'prob': 0.6}), ('sin', {'prob': 0.0}), ('cos', {'prob': 0.3}), ('tan', {'prob': 0.1})]\n",
      "2023-01-11 13:44:30,754:  <number>                      [('<maybe_minus><onenine><maybe_digits><maybe_frac>', {'prob': None})]\n",
      "2023-01-11 13:44:30,754:  <maybe_minus>                 [('', {'prob': 0.2}), ('-', {'prob': 0.8})]\n",
      "2023-01-11 13:44:30,754:  <onenine>                     [('1', {'prob': 0.2}), ('2', {'prob': 0.8}), ('3', {'prob': 0.0}), ('4', {'prob': 0.0}), ('5', {'prob': 0.0}), ('6', {'prob': 0.0}), ('7', {'prob': 0.0}), ('8', {'prob': 0.0}), ('9', {'prob': 0.0})]\n",
      "2023-01-11 13:44:30,755:  <digit>                       [('0', {'prob': 0.38461538461538464}), ('1', {'prob': 0.0}), ('2', {'prob': 0.0}), ('3', {'prob': 0.3076923076923077}), ('4', {'prob': 0.0}), ('5', {'prob': 0.0}), ('6', {'prob': 0.07692307692307693}), ('7', {'prob': 0.15384615384615385}), ('8', {'prob': 0.07692307692307693}), ('9', {'prob': 0.0})]\n",
      "2023-01-11 13:44:30,755:  <maybe_digits>                [('', {'prob': 0.0}), ('<digits>', {'prob': 1.0})]\n",
      "2023-01-11 13:44:30,755:  <digits>                      [('<digit>', {'prob': 0.11255535712482267}), ('<digit><digits>', {'prob': 0.8874446428751772})]\n",
      "2023-01-11 13:44:30,755:  <maybe_frac>                  [('', {'prob': 1.0}), ('.<digits>', {'prob': 0.0})]\n",
      "2023-01-11 13:44:30,755:  Starting iteration 4\n",
      "2023-01-11 13:44:30,966:  Generated 100 unique inputs\n",
      "2023-01-11 13:44:30,966:  Executing input files\n",
      "2023-01-11 13:44:30,967:  Current probabilistic grammar achived a fitness of: 9\n",
      "2023-01-11 13:44:30,967:  Learning new Grammar\n",
      "2023-01-11 13:44:30,967:  ['cos(-2030370633770)', 'sqrt(-2677300373603006063)', 'sqrt(-200306003)', 'sqrt(-26000300)', 'sqrt(-13003078073773637376)', 'sqrt(-2800673700336883338300700003333330)', 'sqrt(-26308370600)', 'sqrt(-28)', 'sqrt(-280833300300078)', 'sqrt(-233)']\n",
      "2023-01-11 13:44:30,994:  Mutating new Grammar\n",
      "2023-01-11 13:44:30,994:  Selected rule <function> to be mutated.\n",
      "2023-01-11 13:44:30,994:  <start>                       [('<arith_expr>', {'prob': None})]\n",
      "2023-01-11 13:44:30,994:  <arith_expr>                  [('<function>(<number>)', {'prob': None})]\n",
      "2023-01-11 13:44:30,995:  <function>                    [('sqrt', {'prob': 0.40458924201674124}), ('sin', {'prob': 0.1388522949149471}), ('cos', {'prob': 0.35606951002684784}), ('tan', {'prob': 0.10048895304146377})]\n",
      "2023-01-11 13:44:30,995:  <number>                      [('<maybe_minus><onenine><maybe_digits><maybe_frac>', {'prob': None})]\n",
      "2023-01-11 13:44:30,995:  <maybe_minus>                 [('', {'prob': 0.0}), ('-', {'prob': 1.0})]\n",
      "2023-01-11 13:44:30,995:  <onenine>                     [('1', {'prob': 0.1}), ('2', {'prob': 0.9}), ('3', {'prob': 0.0}), ('4', {'prob': 0.0}), ('5', {'prob': 0.0}), ('6', {'prob': 0.0}), ('7', {'prob': 0.0}), ('8', {'prob': 0.0}), ('9', {'prob': 0.0})]\n",
      "2023-01-11 13:44:30,995:  <digit>                       [('0', {'prob': 0.3629032258064516}), ('1', {'prob': 0.0}), ('2', {'prob': 0.0}), ('3', {'prob': 0.31451612903225806}), ('4', {'prob': 0.0}), ('5', {'prob': 0.0}), ('6', {'prob': 0.10483870967741936}), ('7', {'prob': 0.13709677419354838}), ('8', {'prob': 0.08064516129032258}), ('9', {'prob': 0.0})]\n",
      "2023-01-11 13:44:30,996:  <maybe_digits>                [('', {'prob': 0.0}), ('<digits>', {'prob': 1.0})]\n",
      "2023-01-11 13:44:30,996:  <digits>                      [('<digit>', {'prob': 0.08064516129032258}), ('<digit><digits>', {'prob': 0.9193548387096774})]\n",
      "2023-01-11 13:44:30,996:  <maybe_frac>                  [('', {'prob': 1.0}), ('.<digits>', {'prob': 0.0})]\n",
      "2023-01-11 13:44:30,996:  Starting iteration 5\n",
      "2023-01-11 13:44:31,585:  Generated 99 unique inputs\n",
      "2023-01-11 13:44:31,585:  Executing input files\n",
      "2023-01-11 13:44:31,586:  Current probabilistic grammar achived a fitness of: 8\n",
      "2023-01-11 13:44:31,587:  Learning new Grammar\n",
      "2023-01-11 13:44:31,587:  ['sqrt(-233380)', 'sqrt(-26)', 'sqrt(-2700303336733660070707380000007333033)', 'sqrt(-2037833003783303300063)', 'sqrt(-23300783003000308730)', 'sqrt(-230083)', 'sqrt(-18038300030387)', 'sqrt(-233)', 'cos(-260638730033)', 'cos(-27338363607007333363000733733033383037033308670)']\n",
      "2023-01-11 13:44:31,640:  Mutating new Grammar\n",
      "2023-01-11 13:44:31,641:  Selected rule <onenine> to be mutated.\n",
      "2023-01-11 13:44:31,641:  <start>                       [('<arith_expr>', {'prob': None})]\n",
      "2023-01-11 13:44:31,641:  <arith_expr>                  [('<function>(<number>)', {'prob': None})]\n",
      "2023-01-11 13:44:31,642:  <function>                    [('sqrt', {'prob': 0.8}), ('sin', {'prob': 0.0}), ('cos', {'prob': 0.2}), ('tan', {'prob': 0.0})]\n",
      "2023-01-11 13:44:31,643:  <number>                      [('<maybe_minus><onenine><maybe_digits><maybe_frac>', {'prob': None})]\n",
      "2023-01-11 13:44:31,643:  <maybe_minus>                 [('', {'prob': 0.0}), ('-', {'prob': 1.0})]\n",
      "2023-01-11 13:44:31,644:  <onenine>                     [('1', {'prob': 0.2890776837516317}), ('2', {'prob': 0.0234151369152083}), ('3', {'prob': 0.07537389216856212}), ('4', {'prob': 0.12635702201206434}), ('5', {'prob': 0.3325926678034584}), ('6', {'prob': 0.09059486606785011}), ('7', {'prob': 0.01508559680443325}), ('8', {'prob': 0.03785560441699061}), ('9', {'prob': 0.009647530059801165})]\n",
      "2023-01-11 13:44:31,644:  <digit>                       [('0', {'prob': 0.3270440251572327}), ('1', {'prob': 0.0}), ('2', {'prob': 0.0}), ('3', {'prob': 0.39622641509433965}), ('4', {'prob': 0.0}), ('5', {'prob': 0.0}), ('6', {'prob': 0.06918238993710692}), ('7', {'prob': 0.11949685534591195}), ('8', {'prob': 0.0880503144654088}), ('9', {'prob': 0.0})]\n",
      "2023-01-11 13:44:31,645:  <maybe_digits>                [('', {'prob': 0.0}), ('<digits>', {'prob': 1.0})]\n",
      "2023-01-11 13:44:31,645:  <digits>                      [('<digit>', {'prob': 0.06289308176100629}), ('<digit><digits>', {'prob': 0.9371069182389937})]\n",
      "2023-01-11 13:44:31,645:  <maybe_frac>                  [('', {'prob': 1.0}), ('.<digits>', {'prob': 0.0})]\n",
      "2023-01-11 13:44:31,645:  Starting iteration 6\n",
      "2023-01-11 13:44:32,594:  Generated 100 unique inputs\n",
      "2023-01-11 13:44:32,595:  Executing input files\n",
      "2023-01-11 13:44:32,595:  Current probabilistic grammar achived a fitness of: 10\n",
      "2023-01-11 13:44:32,596:  Learning new Grammar\n",
      "2023-01-11 13:44:32,596:  ['sqrt(-130060)', 'sqrt(-53033038)', 'sqrt(-200833070037000307003330037733806776037003)', 'sqrt(-57333)', 'sqrt(-1870860738670378773)', 'sqrt(-503680333673338333073333)', 'sqrt(-403333760330733)', 'sqrt(-57303708763603307883078)', 'sqrt(-50333300860303300303737330063070068)', 'sqrt(-60007767330803)']\n",
      "2023-01-11 13:44:32,644:  Mutating new Grammar\n",
      "2023-01-11 13:44:32,644:  Selected rule <digit> to be mutated.\n",
      "2023-01-11 13:44:32,645:  <start>                       [('<arith_expr>', {'prob': None})]\n",
      "2023-01-11 13:44:32,645:  <arith_expr>                  [('<function>(<number>)', {'prob': None})]\n",
      "2023-01-11 13:44:32,645:  <function>                    [('sqrt', {'prob': 1.0}), ('sin', {'prob': 0.0}), ('cos', {'prob': 0.0}), ('tan', {'prob': 0.0})]\n",
      "2023-01-11 13:44:32,645:  <number>                      [('<maybe_minus><onenine><maybe_digits><maybe_frac>', {'prob': None})]\n",
      "2023-01-11 13:44:32,646:  <maybe_minus>                 [('', {'prob': 0.0}), ('-', {'prob': 1.0})]\n",
      "2023-01-11 13:44:32,646:  <onenine>                     [('1', {'prob': 0.2}), ('2', {'prob': 0.1}), ('3', {'prob': 0.0}), ('4', {'prob': 0.1}), ('5', {'prob': 0.5}), ('6', {'prob': 0.1}), ('7', {'prob': 0.0}), ('8', {'prob': 0.0}), ('9', {'prob': 0.0})]\n",
      "2023-01-11 13:44:32,646:  <digit>                       [('0', {'prob': 0.10131628979246919}), ('1', {'prob': 0.048074483545772366}), ('2', {'prob': 0.003886427821780046}), ('3', {'prob': 0.0754137681424026}), ('4', {'prob': 0.13414400099800877}), ('5', {'prob': 0.16562668198723543}), ('6', {'prob': 0.16102163765608363}), ('7', {'prob': 0.07839560531982569}), ('8', {'prob': 0.1401934954107167}), ('9', {'prob': 0.09192760932570541})]\n",
      "2023-01-11 13:44:32,646:  <maybe_digits>                [('', {'prob': 0.0}), ('<digits>', {'prob': 1.0})]\n",
      "2023-01-11 13:44:32,646:  <digits>                      [('<digit>', {'prob': 0.055248618784530384}), ('<digit><digits>', {'prob': 0.9447513812154696})]\n",
      "2023-01-11 13:44:32,646:  <maybe_frac>                  [('', {'prob': 1.0}), ('.<digits>', {'prob': 0.0})]\n",
      "2023-01-11 13:44:32,647:  Starting iteration 7\n",
      "2023-01-11 13:44:33,796:  Generated 100 unique inputs\n",
      "2023-01-11 13:44:33,796:  Executing input files\n",
      "2023-01-11 13:44:33,797:  Current probabilistic grammar achived a fitness of: 10\n",
      "2023-01-11 13:44:33,797:  Learning new Grammar\n",
      "2023-01-11 13:44:33,797:  ['sqrt(-1088687483701306535944)', 'sqrt(-503)', 'sqrt(-5356)', 'sqrt(-5037347450064)', 'sqrt(-4549369)', 'sqrt(-58185564117795)', 'sqrt(-4143310954497934680316570)', 'sqrt(-565760)', 'sqrt(-53)', 'sqrt(-55693096)']\n",
      "2023-01-11 13:44:33,815:  Mutating new Grammar\n",
      "2023-01-11 13:44:33,815:  Selected rule <digits> to be mutated.\n",
      "2023-01-11 13:44:33,816:  <start>                       [('<arith_expr>', {'prob': None})]\n",
      "2023-01-11 13:44:33,816:  <arith_expr>                  [('<function>(<number>)', {'prob': None})]\n",
      "2023-01-11 13:44:33,816:  <function>                    [('sqrt', {'prob': 1.0}), ('sin', {'prob': 0.0}), ('cos', {'prob': 0.0}), ('tan', {'prob': 0.0})]\n",
      "2023-01-11 13:44:33,816:  <number>                      [('<maybe_minus><onenine><maybe_digits><maybe_frac>', {'prob': None})]\n",
      "2023-01-11 13:44:33,816:  <maybe_minus>                 [('', {'prob': 0.0}), ('-', {'prob': 1.0})]\n",
      "2023-01-11 13:44:33,817:  <onenine>                     [('1', {'prob': 0.1}), ('2', {'prob': 0.0}), ('3', {'prob': 0.0}), ('4', {'prob': 0.2}), ('5', {'prob': 0.7}), ('6', {'prob': 0.0}), ('7', {'prob': 0.0}), ('8', {'prob': 0.0}), ('9', {'prob': 0.0})]\n",
      "2023-01-11 13:44:33,817:  <digit>                       [('0', {'prob': 0.1276595744680851}), ('1', {'prob': 0.07446808510638298}), ('2', {'prob': 0.0}), ('3', {'prob': 0.14893617021276595}), ('4', {'prob': 0.1276595744680851}), ('5', {'prob': 0.1276595744680851}), ('6', {'prob': 0.1276595744680851}), ('7', {'prob': 0.09574468085106383}), ('8', {'prob': 0.07446808510638298}), ('9', {'prob': 0.09574468085106383})]\n",
      "2023-01-11 13:44:33,817:  <maybe_digits>                [('', {'prob': 0.0}), ('<digits>', {'prob': 1.0})]\n",
      "2023-01-11 13:44:33,817:  <digits>                      [('<digit>', {'prob': 0.6527095767024443}), ('<digit><digits>', {'prob': 0.3472904232975557})]\n",
      "2023-01-11 13:44:33,817:  <maybe_frac>                  [('', {'prob': 1.0}), ('.<digits>', {'prob': 0.0})]\n",
      "2023-01-11 13:44:33,818:  Starting iteration 8\n",
      "2023-01-11 13:44:33,841:  Generated 43 unique inputs\n",
      "2023-01-11 13:44:33,842:  Executing input files\n",
      "2023-01-11 13:44:33,842:  Current probabilistic grammar achived a fitness of: 10\n",
      "2023-01-11 13:44:33,842:  Learning new Grammar\n",
      "2023-01-11 13:44:33,843:  ['sqrt(-567)', 'sqrt(-531)', 'sqrt(-544)', 'sqrt(-570)', 'sqrt(-50)', 'sqrt(-58)', 'sqrt(-5335)', 'sqrt(-19)', 'sqrt(-557)', 'sqrt(-590)']\n",
      "2023-01-11 13:44:33,881:  Mutating new Grammar\n",
      "2023-01-11 13:44:33,881:  Selected rule <function> to be mutated.\n",
      "2023-01-11 13:44:33,881:  <start>                       [('<arith_expr>', {'prob': None})]\n",
      "2023-01-11 13:44:33,882:  <arith_expr>                  [('<function>(<number>)', {'prob': None})]\n",
      "2023-01-11 13:44:33,882:  <function>                    [('sqrt', {'prob': 0.19122255850095415}), ('sin', {'prob': 0.039408795023880755}), ('cos', {'prob': 0.40250611177460077}), ('tan', {'prob': 0.36686253470056435})]\n",
      "2023-01-11 13:44:33,882:  <number>                      [('<maybe_minus><onenine><maybe_digits><maybe_frac>', {'prob': None})]\n",
      "2023-01-11 13:44:33,882:  <maybe_minus>                 [('', {'prob': 0.0}), ('-', {'prob': 1.0})]\n",
      "2023-01-11 13:44:33,882:  <onenine>                     [('1', {'prob': 0.1}), ('2', {'prob': 0.0}), ('3', {'prob': 0.0}), ('4', {'prob': 0.0}), ('5', {'prob': 0.9}), ('6', {'prob': 0.0}), ('7', {'prob': 0.0}), ('8', {'prob': 0.0}), ('9', {'prob': 0.0})]\n",
      "2023-01-11 13:44:33,883:  <digit>                       [('0', {'prob': 0.16666666666666666}), ('1', {'prob': 0.05555555555555555}), ('2', {'prob': 0.0}), ('3', {'prob': 0.16666666666666666}), ('4', {'prob': 0.1111111111111111}), ('5', {'prob': 0.1111111111111111}), ('6', {'prob': 0.05555555555555555}), ('7', {'prob': 0.16666666666666666}), ('8', {'prob': 0.05555555555555555}), ('9', {'prob': 0.1111111111111111})]\n",
      "2023-01-11 13:44:33,883:  <maybe_digits>                [('', {'prob': 0.0}), ('<digits>', {'prob': 1.0})]\n",
      "2023-01-11 13:44:33,883:  <digits>                      [('<digit>', {'prob': 0.5555555555555556}), ('<digit><digits>', {'prob': 0.4444444444444444})]\n",
      "2023-01-11 13:44:33,883:  <maybe_frac>                  [('', {'prob': 1.0}), ('.<digits>', {'prob': 0.0})]\n",
      "2023-01-11 13:44:33,883:  Starting iteration 9\n",
      "2023-01-11 13:44:33,911:  Generated 78 unique inputs\n",
      "2023-01-11 13:44:33,912:  Executing input files\n",
      "2023-01-11 13:44:33,913:  Current probabilistic grammar achived a fitness of: 3\n",
      "2023-01-11 13:44:33,913:  Learning new Grammar\n",
      "2023-01-11 13:44:33,913:  ['tan(-5715)', 'tan(-5430)', 'tan(-147)', 'sqrt(-131)', 'cos(-50)', 'cos(-59)', 'tan(-54)', 'sqrt(-534003)', 'sqrt(-578)', 'cos(-55)']\n",
      "2023-01-11 13:44:33,918:  Mutating new Grammar\n",
      "2023-01-11 13:44:33,918:  Selected rule <onenine> to be mutated.\n",
      "2023-01-11 13:44:33,918:  <start>                       [('<arith_expr>', {'prob': None})]\n",
      "2023-01-11 13:44:33,919:  <arith_expr>                  [('<function>(<number>)', {'prob': None})]\n",
      "2023-01-11 13:44:33,919:  <function>                    [('sqrt', {'prob': 0.3}), ('sin', {'prob': 0.0}), ('cos', {'prob': 0.3}), ('tan', {'prob': 0.4})]\n",
      "2023-01-11 13:44:33,919:  <number>                      [('<maybe_minus><onenine><maybe_digits><maybe_frac>', {'prob': None})]\n",
      "2023-01-11 13:44:33,919:  <maybe_minus>                 [('', {'prob': 0.0}), ('-', {'prob': 1.0})]\n",
      "2023-01-11 13:44:33,919:  <onenine>                     [('1', {'prob': 0.10862527091727668}), ('2', {'prob': 0.015494053144589728}), ('3', {'prob': 0.043420385404745694}), ('4', {'prob': 0.14186061463238145}), ('5', {'prob': 0.06383795598774213}), ('6', {'prob': 0.2475096599148384}), ('7', {'prob': 0.0812453561442831}), ('8', {'prob': 0.12220370082583527}), ('9', {'prob': 0.1758030030283075})]\n",
      "2023-01-11 13:44:33,919:  <digit>                       [('0', {'prob': 0.19047619047619047}), ('1', {'prob': 0.09523809523809523}), ('2', {'prob': 0.0}), ('3', {'prob': 0.19047619047619047}), ('4', {'prob': 0.19047619047619047}), ('5', {'prob': 0.09523809523809523}), ('6', {'prob': 0.0}), ('7', {'prob': 0.14285714285714285}), ('8', {'prob': 0.047619047619047616}), ('9', {'prob': 0.047619047619047616})]\n",
      "2023-01-11 13:44:33,920:  <maybe_digits>                [('', {'prob': 0.0}), ('<digits>', {'prob': 1.0})]\n",
      "2023-01-11 13:44:33,920:  <digits>                      [('<digit>', {'prob': 0.47619047619047616}), ('<digit><digits>', {'prob': 0.5238095238095238})]\n",
      "2023-01-11 13:44:33,920:  <maybe_frac>                  [('', {'prob': 1.0}), ('.<digits>', {'prob': 0.0})]\n",
      "2023-01-11 13:44:33,920:  Terminate due to maximal iterations reached\n",
      "2023-01-11 13:44:33,920:  Exiting EvoGFuzz!\n",
      "2023-01-11 13:44:33,921:  Final Grammar:\n",
      "2023-01-11 13:44:33,921:  <start>                       [('<arith_expr>', {'prob': None})]\n",
      "2023-01-11 13:44:33,921:  <arith_expr>                  [('<function>(<number>)', {'prob': None})]\n",
      "2023-01-11 13:44:33,921:  <function>                    [('sqrt', {'prob': 0.3}), ('sin', {'prob': 0.0}), ('cos', {'prob': 0.3}), ('tan', {'prob': 0.4})]\n",
      "2023-01-11 13:44:33,921:  <number>                      [('<maybe_minus><onenine><maybe_digits><maybe_frac>', {'prob': None})]\n",
      "2023-01-11 13:44:33,921:  <maybe_minus>                 [('', {'prob': 0.0}), ('-', {'prob': 1.0})]\n",
      "2023-01-11 13:44:33,922:  <onenine>                     [('1', {'prob': 0.10862527091727668}), ('2', {'prob': 0.015494053144589728}), ('3', {'prob': 0.043420385404745694}), ('4', {'prob': 0.14186061463238145}), ('5', {'prob': 0.06383795598774213}), ('6', {'prob': 0.2475096599148384}), ('7', {'prob': 0.0812453561442831}), ('8', {'prob': 0.12220370082583527}), ('9', {'prob': 0.1758030030283075})]\n",
      "2023-01-11 13:44:33,922:  <digit>                       [('0', {'prob': 0.19047619047619047}), ('1', {'prob': 0.09523809523809523}), ('2', {'prob': 0.0}), ('3', {'prob': 0.19047619047619047}), ('4', {'prob': 0.19047619047619047}), ('5', {'prob': 0.09523809523809523}), ('6', {'prob': 0.0}), ('7', {'prob': 0.14285714285714285}), ('8', {'prob': 0.047619047619047616}), ('9', {'prob': 0.047619047619047616})]\n",
      "2023-01-11 13:44:33,922:  <maybe_digits>                [('', {'prob': 0.0}), ('<digits>', {'prob': 1.0})]\n",
      "2023-01-11 13:44:33,922:  <digits>                      [('<digit>', {'prob': 0.47619047619047616}), ('<digit><digits>', {'prob': 0.5238095238095238})]\n",
      "2023-01-11 13:44:33,922:  <maybe_frac>                  [('', {'prob': 1.0}), ('.<digits>', {'prob': 0.0})]\n"
     ]
    }
   ],
   "source": [
    "result = evogfuzz.execute()"
   ],
   "metadata": {
    "collapsed": false
   }
  },
  {
   "cell_type": "code",
   "execution_count": 35,
   "outputs": [],
   "source": [
    "result = evogfuzz._get_latest_grammar()"
   ],
   "metadata": {
    "collapsed": false
   }
  },
  {
   "cell_type": "code",
   "execution_count": 36,
   "outputs": [
    {
     "data": {
      "text/plain": "{'<start>': [('<arith_expr>', {'prob': None})],\n '<arith_expr>': [('<function>(<number>)', {'prob': None})],\n '<function>': [('sqrt', {'prob': 0.3}),\n  ('sin', {'prob': 0.0}),\n  ('cos', {'prob': 0.3}),\n  ('tan', {'prob': 0.4})],\n '<number>': [('<maybe_minus><onenine><maybe_digits><maybe_frac>',\n   {'prob': None})],\n '<maybe_minus>': [('', {'prob': 0.0}), ('-', {'prob': 1.0})],\n '<onenine>': [('1', {'prob': 0.10862527091727668}),\n  ('2', {'prob': 0.015494053144589728}),\n  ('3', {'prob': 0.043420385404745694}),\n  ('4', {'prob': 0.14186061463238145}),\n  ('5', {'prob': 0.06383795598774213}),\n  ('6', {'prob': 0.2475096599148384}),\n  ('7', {'prob': 0.0812453561442831}),\n  ('8', {'prob': 0.12220370082583527}),\n  ('9', {'prob': 0.1758030030283075})],\n '<digit>': [('0', {'prob': 0.19047619047619047}),\n  ('1', {'prob': 0.09523809523809523}),\n  ('2', {'prob': 0.0}),\n  ('3', {'prob': 0.19047619047619047}),\n  ('4', {'prob': 0.19047619047619047}),\n  ('5', {'prob': 0.09523809523809523}),\n  ('6', {'prob': 0.0}),\n  ('7', {'prob': 0.14285714285714285}),\n  ('8', {'prob': 0.047619047619047616}),\n  ('9', {'prob': 0.047619047619047616})],\n '<maybe_digits>': [('', {'prob': 0.0}), ('<digits>', {'prob': 1.0})],\n '<digits>': [('<digit>', {'prob': 0.47619047619047616}),\n  ('<digit><digits>', {'prob': 0.5238095238095238})],\n '<maybe_frac>': [('', {'prob': 1.0}), ('.<digits>', {'prob': 0.0})]}"
     },
     "execution_count": 36,
     "metadata": {},
     "output_type": "execute_result"
    }
   ],
   "source": [
    "result"
   ],
   "metadata": {
    "collapsed": false
   }
  },
  {
   "cell_type": "code",
   "execution_count": 37,
   "outputs": [
    {
     "name": "stdout",
     "output_type": "stream",
     "text": [
      "sqrt(-500)\n",
      "sqrt(-7414)\n",
      "tan(-670)\n",
      "cos(-693059)\n",
      "sqrt(-94)\n",
      "tan(-604703)\n",
      "cos(-987)\n",
      "sqrt(-3485)\n",
      "cos(-61)\n",
      "sqrt(-33337)\n",
      "tan(-698)\n",
      "cos(-64)\n",
      "cos(-9748)\n",
      "cos(-71338)\n",
      "cos(-600)\n",
      "sqrt(-507)\n",
      "tan(-6983380)\n",
      "sqrt(-90)\n",
      "sqrt(-600109)\n",
      "sqrt(-48)\n",
      "cos(-790)\n",
      "cos(-63)\n",
      "tan(-64)\n",
      "cos(-60)\n",
      "sqrt(-3447)\n",
      "tan(-64)\n",
      "cos(-43)\n",
      "sqrt(-24)\n",
      "cos(-441)\n",
      "cos(-680907)\n",
      "sqrt(-10)\n",
      "tan(-94)\n",
      "cos(-4413)\n",
      "cos(-63)\n",
      "sqrt(-70)\n",
      "tan(-6140)\n",
      "sqrt(-13107)\n",
      "sqrt(-95)\n",
      "cos(-134)\n",
      "sqrt(-60)\n",
      "tan(-93)\n",
      "sqrt(-1113135)\n",
      "cos(-93330)\n",
      "tan(-43)\n",
      "cos(-4379)\n",
      "sqrt(-180)\n",
      "sqrt(-900)\n",
      "tan(-63053)\n",
      "tan(-13)\n",
      "tan(-47)\n",
      "tan(-41)\n",
      "sqrt(-37)\n",
      "cos(-170)\n",
      "tan(-60)\n",
      "cos(-93)\n",
      "tan(-281)\n",
      "tan(-1074)\n",
      "cos(-17384)\n",
      "cos(-970)\n",
      "cos(-87)\n",
      "cos(-67)\n",
      "sqrt(-639)\n",
      "tan(-90)\n",
      "tan(-1504308)\n",
      "tan(-90470)\n",
      "tan(-67)\n",
      "sqrt(-473)\n",
      "sqrt(-35)\n",
      "sqrt(-953)\n",
      "cos(-4747)\n",
      "tan(-841)\n",
      "cos(-115415003)\n",
      "tan(-68047)\n",
      "sqrt(-115)\n",
      "sqrt(-8140)\n",
      "tan(-6704743)\n",
      "tan(-64193)\n",
      "tan(-939741)\n",
      "sqrt(-67)\n",
      "tan(-67)\n",
      "sqrt(-64419)\n",
      "cos(-93)\n",
      "tan(-61)\n",
      "sqrt(-21)\n",
      "tan(-945403)\n",
      "sqrt(-6443)\n",
      "tan(-813704404)\n",
      "sqrt(-845)\n",
      "tan(-61)\n",
      "sqrt(-44)\n",
      "sqrt(-103)\n",
      "tan(-951047)\n",
      "tan(-94504)\n",
      "cos(-433)\n",
      "cos(-6344540)\n",
      "tan(-81)\n",
      "tan(-90314)\n",
      "tan(-677341)\n",
      "tan(-935441)\n",
      "tan(-939)\n"
     ]
    }
   ],
   "source": [
    "from fuzzingbook.ProbabilisticGrammarFuzzer import ProbabilisticGrammarFuzzer\n",
    "\n",
    "prob_fuzzer = ProbabilisticGrammarFuzzer(result)\n",
    "\n",
    "for _ in range(100):\n",
    "    print(prob_fuzzer.fuzz())"
   ],
   "metadata": {
    "collapsed": false
   }
  },
  {
   "cell_type": "markdown",
   "source": [
    "## Visualizing the Optimization"
   ],
   "metadata": {
    "collapsed": false
   }
  },
  {
   "cell_type": "code",
   "execution_count": 38,
   "outputs": [],
   "source": [
    "from matplotlib.pyplot import plot"
   ],
   "metadata": {
    "collapsed": false
   }
  },
  {
   "cell_type": "code",
   "execution_count": 39,
   "outputs": [
    {
     "data": {
      "text/plain": "[<matplotlib.lines.Line2D at 0x117f079a0>]"
     },
     "execution_count": 39,
     "metadata": {},
     "output_type": "execute_result"
    },
    {
     "data": {
      "text/plain": "<Figure size 640x480 with 1 Axes>",
      "image/png": "[encoded data removed]"
     },
     "metadata": {},
     "output_type": "display_data"
    }
   ],
   "source": [
    "plot([1,2], [2,1])"
   ],
   "metadata": {
    "collapsed": false
   }
  },
  {
   "cell_type": "code",
   "execution_count": 40,
   "outputs": [
    {
     "data": {
      "text/plain": "dict_keys(['<start>', '<arith_expr>', '<function>', '<number>', '<maybe_minus>', '<onenine>', '<digit>', '<maybe_digits>', '<digits>', '<maybe_frac>'])"
     },
     "execution_count": 40,
     "metadata": {},
     "output_type": "execute_result"
    }
   ],
   "source": [
    "result.keys()"
   ],
   "metadata": {
    "collapsed": false
   }
  },
  {
   "cell_type": "code",
   "execution_count": 41,
   "outputs": [],
   "source": [
    "from copy import deepcopy\n",
    "g = deepcopy(result)\n",
    "\n",
    "features = set()\n",
    "\n",
    "for rule in g:\n",
    "    for child in g[rule]:\n",
    "        features.add(f\"{rule}->{child[1]['prob']}\")"
   ],
   "metadata": {
    "collapsed": false
   }
  },
  {
   "cell_type": "code",
   "execution_count": 42,
   "outputs": [
    {
     "data": {
      "text/plain": "{'<arith_expr>->None',\n '<digit>->0.0',\n '<digit>->0.047619047619047616',\n '<digit>->0.09523809523809523',\n '<digit>->0.14285714285714285',\n '<digit>->0.19047619047619047',\n '<digits>->0.47619047619047616',\n '<digits>->0.5238095238095238',\n '<function>->0.0',\n '<function>->0.3',\n '<function>->0.4',\n '<maybe_digits>->0.0',\n '<maybe_digits>->1.0',\n '<maybe_frac>->0.0',\n '<maybe_frac>->1.0',\n '<maybe_minus>->0.0',\n '<maybe_minus>->1.0',\n '<number>->None',\n '<onenine>->0.015494053144589728',\n '<onenine>->0.043420385404745694',\n '<onenine>->0.06383795598774213',\n '<onenine>->0.0812453561442831',\n '<onenine>->0.10862527091727668',\n '<onenine>->0.12220370082583527',\n '<onenine>->0.14186061463238145',\n '<onenine>->0.1758030030283075',\n '<onenine>->0.2475096599148384',\n '<start>->None'}"
     },
     "metadata": {},
     "output_type": "display_data"
    }
   ],
   "source": [
    "display(features)"
   ],
   "metadata": {
    "collapsed": false
   }
  },
  {
   "cell_type": "code",
   "execution_count": 43,
   "outputs": [],
   "source": [
    "gr = [g, g]\n",
    "\n",
    "def _initialize(g):\n",
    "    g = deepcopy(g)\n",
    "    probabilities = dict()\n",
    "    for rule in g:\n",
    "        for child in g[rule]:\n",
    "            feature = f\"{rule}->{child[0]}\"\n",
    "            probabilities[feature] = []\n",
    "    return probabilities\n",
    "\n",
    "\n",
    "\n",
    "def parse_prob_grammars(grammar_list):\n",
    "    probabilities = _initialize(grammar_list[0])\n",
    "\n",
    "    for grammar in grammar_list:\n",
    "        for rule in grammar:\n",
    "            for child in grammar[rule]:\n",
    "                feature = f\"{rule}->{child[0]}\"\n",
    "                prob_list = probabilities[feature]\n",
    "                if child[1]['prob'] is None:\n",
    "                    prob_list.append(1.0)\n",
    "                else:\n",
    "                    prob_list.append(child[1]['prob'])\n",
    "                probabilities[feature] = prob_list\n",
    "\n",
    "    return probabilities\n",
    "\n",
    "\n",
    "r = parse_prob_grammars(gr)"
   ],
   "metadata": {
    "collapsed": false
   }
  },
  {
   "cell_type": "code",
   "execution_count": 44,
   "outputs": [
    {
     "data": {
      "text/plain": "{'<start>-><arith_expr>': [1.0, 1.0],\n '<arith_expr>-><function>(<number>)': [1.0, 1.0],\n '<function>->sqrt': [0.3, 0.3],\n '<function>->sin': [0.0, 0.0],\n '<function>->cos': [0.3, 0.3],\n '<function>->tan': [0.4, 0.4],\n '<number>-><maybe_minus><onenine><maybe_digits><maybe_frac>': [1.0, 1.0],\n '<maybe_minus>->': [0.0, 0.0],\n '<maybe_minus>->-': [1.0, 1.0],\n '<onenine>->1': [0.10862527091727668, 0.10862527091727668],\n '<onenine>->2': [0.015494053144589728, 0.015494053144589728],\n '<onenine>->3': [0.043420385404745694, 0.043420385404745694],\n '<onenine>->4': [0.14186061463238145, 0.14186061463238145],\n '<onenine>->5': [0.06383795598774213, 0.06383795598774213],\n '<onenine>->6': [0.2475096599148384, 0.2475096599148384],\n '<onenine>->7': [0.0812453561442831, 0.0812453561442831],\n '<onenine>->8': [0.12220370082583527, 0.12220370082583527],\n '<onenine>->9': [0.1758030030283075, 0.1758030030283075],\n '<digit>->0': [0.19047619047619047, 0.19047619047619047],\n '<digit>->1': [0.09523809523809523, 0.09523809523809523],\n '<digit>->2': [0.0, 0.0],\n '<digit>->3': [0.19047619047619047, 0.19047619047619047],\n '<digit>->4': [0.19047619047619047, 0.19047619047619047],\n '<digit>->5': [0.09523809523809523, 0.09523809523809523],\n '<digit>->6': [0.0, 0.0],\n '<digit>->7': [0.14285714285714285, 0.14285714285714285],\n '<digit>->8': [0.047619047619047616, 0.047619047619047616],\n '<digit>->9': [0.047619047619047616, 0.047619047619047616],\n '<maybe_digits>->': [0.0, 0.0],\n '<maybe_digits>-><digits>': [1.0, 1.0],\n '<digits>-><digit>': [0.47619047619047616, 0.47619047619047616],\n '<digits>-><digit><digits>': [0.5238095238095238, 0.5238095238095238],\n '<maybe_frac>->': [1.0, 1.0],\n '<maybe_frac>->.<digits>': [0.0, 0.0]}"
     },
     "metadata": {},
     "output_type": "display_data"
    }
   ],
   "source": [
    "display(r)"
   ],
   "metadata": {
    "collapsed": false
   }
  },
  {
   "cell_type": "code",
   "execution_count": 45,
   "outputs": [],
   "source": [
    "all_prob_grammars_org = evogfuzz._probabilistic_grammars\n",
    "all_prob_grammars = [g[0] for g in all_prob_grammars_org]"
   ],
   "metadata": {
    "collapsed": false
   }
  },
  {
   "cell_type": "code",
   "execution_count": 46,
   "outputs": [],
   "source": [
    "# all_prob_grammars = [g[0] for g in all_prob_grammars]"
   ],
   "metadata": {
    "collapsed": false
   }
  },
  {
   "cell_type": "code",
   "execution_count": 47,
   "outputs": [],
   "source": [
    "r = parse_prob_grammars(all_prob_grammars)"
   ],
   "metadata": {
    "collapsed": false
   }
  },
  {
   "cell_type": "code",
   "execution_count": 48,
   "outputs": [
    {
     "data": {
      "text/plain": "{'<start>-><arith_expr>': [1.0,\n  1.0,\n  1.0,\n  1.0,\n  1.0,\n  1.0,\n  1.0,\n  1.0,\n  1.0,\n  1.0,\n  1.0,\n  1.0,\n  1.0,\n  1.0,\n  1.0,\n  1.0,\n  1.0,\n  1.0,\n  1.0,\n  1.0,\n  1.0],\n '<arith_expr>-><function>(<number>)': [1.0,\n  1.0,\n  1.0,\n  1.0,\n  1.0,\n  1.0,\n  1.0,\n  1.0,\n  1.0,\n  1.0,\n  1.0,\n  1.0,\n  1.0,\n  1.0,\n  1.0,\n  1.0,\n  1.0,\n  1.0,\n  1.0,\n  1.0,\n  1.0],\n '<function>->sqrt': [0.5,\n  0.4,\n  0.4,\n  0.4,\n  0.4,\n  0.4,\n  0.4,\n  0.6,\n  0.6,\n  0.9,\n  0.40458924201674124,\n  0.8,\n  0.8,\n  1.0,\n  1.0,\n  1.0,\n  1.0,\n  1.0,\n  0.19122255850095415,\n  0.3,\n  0.3],\n '<function>->sin': [0.0,\n  0.0,\n  0.0,\n  0.0,\n  0.0,\n  0.0,\n  0.0,\n  0.0,\n  0.0,\n  0.0,\n  0.1388522949149471,\n  0.0,\n  0.0,\n  0.0,\n  0.0,\n  0.0,\n  0.0,\n  0.0,\n  0.039408795023880755,\n  0.0,\n  0.0],\n '<function>->cos': [0.25,\n  0.2,\n  0.2,\n  0.2,\n  0.2,\n  0.3,\n  0.3,\n  0.3,\n  0.3,\n  0.1,\n  0.35606951002684784,\n  0.2,\n  0.2,\n  0.0,\n  0.0,\n  0.0,\n  0.0,\n  0.0,\n  0.40250611177460077,\n  0.3,\n  0.3],\n '<function>->tan': [0.25,\n  0.4,\n  0.4,\n  0.4,\n  0.4,\n  0.3,\n  0.3,\n  0.1,\n  0.1,\n  0.0,\n  0.10048895304146377,\n  0.0,\n  0.0,\n  0.0,\n  0.0,\n  0.0,\n  0.0,\n  0.0,\n  0.36686253470056435,\n  0.4,\n  0.4],\n '<number>-><maybe_minus><onenine><maybe_digits><maybe_frac>': [1.0,\n  1.0,\n  1.0,\n  1.0,\n  1.0,\n  1.0,\n  1.0,\n  1.0,\n  1.0,\n  1.0,\n  1.0,\n  1.0,\n  1.0,\n  1.0,\n  1.0,\n  1.0,\n  1.0,\n  1.0,\n  1.0,\n  1.0,\n  1.0],\n '<maybe_minus>->': [0.75,\n  0.5,\n  0.5,\n  0.4,\n  0.4,\n  0.5,\n  0.15888673461870345,\n  0.2,\n  0.2,\n  0.0,\n  0.0,\n  0.0,\n  0.0,\n  0.0,\n  0.0,\n  0.0,\n  0.0,\n  0.0,\n  0.0,\n  0.0,\n  0.0],\n '<maybe_minus>->-': [0.25,\n  0.5,\n  0.5,\n  0.6,\n  0.6,\n  0.5,\n  0.8411132653812966,\n  0.8,\n  0.8,\n  1.0,\n  1.0,\n  1.0,\n  1.0,\n  1.0,\n  1.0,\n  1.0,\n  1.0,\n  1.0,\n  1.0,\n  1.0,\n  1.0],\n '<onenine>->1': [0.5,\n  0.5,\n  0.5,\n  0.4,\n  0.4,\n  0.4,\n  0.4,\n  0.2,\n  0.2,\n  0.1,\n  0.1,\n  0.1,\n  0.2890776837516317,\n  0.2,\n  0.2,\n  0.1,\n  0.1,\n  0.1,\n  0.1,\n  0.2,\n  0.10862527091727668],\n '<onenine>->2': [0.25,\n  0.3,\n  0.3,\n  0.5,\n  0.5,\n  0.6,\n  0.6,\n  0.8,\n  0.8,\n  0.9,\n  0.9,\n  0.9,\n  0.0234151369152083,\n  0.1,\n  0.1,\n  0.0,\n  0.0,\n  0.0,\n  0.0,\n  0.0,\n  0.015494053144589728],\n '<onenine>->3': [0.25,\n  0.2,\n  0.2,\n  0.1,\n  0.1,\n  0.0,\n  0.0,\n  0.0,\n  0.0,\n  0.0,\n  0.0,\n  0.0,\n  0.07537389216856212,\n  0.0,\n  0.0,\n  0.0,\n  0.0,\n  0.0,\n  0.0,\n  0.0,\n  0.043420385404745694],\n '<onenine>->4': [0.0,\n  0.0,\n  0.0,\n  0.0,\n  0.0,\n  0.0,\n  0.0,\n  0.0,\n  0.0,\n  0.0,\n  0.0,\n  0.0,\n  0.12635702201206434,\n  0.1,\n  0.1,\n  0.2,\n  0.2,\n  0.0,\n  0.0,\n  0.0,\n  0.14186061463238145],\n '<onenine>->5': [0.0,\n  0.0,\n  0.0,\n  0.0,\n  0.0,\n  0.0,\n  0.0,\n  0.0,\n  0.0,\n  0.0,\n  0.0,\n  0.0,\n  0.3325926678034584,\n  0.5,\n  0.5,\n  0.7,\n  0.7,\n  0.9,\n  0.9,\n  0.8,\n  0.06383795598774213],\n '<onenine>->6': [0.0,\n  0.0,\n  0.0,\n  0.0,\n  0.0,\n  0.0,\n  0.0,\n  0.0,\n  0.0,\n  0.0,\n  0.0,\n  0.0,\n  0.09059486606785011,\n  0.1,\n  0.1,\n  0.0,\n  0.0,\n  0.0,\n  0.0,\n  0.0,\n  0.2475096599148384],\n '<onenine>->7': [0.0,\n  0.0,\n  0.0,\n  0.0,\n  0.0,\n  0.0,\n  0.0,\n  0.0,\n  0.0,\n  0.0,\n  0.0,\n  0.0,\n  0.01508559680443325,\n  0.0,\n  0.0,\n  0.0,\n  0.0,\n  0.0,\n  0.0,\n  0.0,\n  0.0812453561442831],\n '<onenine>->8': [0.0,\n  0.0,\n  0.0,\n  0.0,\n  0.0,\n  0.0,\n  0.0,\n  0.0,\n  0.0,\n  0.0,\n  0.0,\n  0.0,\n  0.03785560441699061,\n  0.0,\n  0.0,\n  0.0,\n  0.0,\n  0.0,\n  0.0,\n  0.0,\n  0.12220370082583527],\n '<onenine>->9': [0.0,\n  0.0,\n  0.0,\n  0.0,\n  0.0,\n  0.0,\n  0.0,\n  0.0,\n  0.0,\n  0.0,\n  0.0,\n  0.0,\n  0.009647530059801165,\n  0.0,\n  0.0,\n  0.0,\n  0.0,\n  0.0,\n  0.0,\n  0.0,\n  0.1758030030283075],\n '<digit>->0': [0.16666666666666666,\n  0.2727272727272727,\n  0.2727272727272727,\n  0.09090909090909091,\n  0.09090909090909091,\n  0.25,\n  0.25,\n  0.38461538461538464,\n  0.38461538461538464,\n  0.3629032258064516,\n  0.3629032258064516,\n  0.3270440251572327,\n  0.3270440251572327,\n  0.2983425414364641,\n  0.10131628979246919,\n  0.1276595744680851,\n  0.1276595744680851,\n  0.16666666666666666,\n  0.16666666666666666,\n  0.19047619047619047,\n  0.19047619047619047],\n '<digit>->1': [0.0,\n  0.0,\n  0.0,\n  0.0,\n  0.0,\n  0.0,\n  0.0,\n  0.0,\n  0.0,\n  0.0,\n  0.0,\n  0.0,\n  0.0,\n  0.0,\n  0.048074483545772366,\n  0.07446808510638298,\n  0.07446808510638298,\n  0.05555555555555555,\n  0.05555555555555555,\n  0.09523809523809523,\n  0.09523809523809523],\n '<digit>->2': [0.16666666666666666,\n  0.18181818181818182,\n  0.18181818181818182,\n  0.0,\n  0.0,\n  0.0,\n  0.0,\n  0.0,\n  0.0,\n  0.0,\n  0.0,\n  0.0,\n  0.0,\n  0.0,\n  0.003886427821780046,\n  0.0,\n  0.0,\n  0.0,\n  0.0,\n  0.0,\n  0.0],\n '<digit>->3': [0.16666666666666666,\n  0.09090909090909091,\n  0.09090909090909091,\n  0.18181818181818182,\n  0.18181818181818182,\n  0.16666666666666666,\n  0.16666666666666666,\n  0.3076923076923077,\n  0.3076923076923077,\n  0.31451612903225806,\n  0.31451612903225806,\n  0.39622641509433965,\n  0.39622641509433965,\n  0.3701657458563536,\n  0.0754137681424026,\n  0.14893617021276595,\n  0.14893617021276595,\n  0.16666666666666666,\n  0.16666666666666666,\n  0.19047619047619047,\n  0.19047619047619047],\n '<digit>->4': [0.0,\n  0.0,\n  0.0,\n  0.0,\n  0.0,\n  0.0,\n  0.0,\n  0.0,\n  0.0,\n  0.0,\n  0.0,\n  0.0,\n  0.0,\n  0.0,\n  0.13414400099800877,\n  0.1276595744680851,\n  0.1276595744680851,\n  0.1111111111111111,\n  0.1111111111111111,\n  0.19047619047619047,\n  0.19047619047619047],\n '<digit>->5': [0.0,\n  0.0,\n  0.0,\n  0.0,\n  0.0,\n  0.0,\n  0.0,\n  0.0,\n  0.0,\n  0.0,\n  0.0,\n  0.0,\n  0.0,\n  0.0,\n  0.16562668198723543,\n  0.1276595744680851,\n  0.1276595744680851,\n  0.1111111111111111,\n  0.1111111111111111,\n  0.09523809523809523,\n  0.09523809523809523],\n '<digit>->6': [0.16666666666666666,\n  0.09090909090909091,\n  0.09090909090909091,\n  0.18181818181818182,\n  0.18181818181818182,\n  0.16666666666666666,\n  0.16666666666666666,\n  0.07692307692307693,\n  0.07692307692307693,\n  0.10483870967741936,\n  0.10483870967741936,\n  0.06918238993710692,\n  0.06918238993710692,\n  0.07734806629834254,\n  0.16102163765608363,\n  0.1276595744680851,\n  0.1276595744680851,\n  0.05555555555555555,\n  0.05555555555555555,\n  0.0,\n  0.0],\n '<digit>->7': [0.16666666666666666,\n  0.18181818181818182,\n  0.18181818181818182,\n  0.45454545454545453,\n  0.45454545454545453,\n  0.3333333333333333,\n  0.3333333333333333,\n  0.15384615384615385,\n  0.15384615384615385,\n  0.13709677419354838,\n  0.13709677419354838,\n  0.11949685534591195,\n  0.11949685534591195,\n  0.16574585635359115,\n  0.07839560531982569,\n  0.09574468085106383,\n  0.09574468085106383,\n  0.16666666666666666,\n  0.16666666666666666,\n  0.14285714285714285,\n  0.14285714285714285],\n '<digit>->8': [0.16666666666666666,\n  0.18181818181818182,\n  0.18181818181818182,\n  0.09090909090909091,\n  0.09090909090909091,\n  0.08333333333333333,\n  0.08333333333333333,\n  0.07692307692307693,\n  0.07692307692307693,\n  0.08064516129032258,\n  0.08064516129032258,\n  0.0880503144654088,\n  0.0880503144654088,\n  0.08839779005524862,\n  0.1401934954107167,\n  0.07446808510638298,\n  0.07446808510638298,\n  0.05555555555555555,\n  0.05555555555555555,\n  0.047619047619047616,\n  0.047619047619047616],\n '<digit>->9': [0.0,\n  0.0,\n  0.0,\n  0.0,\n  0.0,\n  0.0,\n  0.0,\n  0.0,\n  0.0,\n  0.0,\n  0.0,\n  0.0,\n  0.0,\n  0.0,\n  0.09192760932570541,\n  0.09574468085106383,\n  0.09574468085106383,\n  0.1111111111111111,\n  0.1111111111111111,\n  0.047619047619047616,\n  0.047619047619047616],\n '<maybe_digits>->': [0.25,\n  0.1,\n  0.5660729896592361,\n  0.1,\n  0.1,\n  0.0,\n  0.0,\n  0.0,\n  0.0,\n  0.0,\n  0.0,\n  0.0,\n  0.0,\n  0.0,\n  0.0,\n  0.0,\n  0.0,\n  0.0,\n  0.0,\n  0.0,\n  0.0],\n '<maybe_digits>-><digits>': [0.75,\n  0.9,\n  0.4339270103407638,\n  0.9,\n  0.9,\n  1.0,\n  1.0,\n  1.0,\n  1.0,\n  1.0,\n  1.0,\n  1.0,\n  1.0,\n  1.0,\n  1.0,\n  1.0,\n  1.0,\n  1.0,\n  1.0,\n  1.0,\n  1.0],\n '<digits>-><digit>': [0.5,\n  0.8181818181818182,\n  0.8181818181818182,\n  0.8181818181818182,\n  0.8517267755914738,\n  0.8333333333333334,\n  0.8333333333333334,\n  0.7692307692307693,\n  0.11255535712482267,\n  0.08064516129032258,\n  0.08064516129032258,\n  0.06289308176100629,\n  0.06289308176100629,\n  0.055248618784530384,\n  0.055248618784530384,\n  0.10638297872340426,\n  0.6527095767024443,\n  0.5555555555555556,\n  0.5555555555555556,\n  0.47619047619047616,\n  0.47619047619047616],\n '<digits>-><digit><digits>': [0.5,\n  0.18181818181818182,\n  0.18181818181818182,\n  0.18181818181818182,\n  0.14827322440852614,\n  0.16666666666666666,\n  0.16666666666666666,\n  0.23076923076923078,\n  0.8874446428751772,\n  0.9193548387096774,\n  0.9193548387096774,\n  0.9371069182389937,\n  0.9371069182389937,\n  0.9447513812154696,\n  0.9447513812154696,\n  0.8936170212765957,\n  0.3472904232975557,\n  0.4444444444444444,\n  0.4444444444444444,\n  0.5238095238095238,\n  0.5238095238095238],\n '<maybe_frac>->': [1.0,\n  1.0,\n  1.0,\n  1.0,\n  1.0,\n  1.0,\n  1.0,\n  1.0,\n  1.0,\n  1.0,\n  1.0,\n  1.0,\n  1.0,\n  1.0,\n  1.0,\n  1.0,\n  1.0,\n  1.0,\n  1.0,\n  1.0,\n  1.0],\n '<maybe_frac>->.<digits>': [0.0,\n  0.0,\n  0.0,\n  0.0,\n  0.0,\n  0.0,\n  0.0,\n  0.0,\n  0.0,\n  0.0,\n  0.0,\n  0.0,\n  0.0,\n  0.0,\n  0.0,\n  0.0,\n  0.0,\n  0.0,\n  0.0,\n  0.0,\n  0.0]}"
     },
     "metadata": {},
     "output_type": "display_data"
    }
   ],
   "source": [
    "display(r)"
   ],
   "metadata": {
    "collapsed": false
   }
  },
  {
   "cell_type": "code",
   "execution_count": 49,
   "outputs": [
    {
     "name": "stdout",
     "output_type": "stream",
     "text": [
      "21\n"
     ]
    }
   ],
   "source": [
    "from evogfuzz.evogfuzz_class import GrammarType\n",
    "reduced = list(filter(lambda x: x[1] == GrammarType.LEARNED or GrammarType.MUTATED, all_prob_grammars_org))\n",
    "reduced = [g[0] for g in reduced]\n",
    "print(len(reduced))\n",
    "dicts = parse_prob_grammars(reduced)"
   ],
   "metadata": {
    "collapsed": false
   }
  },
  {
   "cell_type": "code",
   "execution_count": 50,
   "outputs": [
    {
     "data": {
      "text/plain": "{'<start>-><arith_expr>': [1.0,\n  1.0,\n  1.0,\n  1.0,\n  1.0,\n  1.0,\n  1.0,\n  1.0,\n  1.0,\n  1.0,\n  1.0,\n  1.0,\n  1.0,\n  1.0,\n  1.0,\n  1.0,\n  1.0,\n  1.0,\n  1.0,\n  1.0,\n  1.0],\n '<arith_expr>-><function>(<number>)': [1.0,\n  1.0,\n  1.0,\n  1.0,\n  1.0,\n  1.0,\n  1.0,\n  1.0,\n  1.0,\n  1.0,\n  1.0,\n  1.0,\n  1.0,\n  1.0,\n  1.0,\n  1.0,\n  1.0,\n  1.0,\n  1.0,\n  1.0,\n  1.0],\n '<function>->sqrt': [0.5,\n  0.4,\n  0.4,\n  0.4,\n  0.4,\n  0.4,\n  0.4,\n  0.6,\n  0.6,\n  0.9,\n  0.40458924201674124,\n  0.8,\n  0.8,\n  1.0,\n  1.0,\n  1.0,\n  1.0,\n  1.0,\n  0.19122255850095415,\n  0.3,\n  0.3],\n '<function>->sin': [0.0,\n  0.0,\n  0.0,\n  0.0,\n  0.0,\n  0.0,\n  0.0,\n  0.0,\n  0.0,\n  0.0,\n  0.1388522949149471,\n  0.0,\n  0.0,\n  0.0,\n  0.0,\n  0.0,\n  0.0,\n  0.0,\n  0.039408795023880755,\n  0.0,\n  0.0],\n '<function>->cos': [0.25,\n  0.2,\n  0.2,\n  0.2,\n  0.2,\n  0.3,\n  0.3,\n  0.3,\n  0.3,\n  0.1,\n  0.35606951002684784,\n  0.2,\n  0.2,\n  0.0,\n  0.0,\n  0.0,\n  0.0,\n  0.0,\n  0.40250611177460077,\n  0.3,\n  0.3],\n '<function>->tan': [0.25,\n  0.4,\n  0.4,\n  0.4,\n  0.4,\n  0.3,\n  0.3,\n  0.1,\n  0.1,\n  0.0,\n  0.10048895304146377,\n  0.0,\n  0.0,\n  0.0,\n  0.0,\n  0.0,\n  0.0,\n  0.0,\n  0.36686253470056435,\n  0.4,\n  0.4],\n '<number>-><maybe_minus><onenine><maybe_digits><maybe_frac>': [1.0,\n  1.0,\n  1.0,\n  1.0,\n  1.0,\n  1.0,\n  1.0,\n  1.0,\n  1.0,\n  1.0,\n  1.0,\n  1.0,\n  1.0,\n  1.0,\n  1.0,\n  1.0,\n  1.0,\n  1.0,\n  1.0,\n  1.0,\n  1.0],\n '<maybe_minus>->': [0.75,\n  0.5,\n  0.5,\n  0.4,\n  0.4,\n  0.5,\n  0.15888673461870345,\n  0.2,\n  0.2,\n  0.0,\n  0.0,\n  0.0,\n  0.0,\n  0.0,\n  0.0,\n  0.0,\n  0.0,\n  0.0,\n  0.0,\n  0.0,\n  0.0],\n '<maybe_minus>->-': [0.25,\n  0.5,\n  0.5,\n  0.6,\n  0.6,\n  0.5,\n  0.8411132653812966,\n  0.8,\n  0.8,\n  1.0,\n  1.0,\n  1.0,\n  1.0,\n  1.0,\n  1.0,\n  1.0,\n  1.0,\n  1.0,\n  1.0,\n  1.0,\n  1.0],\n '<onenine>->1': [0.5,\n  0.5,\n  0.5,\n  0.4,\n  0.4,\n  0.4,\n  0.4,\n  0.2,\n  0.2,\n  0.1,\n  0.1,\n  0.1,\n  0.2890776837516317,\n  0.2,\n  0.2,\n  0.1,\n  0.1,\n  0.1,\n  0.1,\n  0.2,\n  0.10862527091727668],\n '<onenine>->2': [0.25,\n  0.3,\n  0.3,\n  0.5,\n  0.5,\n  0.6,\n  0.6,\n  0.8,\n  0.8,\n  0.9,\n  0.9,\n  0.9,\n  0.0234151369152083,\n  0.1,\n  0.1,\n  0.0,\n  0.0,\n  0.0,\n  0.0,\n  0.0,\n  0.015494053144589728],\n '<onenine>->3': [0.25,\n  0.2,\n  0.2,\n  0.1,\n  0.1,\n  0.0,\n  0.0,\n  0.0,\n  0.0,\n  0.0,\n  0.0,\n  0.0,\n  0.07537389216856212,\n  0.0,\n  0.0,\n  0.0,\n  0.0,\n  0.0,\n  0.0,\n  0.0,\n  0.043420385404745694],\n '<onenine>->4': [0.0,\n  0.0,\n  0.0,\n  0.0,\n  0.0,\n  0.0,\n  0.0,\n  0.0,\n  0.0,\n  0.0,\n  0.0,\n  0.0,\n  0.12635702201206434,\n  0.1,\n  0.1,\n  0.2,\n  0.2,\n  0.0,\n  0.0,\n  0.0,\n  0.14186061463238145],\n '<onenine>->5': [0.0,\n  0.0,\n  0.0,\n  0.0,\n  0.0,\n  0.0,\n  0.0,\n  0.0,\n  0.0,\n  0.0,\n  0.0,\n  0.0,\n  0.3325926678034584,\n  0.5,\n  0.5,\n  0.7,\n  0.7,\n  0.9,\n  0.9,\n  0.8,\n  0.06383795598774213],\n '<onenine>->6': [0.0,\n  0.0,\n  0.0,\n  0.0,\n  0.0,\n  0.0,\n  0.0,\n  0.0,\n  0.0,\n  0.0,\n  0.0,\n  0.0,\n  0.09059486606785011,\n  0.1,\n  0.1,\n  0.0,\n  0.0,\n  0.0,\n  0.0,\n  0.0,\n  0.2475096599148384],\n '<onenine>->7': [0.0,\n  0.0,\n  0.0,\n  0.0,\n  0.0,\n  0.0,\n  0.0,\n  0.0,\n  0.0,\n  0.0,\n  0.0,\n  0.0,\n  0.01508559680443325,\n  0.0,\n  0.0,\n  0.0,\n  0.0,\n  0.0,\n  0.0,\n  0.0,\n  0.0812453561442831],\n '<onenine>->8': [0.0,\n  0.0,\n  0.0,\n  0.0,\n  0.0,\n  0.0,\n  0.0,\n  0.0,\n  0.0,\n  0.0,\n  0.0,\n  0.0,\n  0.03785560441699061,\n  0.0,\n  0.0,\n  0.0,\n  0.0,\n  0.0,\n  0.0,\n  0.0,\n  0.12220370082583527],\n '<onenine>->9': [0.0,\n  0.0,\n  0.0,\n  0.0,\n  0.0,\n  0.0,\n  0.0,\n  0.0,\n  0.0,\n  0.0,\n  0.0,\n  0.0,\n  0.009647530059801165,\n  0.0,\n  0.0,\n  0.0,\n  0.0,\n  0.0,\n  0.0,\n  0.0,\n  0.1758030030283075],\n '<digit>->0': [0.16666666666666666,\n  0.2727272727272727,\n  0.2727272727272727,\n  0.09090909090909091,\n  0.09090909090909091,\n  0.25,\n  0.25,\n  0.38461538461538464,\n  0.38461538461538464,\n  0.3629032258064516,\n  0.3629032258064516,\n  0.3270440251572327,\n  0.3270440251572327,\n  0.2983425414364641,\n  0.10131628979246919,\n  0.1276595744680851,\n  0.1276595744680851,\n  0.16666666666666666,\n  0.16666666666666666,\n  0.19047619047619047,\n  0.19047619047619047],\n '<digit>->1': [0.0,\n  0.0,\n  0.0,\n  0.0,\n  0.0,\n  0.0,\n  0.0,\n  0.0,\n  0.0,\n  0.0,\n  0.0,\n  0.0,\n  0.0,\n  0.0,\n  0.048074483545772366,\n  0.07446808510638298,\n  0.07446808510638298,\n  0.05555555555555555,\n  0.05555555555555555,\n  0.09523809523809523,\n  0.09523809523809523],\n '<digit>->2': [0.16666666666666666,\n  0.18181818181818182,\n  0.18181818181818182,\n  0.0,\n  0.0,\n  0.0,\n  0.0,\n  0.0,\n  0.0,\n  0.0,\n  0.0,\n  0.0,\n  0.0,\n  0.0,\n  0.003886427821780046,\n  0.0,\n  0.0,\n  0.0,\n  0.0,\n  0.0,\n  0.0],\n '<digit>->3': [0.16666666666666666,\n  0.09090909090909091,\n  0.09090909090909091,\n  0.18181818181818182,\n  0.18181818181818182,\n  0.16666666666666666,\n  0.16666666666666666,\n  0.3076923076923077,\n  0.3076923076923077,\n  0.31451612903225806,\n  0.31451612903225806,\n  0.39622641509433965,\n  0.39622641509433965,\n  0.3701657458563536,\n  0.0754137681424026,\n  0.14893617021276595,\n  0.14893617021276595,\n  0.16666666666666666,\n  0.16666666666666666,\n  0.19047619047619047,\n  0.19047619047619047],\n '<digit>->4': [0.0,\n  0.0,\n  0.0,\n  0.0,\n  0.0,\n  0.0,\n  0.0,\n  0.0,\n  0.0,\n  0.0,\n  0.0,\n  0.0,\n  0.0,\n  0.0,\n  0.13414400099800877,\n  0.1276595744680851,\n  0.1276595744680851,\n  0.1111111111111111,\n  0.1111111111111111,\n  0.19047619047619047,\n  0.19047619047619047],\n '<digit>->5': [0.0,\n  0.0,\n  0.0,\n  0.0,\n  0.0,\n  0.0,\n  0.0,\n  0.0,\n  0.0,\n  0.0,\n  0.0,\n  0.0,\n  0.0,\n  0.0,\n  0.16562668198723543,\n  0.1276595744680851,\n  0.1276595744680851,\n  0.1111111111111111,\n  0.1111111111111111,\n  0.09523809523809523,\n  0.09523809523809523],\n '<digit>->6': [0.16666666666666666,\n  0.09090909090909091,\n  0.09090909090909091,\n  0.18181818181818182,\n  0.18181818181818182,\n  0.16666666666666666,\n  0.16666666666666666,\n  0.07692307692307693,\n  0.07692307692307693,\n  0.10483870967741936,\n  0.10483870967741936,\n  0.06918238993710692,\n  0.06918238993710692,\n  0.07734806629834254,\n  0.16102163765608363,\n  0.1276595744680851,\n  0.1276595744680851,\n  0.05555555555555555,\n  0.05555555555555555,\n  0.0,\n  0.0],\n '<digit>->7': [0.16666666666666666,\n  0.18181818181818182,\n  0.18181818181818182,\n  0.45454545454545453,\n  0.45454545454545453,\n  0.3333333333333333,\n  0.3333333333333333,\n  0.15384615384615385,\n  0.15384615384615385,\n  0.13709677419354838,\n  0.13709677419354838,\n  0.11949685534591195,\n  0.11949685534591195,\n  0.16574585635359115,\n  0.07839560531982569,\n  0.09574468085106383,\n  0.09574468085106383,\n  0.16666666666666666,\n  0.16666666666666666,\n  0.14285714285714285,\n  0.14285714285714285],\n '<digit>->8': [0.16666666666666666,\n  0.18181818181818182,\n  0.18181818181818182,\n  0.09090909090909091,\n  0.09090909090909091,\n  0.08333333333333333,\n  0.08333333333333333,\n  0.07692307692307693,\n  0.07692307692307693,\n  0.08064516129032258,\n  0.08064516129032258,\n  0.0880503144654088,\n  0.0880503144654088,\n  0.08839779005524862,\n  0.1401934954107167,\n  0.07446808510638298,\n  0.07446808510638298,\n  0.05555555555555555,\n  0.05555555555555555,\n  0.047619047619047616,\n  0.047619047619047616],\n '<digit>->9': [0.0,\n  0.0,\n  0.0,\n  0.0,\n  0.0,\n  0.0,\n  0.0,\n  0.0,\n  0.0,\n  0.0,\n  0.0,\n  0.0,\n  0.0,\n  0.0,\n  0.09192760932570541,\n  0.09574468085106383,\n  0.09574468085106383,\n  0.1111111111111111,\n  0.1111111111111111,\n  0.047619047619047616,\n  0.047619047619047616],\n '<maybe_digits>->': [0.25,\n  0.1,\n  0.5660729896592361,\n  0.1,\n  0.1,\n  0.0,\n  0.0,\n  0.0,\n  0.0,\n  0.0,\n  0.0,\n  0.0,\n  0.0,\n  0.0,\n  0.0,\n  0.0,\n  0.0,\n  0.0,\n  0.0,\n  0.0,\n  0.0],\n '<maybe_digits>-><digits>': [0.75,\n  0.9,\n  0.4339270103407638,\n  0.9,\n  0.9,\n  1.0,\n  1.0,\n  1.0,\n  1.0,\n  1.0,\n  1.0,\n  1.0,\n  1.0,\n  1.0,\n  1.0,\n  1.0,\n  1.0,\n  1.0,\n  1.0,\n  1.0,\n  1.0],\n '<digits>-><digit>': [0.5,\n  0.8181818181818182,\n  0.8181818181818182,\n  0.8181818181818182,\n  0.8517267755914738,\n  0.8333333333333334,\n  0.8333333333333334,\n  0.7692307692307693,\n  0.11255535712482267,\n  0.08064516129032258,\n  0.08064516129032258,\n  0.06289308176100629,\n  0.06289308176100629,\n  0.055248618784530384,\n  0.055248618784530384,\n  0.10638297872340426,\n  0.6527095767024443,\n  0.5555555555555556,\n  0.5555555555555556,\n  0.47619047619047616,\n  0.47619047619047616],\n '<digits>-><digit><digits>': [0.5,\n  0.18181818181818182,\n  0.18181818181818182,\n  0.18181818181818182,\n  0.14827322440852614,\n  0.16666666666666666,\n  0.16666666666666666,\n  0.23076923076923078,\n  0.8874446428751772,\n  0.9193548387096774,\n  0.9193548387096774,\n  0.9371069182389937,\n  0.9371069182389937,\n  0.9447513812154696,\n  0.9447513812154696,\n  0.8936170212765957,\n  0.3472904232975557,\n  0.4444444444444444,\n  0.4444444444444444,\n  0.5238095238095238,\n  0.5238095238095238],\n '<maybe_frac>->': [1.0,\n  1.0,\n  1.0,\n  1.0,\n  1.0,\n  1.0,\n  1.0,\n  1.0,\n  1.0,\n  1.0,\n  1.0,\n  1.0,\n  1.0,\n  1.0,\n  1.0,\n  1.0,\n  1.0,\n  1.0,\n  1.0,\n  1.0,\n  1.0],\n '<maybe_frac>->.<digits>': [0.0,\n  0.0,\n  0.0,\n  0.0,\n  0.0,\n  0.0,\n  0.0,\n  0.0,\n  0.0,\n  0.0,\n  0.0,\n  0.0,\n  0.0,\n  0.0,\n  0.0,\n  0.0,\n  0.0,\n  0.0,\n  0.0,\n  0.0,\n  0.0]}"
     },
     "metadata": {},
     "output_type": "display_data"
    }
   ],
   "source": [
    "display(dicts)"
   ],
   "metadata": {
    "collapsed": false
   }
  },
  {
   "cell_type": "code",
   "execution_count": 59,
   "outputs": [
    {
     "data": {
      "text/plain": "<Figure size 640x480 with 1 Axes>",
      "image/png": "[encoded data removed]"
     },
     "metadata": {},
     "output_type": "display_data"
    }
   ],
   "source": [
    "import matplotlib.pyplot as plt\n",
    "\n",
    "xvals = [i for i in range(len(reduced))]\n",
    "\n",
    "f, ax = plt.subplots(1)\n",
    "\n",
    "feature_disp = ['<function>->cos', '<function>->sqrt', '<maybe_minus>->-']\n",
    "\n",
    "for feature in feature_disp:\n",
    "    ax.plot(xvals, dicts[feature])\n"
   ],
   "metadata": {
    "collapsed": false
   }
  },
  {
   "cell_type": "code",
   "execution_count": 51,
   "outputs": [],
   "source": [],
   "metadata": {
    "collapsed": false
   }
  },
  {
   "cell_type": "code",
   "execution_count": 51,
   "outputs": [],
   "source": [],
   "metadata": {
    "collapsed": false
   }
  },
  {
   "cell_type": "code",
   "execution_count": 52,
   "outputs": [
    {
     "data": {
      "text/plain": "[({'<start>': [('<arith_expr>', {'prob': None})],\n   '<arith_expr>': [('<function>(<number>)', {'prob': None})],\n   '<function>': [('sqrt', {'prob': 0.5}),\n    ('sin', {'prob': 0.0}),\n    ('cos', {'prob': 0.25}),\n    ('tan', {'prob': 0.25})],\n   '<number>': [('<maybe_minus><onenine><maybe_digits><maybe_frac>',\n     {'prob': None})],\n   '<maybe_minus>': [('', {'prob': 0.75}), ('-', {'prob': 0.25})],\n   '<onenine>': [('1', {'prob': 0.5}),\n    ('2', {'prob': 0.25}),\n    ('3', {'prob': 0.25}),\n    ('4', {'prob': 0.0}),\n    ('5', {'prob': 0.0}),\n    ('6', {'prob': 0.0}),\n    ('7', {'prob': 0.0}),\n    ('8', {'prob': 0.0}),\n    ('9', {'prob': 0.0})],\n   '<digit>': [('0', {'prob': 0.16666666666666666}),\n    ('1', {'prob': 0.0}),\n    ('2', {'prob': 0.16666666666666666}),\n    ('3', {'prob': 0.16666666666666666}),\n    ('4', {'prob': 0.0}),\n    ('5', {'prob': 0.0}),\n    ('6', {'prob': 0.16666666666666666}),\n    ('7', {'prob': 0.16666666666666666}),\n    ('8', {'prob': 0.16666666666666666}),\n    ('9', {'prob': 0.0})],\n   '<maybe_digits>': [('', {'prob': 0.25}), ('<digits>', {'prob': 0.75})],\n   '<digits>': [('<digit>', {'prob': 0.5}),\n    ('<digit><digits>', {'prob': 0.5})],\n   '<maybe_frac>': [('', {'prob': 1.0}), ('.<digits>', {'prob': 0.0})]},\n  <GrammarType.LEARNED: 'learned'>,\n  3),\n ({'<start>': [('<arith_expr>', {'prob': None})],\n   '<arith_expr>': [('<function>(<number>)', {'prob': None})],\n   '<function>': [('sqrt', {'prob': 0.4}),\n    ('sin', {'prob': 0.0}),\n    ('cos', {'prob': 0.2}),\n    ('tan', {'prob': 0.4})],\n   '<number>': [('<maybe_minus><onenine><maybe_digits><maybe_frac>',\n     {'prob': None})],\n   '<maybe_minus>': [('', {'prob': 0.5}), ('-', {'prob': 0.5})],\n   '<onenine>': [('1', {'prob': 0.5}),\n    ('2', {'prob': 0.3}),\n    ('3', {'prob': 0.2}),\n    ('4', {'prob': 0.0}),\n    ('5', {'prob': 0.0}),\n    ('6', {'prob': 0.0}),\n    ('7', {'prob': 0.0}),\n    ('8', {'prob': 0.0}),\n    ('9', {'prob': 0.0})],\n   '<digit>': [('0', {'prob': 0.2727272727272727}),\n    ('1', {'prob': 0.0}),\n    ('2', {'prob': 0.18181818181818182}),\n    ('3', {'prob': 0.09090909090909091}),\n    ('4', {'prob': 0.0}),\n    ('5', {'prob': 0.0}),\n    ('6', {'prob': 0.09090909090909091}),\n    ('7', {'prob': 0.18181818181818182}),\n    ('8', {'prob': 0.18181818181818182}),\n    ('9', {'prob': 0.0})],\n   '<maybe_digits>': [('', {'prob': 0.1}), ('<digits>', {'prob': 0.9})],\n   '<digits>': [('<digit>', {'prob': 0.8181818181818182}),\n    ('<digit><digits>', {'prob': 0.18181818181818182})],\n   '<maybe_frac>': [('', {'prob': 1.0}), ('.<digits>', {'prob': 0.0})]},\n  <GrammarType.LEARNED: 'learned'>,\n  -1),\n ({'<start>': [('<arith_expr>', {'prob': None})],\n   '<arith_expr>': [('<function>(<number>)', {'prob': None})],\n   '<function>': [('sqrt', {'prob': 0.4}),\n    ('sin', {'prob': 0.0}),\n    ('cos', {'prob': 0.2}),\n    ('tan', {'prob': 0.4})],\n   '<number>': [('<maybe_minus><onenine><maybe_digits><maybe_frac>',\n     {'prob': None})],\n   '<maybe_minus>': [('', {'prob': 0.5}), ('-', {'prob': 0.5})],\n   '<onenine>': [('1', {'prob': 0.5}),\n    ('2', {'prob': 0.3}),\n    ('3', {'prob': 0.2}),\n    ('4', {'prob': 0.0}),\n    ('5', {'prob': 0.0}),\n    ('6', {'prob': 0.0}),\n    ('7', {'prob': 0.0}),\n    ('8', {'prob': 0.0}),\n    ('9', {'prob': 0.0})],\n   '<digit>': [('0', {'prob': 0.2727272727272727}),\n    ('1', {'prob': 0.0}),\n    ('2', {'prob': 0.18181818181818182}),\n    ('3', {'prob': 0.09090909090909091}),\n    ('4', {'prob': 0.0}),\n    ('5', {'prob': 0.0}),\n    ('6', {'prob': 0.09090909090909091}),\n    ('7', {'prob': 0.18181818181818182}),\n    ('8', {'prob': 0.18181818181818182}),\n    ('9', {'prob': 0.0})],\n   '<maybe_digits>': [('', {'prob': 0.5660729896592361}),\n    ('<digits>', {'prob': 0.4339270103407638})],\n   '<digits>': [('<digit>', {'prob': 0.8181818181818182}),\n    ('<digit><digits>', {'prob': 0.18181818181818182})],\n   '<maybe_frac>': [('', {'prob': 1.0}), ('.<digits>', {'prob': 0.0})]},\n  <GrammarType.MUTATED: 'mutated'>,\n  3),\n ({'<start>': [('<arith_expr>', {'prob': None})],\n   '<arith_expr>': [('<function>(<number>)', {'prob': None})],\n   '<function>': [('sqrt', {'prob': 0.4}),\n    ('sin', {'prob': 0.0}),\n    ('cos', {'prob': 0.2}),\n    ('tan', {'prob': 0.4})],\n   '<number>': [('<maybe_minus><onenine><maybe_digits><maybe_frac>',\n     {'prob': None})],\n   '<maybe_minus>': [('', {'prob': 0.4}), ('-', {'prob': 0.6})],\n   '<onenine>': [('1', {'prob': 0.4}),\n    ('2', {'prob': 0.5}),\n    ('3', {'prob': 0.1}),\n    ('4', {'prob': 0.0}),\n    ('5', {'prob': 0.0}),\n    ('6', {'prob': 0.0}),\n    ('7', {'prob': 0.0}),\n    ('8', {'prob': 0.0}),\n    ('9', {'prob': 0.0})],\n   '<digit>': [('0', {'prob': 0.09090909090909091}),\n    ('1', {'prob': 0.0}),\n    ('2', {'prob': 0.0}),\n    ('3', {'prob': 0.18181818181818182}),\n    ('4', {'prob': 0.0}),\n    ('5', {'prob': 0.0}),\n    ('6', {'prob': 0.18181818181818182}),\n    ('7', {'prob': 0.45454545454545453}),\n    ('8', {'prob': 0.09090909090909091}),\n    ('9', {'prob': 0.0})],\n   '<maybe_digits>': [('', {'prob': 0.1}), ('<digits>', {'prob': 0.9})],\n   '<digits>': [('<digit>', {'prob': 0.8181818181818182}),\n    ('<digit><digits>', {'prob': 0.18181818181818182})],\n   '<maybe_frac>': [('', {'prob': 1.0}), ('.<digits>', {'prob': 0.0})]},\n  <GrammarType.LEARNED: 'learned'>,\n  -1),\n ({'<start>': [('<arith_expr>', {'prob': None})],\n   '<arith_expr>': [('<function>(<number>)', {'prob': None})],\n   '<function>': [('sqrt', {'prob': 0.4}),\n    ('sin', {'prob': 0.0}),\n    ('cos', {'prob': 0.2}),\n    ('tan', {'prob': 0.4})],\n   '<number>': [('<maybe_minus><onenine><maybe_digits><maybe_frac>',\n     {'prob': None})],\n   '<maybe_minus>': [('', {'prob': 0.4}), ('-', {'prob': 0.6})],\n   '<onenine>': [('1', {'prob': 0.4}),\n    ('2', {'prob': 0.5}),\n    ('3', {'prob': 0.1}),\n    ('4', {'prob': 0.0}),\n    ('5', {'prob': 0.0}),\n    ('6', {'prob': 0.0}),\n    ('7', {'prob': 0.0}),\n    ('8', {'prob': 0.0}),\n    ('9', {'prob': 0.0})],\n   '<digit>': [('0', {'prob': 0.09090909090909091}),\n    ('1', {'prob': 0.0}),\n    ('2', {'prob': 0.0}),\n    ('3', {'prob': 0.18181818181818182}),\n    ('4', {'prob': 0.0}),\n    ('5', {'prob': 0.0}),\n    ('6', {'prob': 0.18181818181818182}),\n    ('7', {'prob': 0.45454545454545453}),\n    ('8', {'prob': 0.09090909090909091}),\n    ('9', {'prob': 0.0})],\n   '<maybe_digits>': [('', {'prob': 0.1}), ('<digits>', {'prob': 0.9})],\n   '<digits>': [('<digit>', {'prob': 0.8517267755914738}),\n    ('<digit><digits>', {'prob': 0.14827322440852614})],\n   '<maybe_frac>': [('', {'prob': 1.0}), ('.<digits>', {'prob': 0.0})]},\n  <GrammarType.MUTATED: 'mutated'>,\n  2),\n ({'<start>': [('<arith_expr>', {'prob': None})],\n   '<arith_expr>': [('<function>(<number>)', {'prob': None})],\n   '<function>': [('sqrt', {'prob': 0.4}),\n    ('sin', {'prob': 0.0}),\n    ('cos', {'prob': 0.3}),\n    ('tan', {'prob': 0.3})],\n   '<number>': [('<maybe_minus><onenine><maybe_digits><maybe_frac>',\n     {'prob': None})],\n   '<maybe_minus>': [('', {'prob': 0.5}), ('-', {'prob': 0.5})],\n   '<onenine>': [('1', {'prob': 0.4}),\n    ('2', {'prob': 0.6}),\n    ('3', {'prob': 0.0}),\n    ('4', {'prob': 0.0}),\n    ('5', {'prob': 0.0}),\n    ('6', {'prob': 0.0}),\n    ('7', {'prob': 0.0}),\n    ('8', {'prob': 0.0}),\n    ('9', {'prob': 0.0})],\n   '<digit>': [('0', {'prob': 0.25}),\n    ('1', {'prob': 0.0}),\n    ('2', {'prob': 0.0}),\n    ('3', {'prob': 0.16666666666666666}),\n    ('4', {'prob': 0.0}),\n    ('5', {'prob': 0.0}),\n    ('6', {'prob': 0.16666666666666666}),\n    ('7', {'prob': 0.3333333333333333}),\n    ('8', {'prob': 0.08333333333333333}),\n    ('9', {'prob': 0.0})],\n   '<maybe_digits>': [('', {'prob': 0.0}), ('<digits>', {'prob': 1.0})],\n   '<digits>': [('<digit>', {'prob': 0.8333333333333334}),\n    ('<digit><digits>', {'prob': 0.16666666666666666})],\n   '<maybe_frac>': [('', {'prob': 1.0}), ('.<digits>', {'prob': 0.0})]},\n  <GrammarType.LEARNED: 'learned'>,\n  -1),\n ({'<start>': [('<arith_expr>', {'prob': None})],\n   '<arith_expr>': [('<function>(<number>)', {'prob': None})],\n   '<function>': [('sqrt', {'prob': 0.4}),\n    ('sin', {'prob': 0.0}),\n    ('cos', {'prob': 0.3}),\n    ('tan', {'prob': 0.3})],\n   '<number>': [('<maybe_minus><onenine><maybe_digits><maybe_frac>',\n     {'prob': None})],\n   '<maybe_minus>': [('', {'prob': 0.15888673461870345}),\n    ('-', {'prob': 0.8411132653812966})],\n   '<onenine>': [('1', {'prob': 0.4}),\n    ('2', {'prob': 0.6}),\n    ('3', {'prob': 0.0}),\n    ('4', {'prob': 0.0}),\n    ('5', {'prob': 0.0}),\n    ('6', {'prob': 0.0}),\n    ('7', {'prob': 0.0}),\n    ('8', {'prob': 0.0}),\n    ('9', {'prob': 0.0})],\n   '<digit>': [('0', {'prob': 0.25}),\n    ('1', {'prob': 0.0}),\n    ('2', {'prob': 0.0}),\n    ('3', {'prob': 0.16666666666666666}),\n    ('4', {'prob': 0.0}),\n    ('5', {'prob': 0.0}),\n    ('6', {'prob': 0.16666666666666666}),\n    ('7', {'prob': 0.3333333333333333}),\n    ('8', {'prob': 0.08333333333333333}),\n    ('9', {'prob': 0.0})],\n   '<maybe_digits>': [('', {'prob': 0.0}), ('<digits>', {'prob': 1.0})],\n   '<digits>': [('<digit>', {'prob': 0.8333333333333334}),\n    ('<digit><digits>', {'prob': 0.16666666666666666})],\n   '<maybe_frac>': [('', {'prob': 1.0}), ('.<digits>', {'prob': 0.0})]},\n  <GrammarType.MUTATED: 'mutated'>,\n  6),\n ({'<start>': [('<arith_expr>', {'prob': None})],\n   '<arith_expr>': [('<function>(<number>)', {'prob': None})],\n   '<function>': [('sqrt', {'prob': 0.6}),\n    ('sin', {'prob': 0.0}),\n    ('cos', {'prob': 0.3}),\n    ('tan', {'prob': 0.1})],\n   '<number>': [('<maybe_minus><onenine><maybe_digits><maybe_frac>',\n     {'prob': None})],\n   '<maybe_minus>': [('', {'prob': 0.2}), ('-', {'prob': 0.8})],\n   '<onenine>': [('1', {'prob': 0.2}),\n    ('2', {'prob': 0.8}),\n    ('3', {'prob': 0.0}),\n    ('4', {'prob': 0.0}),\n    ('5', {'prob': 0.0}),\n    ('6', {'prob': 0.0}),\n    ('7', {'prob': 0.0}),\n    ('8', {'prob': 0.0}),\n    ('9', {'prob': 0.0})],\n   '<digit>': [('0', {'prob': 0.38461538461538464}),\n    ('1', {'prob': 0.0}),\n    ('2', {'prob': 0.0}),\n    ('3', {'prob': 0.3076923076923077}),\n    ('4', {'prob': 0.0}),\n    ('5', {'prob': 0.0}),\n    ('6', {'prob': 0.07692307692307693}),\n    ('7', {'prob': 0.15384615384615385}),\n    ('8', {'prob': 0.07692307692307693}),\n    ('9', {'prob': 0.0})],\n   '<maybe_digits>': [('', {'prob': 0.0}), ('<digits>', {'prob': 1.0})],\n   '<digits>': [('<digit>', {'prob': 0.7692307692307693}),\n    ('<digit><digits>', {'prob': 0.23076923076923078})],\n   '<maybe_frac>': [('', {'prob': 1.0}), ('.<digits>', {'prob': 0.0})]},\n  <GrammarType.LEARNED: 'learned'>,\n  -1),\n ({'<start>': [('<arith_expr>', {'prob': None})],\n   '<arith_expr>': [('<function>(<number>)', {'prob': None})],\n   '<function>': [('sqrt', {'prob': 0.6}),\n    ('sin', {'prob': 0.0}),\n    ('cos', {'prob': 0.3}),\n    ('tan', {'prob': 0.1})],\n   '<number>': [('<maybe_minus><onenine><maybe_digits><maybe_frac>',\n     {'prob': None})],\n   '<maybe_minus>': [('', {'prob': 0.2}), ('-', {'prob': 0.8})],\n   '<onenine>': [('1', {'prob': 0.2}),\n    ('2', {'prob': 0.8}),\n    ('3', {'prob': 0.0}),\n    ('4', {'prob': 0.0}),\n    ('5', {'prob': 0.0}),\n    ('6', {'prob': 0.0}),\n    ('7', {'prob': 0.0}),\n    ('8', {'prob': 0.0}),\n    ('9', {'prob': 0.0})],\n   '<digit>': [('0', {'prob': 0.38461538461538464}),\n    ('1', {'prob': 0.0}),\n    ('2', {'prob': 0.0}),\n    ('3', {'prob': 0.3076923076923077}),\n    ('4', {'prob': 0.0}),\n    ('5', {'prob': 0.0}),\n    ('6', {'prob': 0.07692307692307693}),\n    ('7', {'prob': 0.15384615384615385}),\n    ('8', {'prob': 0.07692307692307693}),\n    ('9', {'prob': 0.0})],\n   '<maybe_digits>': [('', {'prob': 0.0}), ('<digits>', {'prob': 1.0})],\n   '<digits>': [('<digit>', {'prob': 0.11255535712482267}),\n    ('<digit><digits>', {'prob': 0.8874446428751772})],\n   '<maybe_frac>': [('', {'prob': 1.0}), ('.<digits>', {'prob': 0.0})]},\n  <GrammarType.MUTATED: 'mutated'>,\n  9),\n ({'<start>': [('<arith_expr>', {'prob': None})],\n   '<arith_expr>': [('<function>(<number>)', {'prob': None})],\n   '<function>': [('sqrt', {'prob': 0.9}),\n    ('sin', {'prob': 0.0}),\n    ('cos', {'prob': 0.1}),\n    ('tan', {'prob': 0.0})],\n   '<number>': [('<maybe_minus><onenine><maybe_digits><maybe_frac>',\n     {'prob': None})],\n   '<maybe_minus>': [('', {'prob': 0.0}), ('-', {'prob': 1.0})],\n   '<onenine>': [('1', {'prob': 0.1}),\n    ('2', {'prob': 0.9}),\n    ('3', {'prob': 0.0}),\n    ('4', {'prob': 0.0}),\n    ('5', {'prob': 0.0}),\n    ('6', {'prob': 0.0}),\n    ('7', {'prob': 0.0}),\n    ('8', {'prob': 0.0}),\n    ('9', {'prob': 0.0})],\n   '<digit>': [('0', {'prob': 0.3629032258064516}),\n    ('1', {'prob': 0.0}),\n    ('2', {'prob': 0.0}),\n    ('3', {'prob': 0.31451612903225806}),\n    ('4', {'prob': 0.0}),\n    ('5', {'prob': 0.0}),\n    ('6', {'prob': 0.10483870967741936}),\n    ('7', {'prob': 0.13709677419354838}),\n    ('8', {'prob': 0.08064516129032258}),\n    ('9', {'prob': 0.0})],\n   '<maybe_digits>': [('', {'prob': 0.0}), ('<digits>', {'prob': 1.0})],\n   '<digits>': [('<digit>', {'prob': 0.08064516129032258}),\n    ('<digit><digits>', {'prob': 0.9193548387096774})],\n   '<maybe_frac>': [('', {'prob': 1.0}), ('.<digits>', {'prob': 0.0})]},\n  <GrammarType.LEARNED: 'learned'>,\n  -1),\n ({'<start>': [('<arith_expr>', {'prob': None})],\n   '<arith_expr>': [('<function>(<number>)', {'prob': None})],\n   '<function>': [('sqrt', {'prob': 0.40458924201674124}),\n    ('sin', {'prob': 0.1388522949149471}),\n    ('cos', {'prob': 0.35606951002684784}),\n    ('tan', {'prob': 0.10048895304146377})],\n   '<number>': [('<maybe_minus><onenine><maybe_digits><maybe_frac>',\n     {'prob': None})],\n   '<maybe_minus>': [('', {'prob': 0.0}), ('-', {'prob': 1.0})],\n   '<onenine>': [('1', {'prob': 0.1}),\n    ('2', {'prob': 0.9}),\n    ('3', {'prob': 0.0}),\n    ('4', {'prob': 0.0}),\n    ('5', {'prob': 0.0}),\n    ('6', {'prob': 0.0}),\n    ('7', {'prob': 0.0}),\n    ('8', {'prob': 0.0}),\n    ('9', {'prob': 0.0})],\n   '<digit>': [('0', {'prob': 0.3629032258064516}),\n    ('1', {'prob': 0.0}),\n    ('2', {'prob': 0.0}),\n    ('3', {'prob': 0.31451612903225806}),\n    ('4', {'prob': 0.0}),\n    ('5', {'prob': 0.0}),\n    ('6', {'prob': 0.10483870967741936}),\n    ('7', {'prob': 0.13709677419354838}),\n    ('8', {'prob': 0.08064516129032258}),\n    ('9', {'prob': 0.0})],\n   '<maybe_digits>': [('', {'prob': 0.0}), ('<digits>', {'prob': 1.0})],\n   '<digits>': [('<digit>', {'prob': 0.08064516129032258}),\n    ('<digit><digits>', {'prob': 0.9193548387096774})],\n   '<maybe_frac>': [('', {'prob': 1.0}), ('.<digits>', {'prob': 0.0})]},\n  <GrammarType.MUTATED: 'mutated'>,\n  8),\n ({'<start>': [('<arith_expr>', {'prob': None})],\n   '<arith_expr>': [('<function>(<number>)', {'prob': None})],\n   '<function>': [('sqrt', {'prob': 0.8}),\n    ('sin', {'prob': 0.0}),\n    ('cos', {'prob': 0.2}),\n    ('tan', {'prob': 0.0})],\n   '<number>': [('<maybe_minus><onenine><maybe_digits><maybe_frac>',\n     {'prob': None})],\n   '<maybe_minus>': [('', {'prob': 0.0}), ('-', {'prob': 1.0})],\n   '<onenine>': [('1', {'prob': 0.1}),\n    ('2', {'prob': 0.9}),\n    ('3', {'prob': 0.0}),\n    ('4', {'prob': 0.0}),\n    ('5', {'prob': 0.0}),\n    ('6', {'prob': 0.0}),\n    ('7', {'prob': 0.0}),\n    ('8', {'prob': 0.0}),\n    ('9', {'prob': 0.0})],\n   '<digit>': [('0', {'prob': 0.3270440251572327}),\n    ('1', {'prob': 0.0}),\n    ('2', {'prob': 0.0}),\n    ('3', {'prob': 0.39622641509433965}),\n    ('4', {'prob': 0.0}),\n    ('5', {'prob': 0.0}),\n    ('6', {'prob': 0.06918238993710692}),\n    ('7', {'prob': 0.11949685534591195}),\n    ('8', {'prob': 0.0880503144654088}),\n    ('9', {'prob': 0.0})],\n   '<maybe_digits>': [('', {'prob': 0.0}), ('<digits>', {'prob': 1.0})],\n   '<digits>': [('<digit>', {'prob': 0.06289308176100629}),\n    ('<digit><digits>', {'prob': 0.9371069182389937})],\n   '<maybe_frac>': [('', {'prob': 1.0}), ('.<digits>', {'prob': 0.0})]},\n  <GrammarType.LEARNED: 'learned'>,\n  -1),\n ({'<start>': [('<arith_expr>', {'prob': None})],\n   '<arith_expr>': [('<function>(<number>)', {'prob': None})],\n   '<function>': [('sqrt', {'prob': 0.8}),\n    ('sin', {'prob': 0.0}),\n    ('cos', {'prob': 0.2}),\n    ('tan', {'prob': 0.0})],\n   '<number>': [('<maybe_minus><onenine><maybe_digits><maybe_frac>',\n     {'prob': None})],\n   '<maybe_minus>': [('', {'prob': 0.0}), ('-', {'prob': 1.0})],\n   '<onenine>': [('1', {'prob': 0.2890776837516317}),\n    ('2', {'prob': 0.0234151369152083}),\n    ('3', {'prob': 0.07537389216856212}),\n    ('4', {'prob': 0.12635702201206434}),\n    ('5', {'prob': 0.3325926678034584}),\n    ('6', {'prob': 0.09059486606785011}),\n    ('7', {'prob': 0.01508559680443325}),\n    ('8', {'prob': 0.03785560441699061}),\n    ('9', {'prob': 0.009647530059801165})],\n   '<digit>': [('0', {'prob': 0.3270440251572327}),\n    ('1', {'prob': 0.0}),\n    ('2', {'prob': 0.0}),\n    ('3', {'prob': 0.39622641509433965}),\n    ('4', {'prob': 0.0}),\n    ('5', {'prob': 0.0}),\n    ('6', {'prob': 0.06918238993710692}),\n    ('7', {'prob': 0.11949685534591195}),\n    ('8', {'prob': 0.0880503144654088}),\n    ('9', {'prob': 0.0})],\n   '<maybe_digits>': [('', {'prob': 0.0}), ('<digits>', {'prob': 1.0})],\n   '<digits>': [('<digit>', {'prob': 0.06289308176100629}),\n    ('<digit><digits>', {'prob': 0.9371069182389937})],\n   '<maybe_frac>': [('', {'prob': 1.0}), ('.<digits>', {'prob': 0.0})]},\n  <GrammarType.MUTATED: 'mutated'>,\n  10),\n ({'<start>': [('<arith_expr>', {'prob': None})],\n   '<arith_expr>': [('<function>(<number>)', {'prob': None})],\n   '<function>': [('sqrt', {'prob': 1.0}),\n    ('sin', {'prob': 0.0}),\n    ('cos', {'prob': 0.0}),\n    ('tan', {'prob': 0.0})],\n   '<number>': [('<maybe_minus><onenine><maybe_digits><maybe_frac>',\n     {'prob': None})],\n   '<maybe_minus>': [('', {'prob': 0.0}), ('-', {'prob': 1.0})],\n   '<onenine>': [('1', {'prob': 0.2}),\n    ('2', {'prob': 0.1}),\n    ('3', {'prob': 0.0}),\n    ('4', {'prob': 0.1}),\n    ('5', {'prob': 0.5}),\n    ('6', {'prob': 0.1}),\n    ('7', {'prob': 0.0}),\n    ('8', {'prob': 0.0}),\n    ('9', {'prob': 0.0})],\n   '<digit>': [('0', {'prob': 0.2983425414364641}),\n    ('1', {'prob': 0.0}),\n    ('2', {'prob': 0.0}),\n    ('3', {'prob': 0.3701657458563536}),\n    ('4', {'prob': 0.0}),\n    ('5', {'prob': 0.0}),\n    ('6', {'prob': 0.07734806629834254}),\n    ('7', {'prob': 0.16574585635359115}),\n    ('8', {'prob': 0.08839779005524862}),\n    ('9', {'prob': 0.0})],\n   '<maybe_digits>': [('', {'prob': 0.0}), ('<digits>', {'prob': 1.0})],\n   '<digits>': [('<digit>', {'prob': 0.055248618784530384}),\n    ('<digit><digits>', {'prob': 0.9447513812154696})],\n   '<maybe_frac>': [('', {'prob': 1.0}), ('.<digits>', {'prob': 0.0})]},\n  <GrammarType.LEARNED: 'learned'>,\n  -1),\n ({'<start>': [('<arith_expr>', {'prob': None})],\n   '<arith_expr>': [('<function>(<number>)', {'prob': None})],\n   '<function>': [('sqrt', {'prob': 1.0}),\n    ('sin', {'prob': 0.0}),\n    ('cos', {'prob': 0.0}),\n    ('tan', {'prob': 0.0})],\n   '<number>': [('<maybe_minus><onenine><maybe_digits><maybe_frac>',\n     {'prob': None})],\n   '<maybe_minus>': [('', {'prob': 0.0}), ('-', {'prob': 1.0})],\n   '<onenine>': [('1', {'prob': 0.2}),\n    ('2', {'prob': 0.1}),\n    ('3', {'prob': 0.0}),\n    ('4', {'prob': 0.1}),\n    ('5', {'prob': 0.5}),\n    ('6', {'prob': 0.1}),\n    ('7', {'prob': 0.0}),\n    ('8', {'prob': 0.0}),\n    ('9', {'prob': 0.0})],\n   '<digit>': [('0', {'prob': 0.10131628979246919}),\n    ('1', {'prob': 0.048074483545772366}),\n    ('2', {'prob': 0.003886427821780046}),\n    ('3', {'prob': 0.0754137681424026}),\n    ('4', {'prob': 0.13414400099800877}),\n    ('5', {'prob': 0.16562668198723543}),\n    ('6', {'prob': 0.16102163765608363}),\n    ('7', {'prob': 0.07839560531982569}),\n    ('8', {'prob': 0.1401934954107167}),\n    ('9', {'prob': 0.09192760932570541})],\n   '<maybe_digits>': [('', {'prob': 0.0}), ('<digits>', {'prob': 1.0})],\n   '<digits>': [('<digit>', {'prob': 0.055248618784530384}),\n    ('<digit><digits>', {'prob': 0.9447513812154696})],\n   '<maybe_frac>': [('', {'prob': 1.0}), ('.<digits>', {'prob': 0.0})]},\n  <GrammarType.MUTATED: 'mutated'>,\n  10),\n ({'<start>': [('<arith_expr>', {'prob': None})],\n   '<arith_expr>': [('<function>(<number>)', {'prob': None})],\n   '<function>': [('sqrt', {'prob': 1.0}),\n    ('sin', {'prob': 0.0}),\n    ('cos', {'prob': 0.0}),\n    ('tan', {'prob': 0.0})],\n   '<number>': [('<maybe_minus><onenine><maybe_digits><maybe_frac>',\n     {'prob': None})],\n   '<maybe_minus>': [('', {'prob': 0.0}), ('-', {'prob': 1.0})],\n   '<onenine>': [('1', {'prob': 0.1}),\n    ('2', {'prob': 0.0}),\n    ('3', {'prob': 0.0}),\n    ('4', {'prob': 0.2}),\n    ('5', {'prob': 0.7}),\n    ('6', {'prob': 0.0}),\n    ('7', {'prob': 0.0}),\n    ('8', {'prob': 0.0}),\n    ('9', {'prob': 0.0})],\n   '<digit>': [('0', {'prob': 0.1276595744680851}),\n    ('1', {'prob': 0.07446808510638298}),\n    ('2', {'prob': 0.0}),\n    ('3', {'prob': 0.14893617021276595}),\n    ('4', {'prob': 0.1276595744680851}),\n    ('5', {'prob': 0.1276595744680851}),\n    ('6', {'prob': 0.1276595744680851}),\n    ('7', {'prob': 0.09574468085106383}),\n    ('8', {'prob': 0.07446808510638298}),\n    ('9', {'prob': 0.09574468085106383})],\n   '<maybe_digits>': [('', {'prob': 0.0}), ('<digits>', {'prob': 1.0})],\n   '<digits>': [('<digit>', {'prob': 0.10638297872340426}),\n    ('<digit><digits>', {'prob': 0.8936170212765957})],\n   '<maybe_frac>': [('', {'prob': 1.0}), ('.<digits>', {'prob': 0.0})]},\n  <GrammarType.LEARNED: 'learned'>,\n  -1),\n ({'<start>': [('<arith_expr>', {'prob': None})],\n   '<arith_expr>': [('<function>(<number>)', {'prob': None})],\n   '<function>': [('sqrt', {'prob': 1.0}),\n    ('sin', {'prob': 0.0}),\n    ('cos', {'prob': 0.0}),\n    ('tan', {'prob': 0.0})],\n   '<number>': [('<maybe_minus><onenine><maybe_digits><maybe_frac>',\n     {'prob': None})],\n   '<maybe_minus>': [('', {'prob': 0.0}), ('-', {'prob': 1.0})],\n   '<onenine>': [('1', {'prob': 0.1}),\n    ('2', {'prob': 0.0}),\n    ('3', {'prob': 0.0}),\n    ('4', {'prob': 0.2}),\n    ('5', {'prob': 0.7}),\n    ('6', {'prob': 0.0}),\n    ('7', {'prob': 0.0}),\n    ('8', {'prob': 0.0}),\n    ('9', {'prob': 0.0})],\n   '<digit>': [('0', {'prob': 0.1276595744680851}),\n    ('1', {'prob': 0.07446808510638298}),\n    ('2', {'prob': 0.0}),\n    ('3', {'prob': 0.14893617021276595}),\n    ('4', {'prob': 0.1276595744680851}),\n    ('5', {'prob': 0.1276595744680851}),\n    ('6', {'prob': 0.1276595744680851}),\n    ('7', {'prob': 0.09574468085106383}),\n    ('8', {'prob': 0.07446808510638298}),\n    ('9', {'prob': 0.09574468085106383})],\n   '<maybe_digits>': [('', {'prob': 0.0}), ('<digits>', {'prob': 1.0})],\n   '<digits>': [('<digit>', {'prob': 0.6527095767024443}),\n    ('<digit><digits>', {'prob': 0.3472904232975557})],\n   '<maybe_frac>': [('', {'prob': 1.0}), ('.<digits>', {'prob': 0.0})]},\n  <GrammarType.MUTATED: 'mutated'>,\n  10),\n ({'<start>': [('<arith_expr>', {'prob': None})],\n   '<arith_expr>': [('<function>(<number>)', {'prob': None})],\n   '<function>': [('sqrt', {'prob': 1.0}),\n    ('sin', {'prob': 0.0}),\n    ('cos', {'prob': 0.0}),\n    ('tan', {'prob': 0.0})],\n   '<number>': [('<maybe_minus><onenine><maybe_digits><maybe_frac>',\n     {'prob': None})],\n   '<maybe_minus>': [('', {'prob': 0.0}), ('-', {'prob': 1.0})],\n   '<onenine>': [('1', {'prob': 0.1}),\n    ('2', {'prob': 0.0}),\n    ('3', {'prob': 0.0}),\n    ('4', {'prob': 0.0}),\n    ('5', {'prob': 0.9}),\n    ('6', {'prob': 0.0}),\n    ('7', {'prob': 0.0}),\n    ('8', {'prob': 0.0}),\n    ('9', {'prob': 0.0})],\n   '<digit>': [('0', {'prob': 0.16666666666666666}),\n    ('1', {'prob': 0.05555555555555555}),\n    ('2', {'prob': 0.0}),\n    ('3', {'prob': 0.16666666666666666}),\n    ('4', {'prob': 0.1111111111111111}),\n    ('5', {'prob': 0.1111111111111111}),\n    ('6', {'prob': 0.05555555555555555}),\n    ('7', {'prob': 0.16666666666666666}),\n    ('8', {'prob': 0.05555555555555555}),\n    ('9', {'prob': 0.1111111111111111})],\n   '<maybe_digits>': [('', {'prob': 0.0}), ('<digits>', {'prob': 1.0})],\n   '<digits>': [('<digit>', {'prob': 0.5555555555555556}),\n    ('<digit><digits>', {'prob': 0.4444444444444444})],\n   '<maybe_frac>': [('', {'prob': 1.0}), ('.<digits>', {'prob': 0.0})]},\n  <GrammarType.LEARNED: 'learned'>,\n  -1),\n ({'<start>': [('<arith_expr>', {'prob': None})],\n   '<arith_expr>': [('<function>(<number>)', {'prob': None})],\n   '<function>': [('sqrt', {'prob': 0.19122255850095415}),\n    ('sin', {'prob': 0.039408795023880755}),\n    ('cos', {'prob': 0.40250611177460077}),\n    ('tan', {'prob': 0.36686253470056435})],\n   '<number>': [('<maybe_minus><onenine><maybe_digits><maybe_frac>',\n     {'prob': None})],\n   '<maybe_minus>': [('', {'prob': 0.0}), ('-', {'prob': 1.0})],\n   '<onenine>': [('1', {'prob': 0.1}),\n    ('2', {'prob': 0.0}),\n    ('3', {'prob': 0.0}),\n    ('4', {'prob': 0.0}),\n    ('5', {'prob': 0.9}),\n    ('6', {'prob': 0.0}),\n    ('7', {'prob': 0.0}),\n    ('8', {'prob': 0.0}),\n    ('9', {'prob': 0.0})],\n   '<digit>': [('0', {'prob': 0.16666666666666666}),\n    ('1', {'prob': 0.05555555555555555}),\n    ('2', {'prob': 0.0}),\n    ('3', {'prob': 0.16666666666666666}),\n    ('4', {'prob': 0.1111111111111111}),\n    ('5', {'prob': 0.1111111111111111}),\n    ('6', {'prob': 0.05555555555555555}),\n    ('7', {'prob': 0.16666666666666666}),\n    ('8', {'prob': 0.05555555555555555}),\n    ('9', {'prob': 0.1111111111111111})],\n   '<maybe_digits>': [('', {'prob': 0.0}), ('<digits>', {'prob': 1.0})],\n   '<digits>': [('<digit>', {'prob': 0.5555555555555556}),\n    ('<digit><digits>', {'prob': 0.4444444444444444})],\n   '<maybe_frac>': [('', {'prob': 1.0}), ('.<digits>', {'prob': 0.0})]},\n  <GrammarType.MUTATED: 'mutated'>,\n  3),\n ({'<start>': [('<arith_expr>', {'prob': None})],\n   '<arith_expr>': [('<function>(<number>)', {'prob': None})],\n   '<function>': [('sqrt', {'prob': 0.3}),\n    ('sin', {'prob': 0.0}),\n    ('cos', {'prob': 0.3}),\n    ('tan', {'prob': 0.4})],\n   '<number>': [('<maybe_minus><onenine><maybe_digits><maybe_frac>',\n     {'prob': None})],\n   '<maybe_minus>': [('', {'prob': 0.0}), ('-', {'prob': 1.0})],\n   '<onenine>': [('1', {'prob': 0.2}),\n    ('2', {'prob': 0.0}),\n    ('3', {'prob': 0.0}),\n    ('4', {'prob': 0.0}),\n    ('5', {'prob': 0.8}),\n    ('6', {'prob': 0.0}),\n    ('7', {'prob': 0.0}),\n    ('8', {'prob': 0.0}),\n    ('9', {'prob': 0.0})],\n   '<digit>': [('0', {'prob': 0.19047619047619047}),\n    ('1', {'prob': 0.09523809523809523}),\n    ('2', {'prob': 0.0}),\n    ('3', {'prob': 0.19047619047619047}),\n    ('4', {'prob': 0.19047619047619047}),\n    ('5', {'prob': 0.09523809523809523}),\n    ('6', {'prob': 0.0}),\n    ('7', {'prob': 0.14285714285714285}),\n    ('8', {'prob': 0.047619047619047616}),\n    ('9', {'prob': 0.047619047619047616})],\n   '<maybe_digits>': [('', {'prob': 0.0}), ('<digits>', {'prob': 1.0})],\n   '<digits>': [('<digit>', {'prob': 0.47619047619047616}),\n    ('<digit><digits>', {'prob': 0.5238095238095238})],\n   '<maybe_frac>': [('', {'prob': 1.0}), ('.<digits>', {'prob': 0.0})]},\n  <GrammarType.LEARNED: 'learned'>,\n  -1),\n ({'<start>': [('<arith_expr>', {'prob': None})],\n   '<arith_expr>': [('<function>(<number>)', {'prob': None})],\n   '<function>': [('sqrt', {'prob': 0.3}),\n    ('sin', {'prob': 0.0}),\n    ('cos', {'prob': 0.3}),\n    ('tan', {'prob': 0.4})],\n   '<number>': [('<maybe_minus><onenine><maybe_digits><maybe_frac>',\n     {'prob': None})],\n   '<maybe_minus>': [('', {'prob': 0.0}), ('-', {'prob': 1.0})],\n   '<onenine>': [('1', {'prob': 0.10862527091727668}),\n    ('2', {'prob': 0.015494053144589728}),\n    ('3', {'prob': 0.043420385404745694}),\n    ('4', {'prob': 0.14186061463238145}),\n    ('5', {'prob': 0.06383795598774213}),\n    ('6', {'prob': 0.2475096599148384}),\n    ('7', {'prob': 0.0812453561442831}),\n    ('8', {'prob': 0.12220370082583527}),\n    ('9', {'prob': 0.1758030030283075})],\n   '<digit>': [('0', {'prob': 0.19047619047619047}),\n    ('1', {'prob': 0.09523809523809523}),\n    ('2', {'prob': 0.0}),\n    ('3', {'prob': 0.19047619047619047}),\n    ('4', {'prob': 0.19047619047619047}),\n    ('5', {'prob': 0.09523809523809523}),\n    ('6', {'prob': 0.0}),\n    ('7', {'prob': 0.14285714285714285}),\n    ('8', {'prob': 0.047619047619047616}),\n    ('9', {'prob': 0.047619047619047616})],\n   '<maybe_digits>': [('', {'prob': 0.0}), ('<digits>', {'prob': 1.0})],\n   '<digits>': [('<digit>', {'prob': 0.47619047619047616}),\n    ('<digit><digits>', {'prob': 0.5238095238095238})],\n   '<maybe_frac>': [('', {'prob': 1.0}), ('.<digits>', {'prob': 0.0})]},\n  <GrammarType.MUTATED: 'mutated'>,\n  -1)]"
     },
     "metadata": {},
     "output_type": "display_data"
    }
   ],
   "source": [
    "display(evogfuzz._probabilistic_grammars)"
   ],
   "metadata": {
    "collapsed": false
   }
  },
  {
   "cell_type": "markdown",
   "source": [
    "### Plot Fitness Values"
   ],
   "metadata": {
    "collapsed": false
   }
  },
  {
   "cell_type": "code",
   "execution_count": 69,
   "outputs": [
    {
     "name": "stdout",
     "output_type": "stream",
     "text": [
      "Original\n"
     ]
    },
    {
     "data": {
      "text/plain": "[(3, <GrammarType.LEARNED: 'learned'>),\n (-1, <GrammarType.LEARNED: 'learned'>),\n (3, <GrammarType.MUTATED: 'mutated'>),\n (-1, <GrammarType.LEARNED: 'learned'>),\n (2, <GrammarType.MUTATED: 'mutated'>),\n (-1, <GrammarType.LEARNED: 'learned'>),\n (6, <GrammarType.MUTATED: 'mutated'>),\n (-1, <GrammarType.LEARNED: 'learned'>),\n (9, <GrammarType.MUTATED: 'mutated'>),\n (-1, <GrammarType.LEARNED: 'learned'>),\n (8, <GrammarType.MUTATED: 'mutated'>),\n (-1, <GrammarType.LEARNED: 'learned'>),\n (10, <GrammarType.MUTATED: 'mutated'>),\n (-1, <GrammarType.LEARNED: 'learned'>),\n (10, <GrammarType.MUTATED: 'mutated'>),\n (-1, <GrammarType.LEARNED: 'learned'>),\n (10, <GrammarType.MUTATED: 'mutated'>),\n (-1, <GrammarType.LEARNED: 'learned'>),\n (3, <GrammarType.MUTATED: 'mutated'>),\n (-1, <GrammarType.LEARNED: 'learned'>),\n (-1, <GrammarType.MUTATED: 'mutated'>)]"
     },
     "metadata": {},
     "output_type": "display_data"
    },
    {
     "name": "stdout",
     "output_type": "stream",
     "text": [
      "Clean\n"
     ]
    },
    {
     "data": {
      "text/plain": "[(3, <GrammarType.LEARNED: 'learned'>),\n (3, <GrammarType.LEARNED: 'learned'>),\n (3, <GrammarType.MUTATED: 'mutated'>),\n (3, <GrammarType.LEARNED: 'learned'>),\n (2, <GrammarType.MUTATED: 'mutated'>),\n (2, <GrammarType.LEARNED: 'learned'>),\n (6, <GrammarType.MUTATED: 'mutated'>),\n (6, <GrammarType.LEARNED: 'learned'>),\n (9, <GrammarType.MUTATED: 'mutated'>),\n (9, <GrammarType.LEARNED: 'learned'>),\n (8, <GrammarType.MUTATED: 'mutated'>),\n (8, <GrammarType.LEARNED: 'learned'>),\n (10, <GrammarType.MUTATED: 'mutated'>),\n (10, <GrammarType.LEARNED: 'learned'>),\n (10, <GrammarType.MUTATED: 'mutated'>),\n (10, <GrammarType.LEARNED: 'learned'>),\n (10, <GrammarType.MUTATED: 'mutated'>),\n (10, <GrammarType.LEARNED: 'learned'>),\n (3, <GrammarType.MUTATED: 'mutated'>),\n (3, <GrammarType.LEARNED: 'learned'>),\n (3, <GrammarType.MUTATED: 'mutated'>)]"
     },
     "metadata": {},
     "output_type": "display_data"
    }
   ],
   "source": [
    "fitness_values = [(x[2],x[1]) for x in all_prob_grammars_org[:]]\n",
    "print(\"Original\")\n",
    "display(fitness_values)\n",
    "\n",
    "\n",
    "from typing import Tuple, List\n",
    "\n",
    "def clean_fitness_values(fitness_values: List[Tuple[int, GrammarType]]):\n",
    "    for index, it in enumerate(fitness_values):\n",
    "        if it[0] == -1:\n",
    "            fitness_values[index] = (fitness_values[index-1][0], it[1])\n",
    "\n",
    "    return fitness_values\n",
    "\n",
    "res = clean_fitness_values(fitness_values)\n",
    "print(\"Clean\")\n",
    "display(res)"
   ],
   "metadata": {
    "collapsed": false
   }
  },
  {
   "cell_type": "code",
   "execution_count": 93,
   "outputs": [
    {
     "data": {
      "text/plain": "[<matplotlib.lines.Line2D at 0x28303d9f0>]"
     },
     "execution_count": 93,
     "metadata": {},
     "output_type": "execute_result"
    },
    {
     "data": {
      "text/plain": "<Figure size 640x480 with 1 Axes>",
      "image/png": "[encoded data removed]"
     },
     "metadata": {},
     "output_type": "display_data"
    }
   ],
   "source": [
    "import matplotlib.pyplot as plt\n",
    "\n",
    "xvals = [i for i in range(len(reduced))]\n",
    "\n",
    "f, ax = plt.subplots(1)\n",
    "\n",
    "feature_disp = ['<function>->cos', '<function>->sqrt', '<maybe_minus>->-']\n",
    "# feature_disp = dicts.keys()\n",
    "\n",
    "for feature in feature_disp:\n",
    "    ax.plot(xvals, dicts[feature])\n",
    "\n",
    "xvals = [i for i in range(len(res))]\n",
    "yvals = [i[0] for i in res]\n",
    "\n",
    "import numpy as np\n",
    "\n",
    "def normalizeData(data):\n",
    "    return (data - np.min(data)) / (np.max(data) - np.min(data))\n",
    "\n",
    "p = normalizeData(yvals)\n",
    "\n",
    "ax.plot(xvals, p)"
   ],
   "metadata": {
    "collapsed": false
   }
  },
  {
   "cell_type": "code",
   "execution_count": 53,
   "outputs": [],
   "source": [],
   "metadata": {
    "collapsed": false
   }
  },
  {
   "cell_type": "code",
   "execution_count": 54,
   "outputs": [],
   "source": [
    "data = zip({1,2,3}, [False,False,False])"
   ],
   "metadata": {
    "collapsed": false
   }
  },
  {
   "cell_type": "code",
   "execution_count": 55,
   "outputs": [
    {
     "name": "stdout",
     "output_type": "stream",
     "text": [
      "Found <start> -> <arith_expr>\n",
      "Found <arith_expr> -> <function>(<number>)\n",
      "Found <function> -> sqrt\n",
      "Found <number> -> <maybe_minus><onenine><maybe_digits><maybe_frac>\n",
      "Found <maybe_minus> -> \n",
      "Found <onenine> -> 1\n",
      "Found <maybe_digits> -> <digits>\n",
      "Found <digits> -> <digit>\n",
      "Found <digit> -> 2\n",
      "Found <maybe_frac> -> \n",
      "Found <start> -> <arith_expr>\n",
      "Found <arith_expr> -> <function>(<number>)\n",
      "Found <function> -> tan\n",
      "Found <number> -> <maybe_minus><onenine><maybe_digits><maybe_frac>\n",
      "Found <maybe_minus> -> -\n",
      "Found <onenine> -> 1\n",
      "Found <maybe_digits> -> \n",
      "Found <maybe_frac> -> \n",
      "['sqrt', 'sin', 'cos', 'tan']\n",
      "{'<start> -> <arith_expr>': 2, '<arith_expr> -> <function>(<number>)': 2, '<function> -> sqrt': 1, '<number> -> <maybe_minus><onenine><maybe_digits><maybe_frac>': 2, '<maybe_minus> -> ': 1, '<onenine> -> 1': 2, '<maybe_digits> -> <digits>': 1, '<digits> -> <digit>': 1, '<digit> -> 2': 1, '<maybe_frac> -> ': 2, '<function> -> tan': 1, '<maybe_minus> -> -': 1, '<maybe_digits> -> ': 1}\n",
      "['sqrt', 'sin', 'cos', 'tan']\n",
      "[1, 0, 0, 1]\n",
      "['', '-']\n",
      "{'<start> -> <arith_expr>': 2, '<arith_expr> -> <function>(<number>)': 2, '<function> -> sqrt': 1, '<number> -> <maybe_minus><onenine><maybe_digits><maybe_frac>': 2, '<maybe_minus> -> ': 1, '<onenine> -> 1': 2, '<maybe_digits> -> <digits>': 1, '<digits> -> <digit>': 1, '<digit> -> 2': 1, '<maybe_frac> -> ': 2, '<function> -> tan': 1, '<maybe_minus> -> -': 1, '<maybe_digits> -> ': 1}\n",
      "['', '-']\n",
      "[1, 1]\n",
      "['1', '2', '3', '4', '5', '6', '7', '8', '9']\n",
      "{'<start> -> <arith_expr>': 2, '<arith_expr> -> <function>(<number>)': 2, '<function> -> sqrt': 1, '<number> -> <maybe_minus><onenine><maybe_digits><maybe_frac>': 2, '<maybe_minus> -> ': 1, '<onenine> -> 1': 2, '<maybe_digits> -> <digits>': 1, '<digits> -> <digit>': 1, '<digit> -> 2': 1, '<maybe_frac> -> ': 2, '<function> -> tan': 1, '<maybe_minus> -> -': 1, '<maybe_digits> -> ': 1}\n",
      "['1', '2', '3', '4', '5', '6', '7', '8', '9']\n",
      "[2, 0, 0, 0, 0, 0, 0, 0, 0]\n",
      "['0', '1', '2', '3', '4', '5', '6', '7', '8', '9']\n",
      "{'<start> -> <arith_expr>': 2, '<arith_expr> -> <function>(<number>)': 2, '<function> -> sqrt': 1, '<number> -> <maybe_minus><onenine><maybe_digits><maybe_frac>': 2, '<maybe_minus> -> ': 1, '<onenine> -> 1': 2, '<maybe_digits> -> <digits>': 1, '<digits> -> <digit>': 1, '<digit> -> 2': 1, '<maybe_frac> -> ': 2, '<function> -> tan': 1, '<maybe_minus> -> -': 1, '<maybe_digits> -> ': 1}\n",
      "['0', '1', '2', '3', '4', '5', '6', '7', '8', '9']\n",
      "[0, 0, 1, 0, 0, 0, 0, 0, 0, 0]\n",
      "['', '<digits>']\n",
      "{'<start> -> <arith_expr>': 2, '<arith_expr> -> <function>(<number>)': 2, '<function> -> sqrt': 1, '<number> -> <maybe_minus><onenine><maybe_digits><maybe_frac>': 2, '<maybe_minus> -> ': 1, '<onenine> -> 1': 2, '<maybe_digits> -> <digits>': 1, '<digits> -> <digit>': 1, '<digit> -> 2': 1, '<maybe_frac> -> ': 2, '<function> -> tan': 1, '<maybe_minus> -> -': 1, '<maybe_digits> -> ': 1}\n",
      "['', '<digits>']\n",
      "[1, 1]\n",
      "['<digit>', '<digit><digits>']\n",
      "{'<start> -> <arith_expr>': 2, '<arith_expr> -> <function>(<number>)': 2, '<function> -> sqrt': 1, '<number> -> <maybe_minus><onenine><maybe_digits><maybe_frac>': 2, '<maybe_minus> -> ': 1, '<onenine> -> 1': 2, '<maybe_digits> -> <digits>': 1, '<digits> -> <digit>': 1, '<digit> -> 2': 1, '<maybe_frac> -> ': 2, '<function> -> tan': 1, '<maybe_minus> -> -': 1, '<maybe_digits> -> ': 1}\n",
      "['<digit>', '<digit><digits>']\n",
      "[1, 0]\n",
      "['', '.<digits>']\n",
      "{'<start> -> <arith_expr>': 2, '<arith_expr> -> <function>(<number>)': 2, '<function> -> sqrt': 1, '<number> -> <maybe_minus><onenine><maybe_digits><maybe_frac>': 2, '<maybe_minus> -> ': 1, '<onenine> -> 1': 2, '<maybe_digits> -> <digits>': 1, '<digits> -> <digit>': 1, '<digit> -> 2': 1, '<maybe_frac> -> ': 2, '<function> -> tan': 1, '<maybe_minus> -> -': 1, '<maybe_digits> -> ': 1}\n",
      "['', '.<digits>']\n",
      "[2, 0]\n"
     ]
    }
   ],
   "source": [
    "from fuzzingbook.ProbabilisticGrammarFuzzer import ProbabilisticGrammarMiner\n",
    "from fuzzingbook.Parser import EarleyParser\n",
    "from copy import deepcopy\n",
    "\n",
    "new_g = deepcopy(GRAMMAR)\n",
    "new_g['<maybe_minus>'] = ['', '-']\n",
    "\n",
    "probabilistic_grammar_miner = ProbabilisticGrammarMiner(EarleyParser(new_g), log=True)\n",
    "probabilistic_grammar = probabilistic_grammar_miner.mine_probabilistic_grammar(['sqrt(12)', 'tan(-1)'])"
   ],
   "metadata": {
    "collapsed": false
   }
  },
  {
   "cell_type": "code",
   "execution_count": 56,
   "outputs": [
    {
     "data": {
      "text/plain": "{'<start>': [('<arith_expr>', {'prob': None})],\n '<arith_expr>': [('<function>(<number>)', {'prob': None})],\n '<function>': [('sqrt', {'prob': 0.5}),\n  ('sin', {'prob': 0.0}),\n  ('cos', {'prob': 0.0}),\n  ('tan', {'prob': 0.5})],\n '<number>': [('<maybe_minus><onenine><maybe_digits><maybe_frac>',\n   {'prob': None})],\n '<maybe_minus>': [('', {'prob': 0.5}), ('-', {'prob': 0.5})],\n '<onenine>': [('1', {'prob': 1.0}),\n  ('2', {'prob': 0.0}),\n  ('3', {'prob': 0.0}),\n  ('4', {'prob': 0.0}),\n  ('5', {'prob': 0.0}),\n  ('6', {'prob': 0.0}),\n  ('7', {'prob': 0.0}),\n  ('8', {'prob': 0.0}),\n  ('9', {'prob': 0.0})],\n '<digit>': [('0', {'prob': 0.0}),\n  ('1', {'prob': 0.0}),\n  ('2', {'prob': 1.0}),\n  ('3', {'prob': 0.0}),\n  ('4', {'prob': 0.0}),\n  ('5', {'prob': 0.0}),\n  ('6', {'prob': 0.0}),\n  ('7', {'prob': 0.0}),\n  ('8', {'prob': 0.0}),\n  ('9', {'prob': 0.0})],\n '<maybe_digits>': [('', {'prob': 0.5}), ('<digits>', {'prob': 0.5})],\n '<digits>': [('<digit>', {'prob': 1.0}), ('<digit><digits>', {'prob': 0.0})],\n '<maybe_frac>': [('', {'prob': 1.0}), ('.<digits>', {'prob': 0.0})]}"
     },
     "metadata": {},
     "output_type": "display_data"
    }
   ],
   "source": [
    "display(probabilistic_grammar)"
   ],
   "metadata": {
    "collapsed": false
   }
  },
  {
   "cell_type": "code",
   "execution_count": 57,
   "outputs": [
    {
     "name": "stdout",
     "output_type": "stream",
     "text": [
      "('<start>', [('<arith_expr>', [('<function>', [('sqrt', [])]), ('(', []), ('<number>', [('<maybe_minus>', []), ('<onenine>', [('1', [])]), ('<maybe_digits>', [('<digits>', [('<digit>', [('0', [])])])]), ('<maybe_frac>', [])]), (')', [])])])\n"
     ]
    }
   ],
   "source": [
    "p = EarleyParser(GRAMMAR)\n",
    "for t in p.parse('sqrt(10)'):\n",
    "    print(t)"
   ],
   "metadata": {
    "collapsed": false
   }
  },
  {
   "cell_type": "code",
   "execution_count": 58,
   "outputs": [
    {
     "data": {
      "text/plain": "int"
     },
     "execution_count": 58,
     "metadata": {},
     "output_type": "execute_result"
    }
   ],
   "source": [
    "x = []\n",
    "type(len(x))"
   ],
   "metadata": {
    "collapsed": false
   }
  },
  {
   "cell_type": "code",
   "execution_count": 58,
   "outputs": [],
   "source": [],
   "metadata": {
    "collapsed": false
   }
  }
 ],
 "metadata": {
  "kernelspec": {
   "display_name": "Python 3",
   "language": "python",
   "name": "python3"
  },
  "language_info": {
   "codemirror_mode": {
    "name": "ipython",
    "version": 2
   },
   "file_extension": ".py",
   "mimetype": "text/x-python",
   "name": "python",
   "nbconvert_exporter": "python",
   "pygments_lexer": "ipython2",
   "version": "2.7.6"
  }
 },
 "nbformat": 4,
 "nbformat_minor": 0
}
