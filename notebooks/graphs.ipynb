{
 "cells": [
  {
   "cell_type": "markdown",
   "source": [
    "# Analyze EvoGFuzz"
   ],
   "metadata": {
    "collapsed": false
   }
  },
  {
   "cell_type": "code",
   "execution_count": 94,
   "outputs": [],
   "source": [
    "from evogfuzz_formalizations.calculator import GRAMMAR, INITIAL_INPUTS, prop"
   ],
   "metadata": {
    "collapsed": false
   }
  },
  {
   "cell_type": "code",
   "execution_count": 95,
   "outputs": [],
   "source": [
    "from evogfuzz import EvoGFuzz"
   ],
   "metadata": {
    "collapsed": false
   }
  },
  {
   "cell_type": "code",
   "execution_count": 96,
   "outputs": [],
   "source": [
    "from importlib import reload  # Not needed in Python 2\n",
    "import logging\n",
    "reload(logging)\n",
    "logging.basicConfig(\n",
    "    level=logging.DEBUG,\n",
    "    format=\"%(asctime)s:  %(message)s\"\n",
    ")\n",
    "\n",
    "evogfuzz = EvoGFuzz(\n",
    "    grammar=GRAMMAR,\n",
    "    inputs=INITIAL_INPUTS,\n",
    "    prop=prop\n",
    ")"
   ],
   "metadata": {
    "collapsed": false
   }
  },
  {
   "cell_type": "code",
   "execution_count": 97,
   "outputs": [
    {
     "name": "stderr",
     "output_type": "stream",
     "text": [
      "2023-01-11 15:24:04,027:  Fuzzing with EvoGFuzz\n",
      "2023-01-11 15:24:04,028:  Executing input files\n",
      "2023-01-11 15:24:04,029:  exec: [False, False, False, False]\n",
      "2023-01-11 15:24:04,029:  inp: {'sqrt(28367)', 'cos(10)', 'sqrt(3)', 'tan(-12)'}\n",
      "2023-01-11 15:24:04,029:  zip_list: [('sqrt(28367)', False), ('cos(10)', False), ('sqrt(3)', False), ('tan(-12)', False)]\n",
      "2023-01-11 15:24:04,030:  New Learning.\n",
      "2023-01-11 15:24:04,034:  Learned probabilistic grammar:\n",
      "2023-01-11 15:24:04,034:  <start>                                 [('<arith_expr>', {'prob': None})]\n",
      "2023-01-11 15:24:04,034:  <arith_expr>                            [('<function>(<number>)', {'prob': None})]\n",
      "2023-01-11 15:24:04,034:  <function>                              [('sqrt', {'prob': 0.5}), ('sin', {'prob': 0.0}), ('cos', {'prob': 0.25}), ('tan', {'prob': 0.25})]\n",
      "2023-01-11 15:24:04,035:  <number>                                [('<maybe_minus><onenine><maybe_digits><maybe_frac>', {'prob': None})]\n",
      "2023-01-11 15:24:04,035:  <maybe_minus>                           [('', {'prob': 0.75}), ('-', {'prob': 0.25})]\n",
      "2023-01-11 15:24:04,035:  <onenine>                               [('1', {'prob': 0.5}), ('2', {'prob': 0.25}), ('3', {'prob': 0.25}), ('4', {'prob': 0.0}), ('5', {'prob': 0.0}), ('6', {'prob': 0.0}), ('7', {'prob': 0.0}), ('8', {'prob': 0.0}), ('9', {'prob': 0.0})]\n",
      "2023-01-11 15:24:04,035:  <digit>                                 [('0', {'prob': 0.16666666666666666}), ('1', {'prob': 0.0}), ('2', {'prob': 0.16666666666666666}), ('3', {'prob': 0.16666666666666666}), ('4', {'prob': 0.0}), ('5', {'prob': 0.0}), ('6', {'prob': 0.16666666666666666}), ('7', {'prob': 0.16666666666666666}), ('8', {'prob': 0.16666666666666666}), ('9', {'prob': 0.0})]\n",
      "2023-01-11 15:24:04,035:  <maybe_digits>                          [('', {'prob': 0.25}), ('<digits>', {'prob': 0.75})]\n",
      "2023-01-11 15:24:04,036:  <digits>                                [('<digit>', {'prob': 0.5}), ('<digit><digits>', {'prob': 0.5})]\n",
      "2023-01-11 15:24:04,036:  <maybe_frac>                            [('', {'prob': 1.0}), ('.<digits>', {'prob': 0.0})]\n",
      "2023-01-11 15:24:04,036:  Starting iteration 0\n",
      "2023-01-11 15:24:04,064:  Generated 73 unique inputs\n",
      "2023-01-11 15:24:04,064:  Executing input files\n",
      "2023-01-11 15:24:04,065:  Current probabilistic grammar achived a fitness of: 3\n",
      "2023-01-11 15:24:04,065:  Learning new Grammar\n",
      "2023-01-11 15:24:04,065:  ['cos(38)', 'sqrt(167)', 'cos(33833)', 'sqrt(-3)', 'sqrt(37)', 'sqrt(-203)', 'cos(-33)', 'sqrt(18)', 'sqrt(-23)', 'tan(26)']\n",
      "2023-01-11 15:24:04,069:  Mutating new Grammar\n",
      "2023-01-11 15:24:04,070:  Selected rule <maybe_digits> to be mutated.\n",
      "2023-01-11 15:24:04,071:  <start>                       [('<arith_expr>', {'prob': None})]\n",
      "2023-01-11 15:24:04,071:  <arith_expr>                  [('<function>(<number>)', {'prob': None})]\n",
      "2023-01-11 15:24:04,071:  <function>                    [('sqrt', {'prob': 0.6}), ('sin', {'prob': 0.0}), ('cos', {'prob': 0.3}), ('tan', {'prob': 0.1})]\n",
      "2023-01-11 15:24:04,071:  <number>                      [('<maybe_minus><onenine><maybe_digits><maybe_frac>', {'prob': None})]\n",
      "2023-01-11 15:24:04,071:  <maybe_minus>                 [('', {'prob': 0.6}), ('-', {'prob': 0.4})]\n",
      "2023-01-11 15:24:04,072:  <onenine>                     [('1', {'prob': 0.2}), ('2', {'prob': 0.3}), ('3', {'prob': 0.5}), ('4', {'prob': 0.0}), ('5', {'prob': 0.0}), ('6', {'prob': 0.0}), ('7', {'prob': 0.0}), ('8', {'prob': 0.0}), ('9', {'prob': 0.0})]\n",
      "2023-01-11 15:24:04,072:  <digit>                       [('0', {'prob': 0.07142857142857142}), ('1', {'prob': 0.0}), ('2', {'prob': 0.0}), ('3', {'prob': 0.42857142857142855}), ('4', {'prob': 0.0}), ('5', {'prob': 0.0}), ('6', {'prob': 0.14285714285714285}), ('7', {'prob': 0.14285714285714285}), ('8', {'prob': 0.21428571428571427}), ('9', {'prob': 0.0})]\n",
      "2023-01-11 15:24:04,072:  <maybe_digits>                [('', {'prob': 0.40078044128988083}), ('<digits>', {'prob': 0.5992195587101191})]\n",
      "2023-01-11 15:24:04,072:  <digits>                      [('<digit>', {'prob': 0.6428571428571429}), ('<digit><digits>', {'prob': 0.35714285714285715})]\n",
      "2023-01-11 15:24:04,073:  <maybe_frac>                  [('', {'prob': 1.0}), ('.<digits>', {'prob': 0.0})]\n",
      "2023-01-11 15:24:04,073:  Starting iteration 1\n",
      "2023-01-11 15:24:04,096:  Generated 62 unique inputs\n",
      "2023-01-11 15:24:04,097:  Executing input files\n",
      "2023-01-11 15:24:04,097:  Current probabilistic grammar achived a fitness of: 4\n",
      "2023-01-11 15:24:04,098:  Learning new Grammar\n",
      "2023-01-11 15:24:04,098:  ['cos(173)', 'sqrt(-30303)', 'sqrt(-3)', 'cos(33)', 'cos(-38)', 'sqrt(33086)', 'cos(286)', 'sqrt(18)', 'sqrt(-23)', 'sqrt(-237)']\n",
      "2023-01-11 15:24:04,102:  Mutating new Grammar\n",
      "2023-01-11 15:24:04,103:  Selected rule <maybe_digits> to be mutated.\n",
      "2023-01-11 15:24:04,103:  <start>                       [('<arith_expr>', {'prob': None})]\n",
      "2023-01-11 15:24:04,103:  <arith_expr>                  [('<function>(<number>)', {'prob': None})]\n",
      "2023-01-11 15:24:04,103:  <function>                    [('sqrt', {'prob': 0.6}), ('sin', {'prob': 0.0}), ('cos', {'prob': 0.4}), ('tan', {'prob': 0.0})]\n",
      "2023-01-11 15:24:04,103:  <number>                      [('<maybe_minus><onenine><maybe_digits><maybe_frac>', {'prob': None})]\n",
      "2023-01-11 15:24:04,104:  <maybe_minus>                 [('', {'prob': 0.5}), ('-', {'prob': 0.5})]\n",
      "2023-01-11 15:24:04,104:  <onenine>                     [('1', {'prob': 0.2}), ('2', {'prob': 0.3}), ('3', {'prob': 0.5}), ('4', {'prob': 0.0}), ('5', {'prob': 0.0}), ('6', {'prob': 0.0}), ('7', {'prob': 0.0}), ('8', {'prob': 0.0}), ('9', {'prob': 0.0})]\n",
      "2023-01-11 15:24:04,104:  <digit>                       [('0', {'prob': 0.16666666666666666}), ('1', {'prob': 0.0}), ('2', {'prob': 0.0}), ('3', {'prob': 0.3888888888888889}), ('4', {'prob': 0.0}), ('5', {'prob': 0.0}), ('6', {'prob': 0.1111111111111111}), ('7', {'prob': 0.1111111111111111}), ('8', {'prob': 0.2222222222222222}), ('9', {'prob': 0.0})]\n",
      "2023-01-11 15:24:04,104:  <maybe_digits>                [('', {'prob': 0.5060600986042797}), ('<digits>', {'prob': 0.49393990139572036})]\n",
      "2023-01-11 15:24:04,104:  <digits>                      [('<digit>', {'prob': 0.5}), ('<digit><digits>', {'prob': 0.5})]\n",
      "2023-01-11 15:24:04,105:  <maybe_frac>                  [('', {'prob': 1.0}), ('.<digits>', {'prob': 0.0})]\n",
      "2023-01-11 15:24:04,105:  Starting iteration 2\n",
      "2023-01-11 15:24:04,129:  Generated 54 unique inputs\n",
      "2023-01-11 15:24:04,129:  Executing input files\n",
      "2023-01-11 15:24:04,129:  Current probabilistic grammar achived a fitness of: 7\n",
      "2023-01-11 15:24:04,130:  Learning new Grammar\n",
      "2023-01-11 15:24:04,130:  ['sqrt(-160)', 'sqrt(-333)', 'sqrt(-3)', 'sqrt(-33883)', 'cos(-20)', 'sqrt(-23)', 'sqrt(-3060)', 'cos(23)', 'cos(2)', 'sqrt(-363686)']\n",
      "2023-01-11 15:24:04,135:  Mutating new Grammar\n",
      "2023-01-11 15:24:04,135:  Selected rule <digits> to be mutated.\n",
      "2023-01-11 15:24:04,136:  <start>                       [('<arith_expr>', {'prob': None})]\n",
      "2023-01-11 15:24:04,136:  <arith_expr>                  [('<function>(<number>)', {'prob': None})]\n",
      "2023-01-11 15:24:04,136:  <function>                    [('sqrt', {'prob': 0.7}), ('sin', {'prob': 0.0}), ('cos', {'prob': 0.3}), ('tan', {'prob': 0.0})]\n",
      "2023-01-11 15:24:04,136:  <number>                      [('<maybe_minus><onenine><maybe_digits><maybe_frac>', {'prob': None})]\n",
      "2023-01-11 15:24:04,136:  <maybe_minus>                 [('', {'prob': 0.2}), ('-', {'prob': 0.8})]\n",
      "2023-01-11 15:24:04,137:  <onenine>                     [('1', {'prob': 0.1}), ('2', {'prob': 0.4}), ('3', {'prob': 0.5}), ('4', {'prob': 0.0}), ('5', {'prob': 0.0}), ('6', {'prob': 0.0}), ('7', {'prob': 0.0}), ('8', {'prob': 0.0}), ('9', {'prob': 0.0})]\n",
      "2023-01-11 15:24:04,137:  <digit>                       [('0', {'prob': 0.21052631578947367}), ('1', {'prob': 0.0}), ('2', {'prob': 0.0}), ('3', {'prob': 0.3684210526315789}), ('4', {'prob': 0.0}), ('5', {'prob': 0.0}), ('6', {'prob': 0.2631578947368421}), ('7', {'prob': 0.0}), ('8', {'prob': 0.15789473684210525}), ('9', {'prob': 0.0})]\n",
      "2023-01-11 15:24:04,137:  <maybe_digits>                [('', {'prob': 0.2}), ('<digits>', {'prob': 0.8})]\n",
      "2023-01-11 15:24:04,137:  <digits>                      [('<digit>', {'prob': 0.5002656215129827}), ('<digit><digits>', {'prob': 0.49973437848701735})]\n",
      "2023-01-11 15:24:04,138:  <maybe_frac>                  [('', {'prob': 1.0}), ('.<digits>', {'prob': 0.0})]\n",
      "2023-01-11 15:24:04,138:  Starting iteration 3\n",
      "2023-01-11 15:24:04,167:  Generated 69 unique inputs\n",
      "2023-01-11 15:24:04,168:  Executing input files\n",
      "2023-01-11 15:24:04,168:  Current probabilistic grammar achived a fitness of: 9\n",
      "2023-01-11 15:24:04,169:  Learning new Grammar\n",
      "2023-01-11 15:24:04,169:  ['sqrt(-230)', 'sqrt(1063)', 'sqrt(-238336)', 'sqrt(-33330)', 'sqrt(-383)', 'sqrt(-3)', 'sqrt(-203)', 'sqrt(-2330)', 'sqrt(-23)', 'sqrt(-30333)']\n",
      "2023-01-11 15:24:04,174:  Mutating new Grammar\n",
      "2023-01-11 15:24:04,175:  Selected rule <maybe_digits> to be mutated.\n",
      "2023-01-11 15:24:04,175:  <start>                       [('<arith_expr>', {'prob': None})]\n",
      "2023-01-11 15:24:04,175:  <arith_expr>                  [('<function>(<number>)', {'prob': None})]\n",
      "2023-01-11 15:24:04,175:  <function>                    [('sqrt', {'prob': 1.0}), ('sin', {'prob': 0.0}), ('cos', {'prob': 0.0}), ('tan', {'prob': 0.0})]\n",
      "2023-01-11 15:24:04,175:  <number>                      [('<maybe_minus><onenine><maybe_digits><maybe_frac>', {'prob': None})]\n",
      "2023-01-11 15:24:04,176:  <maybe_minus>                 [('', {'prob': 0.1}), ('-', {'prob': 0.9})]\n",
      "2023-01-11 15:24:04,176:  <onenine>                     [('1', {'prob': 0.1}), ('2', {'prob': 0.5}), ('3', {'prob': 0.4}), ('4', {'prob': 0.0}), ('5', {'prob': 0.0}), ('6', {'prob': 0.0}), ('7', {'prob': 0.0}), ('8', {'prob': 0.0}), ('9', {'prob': 0.0})]\n",
      "2023-01-11 15:24:04,176:  <digit>                       [('0', {'prob': 0.23076923076923078}), ('1', {'prob': 0.0}), ('2', {'prob': 0.0}), ('3', {'prob': 0.6153846153846154}), ('4', {'prob': 0.0}), ('5', {'prob': 0.0}), ('6', {'prob': 0.07692307692307693}), ('7', {'prob': 0.0}), ('8', {'prob': 0.07692307692307693}), ('9', {'prob': 0.0})]\n",
      "2023-01-11 15:24:04,176:  <maybe_digits>                [('', {'prob': 0.6072554699669332}), ('<digits>', {'prob': 0.3927445300330668})]\n",
      "2023-01-11 15:24:04,177:  <digits>                      [('<digit>', {'prob': 0.34615384615384615}), ('<digit><digits>', {'prob': 0.6538461538461539})]\n",
      "2023-01-11 15:24:04,177:  <maybe_frac>                  [('', {'prob': 1.0}), ('.<digits>', {'prob': 0.0})]\n",
      "2023-01-11 15:24:04,177:  Starting iteration 4\n",
      "2023-01-11 15:24:04,202:  Generated 35 unique inputs\n",
      "2023-01-11 15:24:04,202:  Executing input files\n",
      "2023-01-11 15:24:04,203:  Current probabilistic grammar achived a fitness of: 10\n",
      "2023-01-11 15:24:04,203:  Learning new Grammar\n",
      "2023-01-11 15:24:04,204:  ['sqrt(-2063)', 'sqrt(-133330333)', 'sqrt(-338333)', 'sqrt(-333)', 'sqrt(-3)', 'sqrt(-203)', 'sqrt(-23633)', 'sqrt(-23)', 'sqrt(-23033)', 'sqrt(-3006303)']\n",
      "2023-01-11 15:24:04,211:  Mutating new Grammar\n",
      "2023-01-11 15:24:04,212:  Selected rule <onenine> to be mutated.\n",
      "2023-01-11 15:24:04,212:  <start>                       [('<arith_expr>', {'prob': None})]\n",
      "2023-01-11 15:24:04,212:  <arith_expr>                  [('<function>(<number>)', {'prob': None})]\n",
      "2023-01-11 15:24:04,213:  <function>                    [('sqrt', {'prob': 1.0}), ('sin', {'prob': 0.0}), ('cos', {'prob': 0.0}), ('tan', {'prob': 0.0})]\n",
      "2023-01-11 15:24:04,213:  <number>                      [('<maybe_minus><onenine><maybe_digits><maybe_frac>', {'prob': None})]\n",
      "2023-01-11 15:24:04,213:  <maybe_minus>                 [('', {'prob': 0.0}), ('-', {'prob': 1.0})]\n",
      "2023-01-11 15:24:04,213:  <onenine>                     [('1', {'prob': 0.015564809875060258}), ('2', {'prob': 0.18066093265950753}), ('3', {'prob': 0.18824240340970796}), ('4', {'prob': 0.17461925508935933}), ('5', {'prob': 0.08907414282055266}), ('6', {'prob': 0.12210088303420046}), ('7', {'prob': 0.014940856084447769}), ('8', {'prob': 0.13091392555361292}), ('9', {'prob': 0.08388279147355095})]\n",
      "2023-01-11 15:24:04,213:  <digit>                       [('0', {'prob': 0.2}), ('1', {'prob': 0.0}), ('2', {'prob': 0.0}), ('3', {'prob': 0.6857142857142857}), ('4', {'prob': 0.0}), ('5', {'prob': 0.0}), ('6', {'prob': 0.08571428571428572}), ('7', {'prob': 0.0}), ('8', {'prob': 0.02857142857142857}), ('9', {'prob': 0.0})]\n",
      "2023-01-11 15:24:04,213:  <maybe_digits>                [('', {'prob': 0.1}), ('<digits>', {'prob': 0.9})]\n",
      "2023-01-11 15:24:04,214:  <digits>                      [('<digit>', {'prob': 0.2571428571428571}), ('<digit><digits>', {'prob': 0.7428571428571429})]\n",
      "2023-01-11 15:24:04,214:  <maybe_frac>                  [('', {'prob': 1.0}), ('.<digits>', {'prob': 0.0})]\n",
      "2023-01-11 15:24:04,214:  Starting iteration 5\n",
      "2023-01-11 15:24:04,272:  Generated 79 unique inputs\n",
      "2023-01-11 15:24:04,272:  Executing input files\n",
      "2023-01-11 15:24:04,273:  Current probabilistic grammar achived a fitness of: 10\n",
      "2023-01-11 15:24:04,273:  Learning new Grammar\n",
      "2023-01-11 15:24:04,273:  ['sqrt(-203633600330)', 'sqrt(-43603063)', 'sqrt(-3303333383363330303)', 'sqrt(-4636)', 'sqrt(-3)', 'sqrt(-53)', 'sqrt(-4363663333)', 'sqrt(-530003)', 'sqrt(-80)', 'sqrt(-6663)']\n",
      "2023-01-11 15:24:04,284:  Mutating new Grammar\n",
      "2023-01-11 15:24:04,285:  Selected rule <digit> to be mutated.\n",
      "2023-01-11 15:24:04,285:  <start>                       [('<arith_expr>', {'prob': None})]\n",
      "2023-01-11 15:24:04,286:  <arith_expr>                  [('<function>(<number>)', {'prob': None})]\n",
      "2023-01-11 15:24:04,286:  <function>                    [('sqrt', {'prob': 1.0}), ('sin', {'prob': 0.0}), ('cos', {'prob': 0.0}), ('tan', {'prob': 0.0})]\n",
      "2023-01-11 15:24:04,287:  <number>                      [('<maybe_minus><onenine><maybe_digits><maybe_frac>', {'prob': None})]\n",
      "2023-01-11 15:24:04,287:  <maybe_minus>                 [('', {'prob': 0.0}), ('-', {'prob': 1.0})]\n",
      "2023-01-11 15:24:04,287:  <onenine>                     [('1', {'prob': 0.0}), ('2', {'prob': 0.1}), ('3', {'prob': 0.2}), ('4', {'prob': 0.3}), ('5', {'prob': 0.2}), ('6', {'prob': 0.1}), ('7', {'prob': 0.0}), ('8', {'prob': 0.1}), ('9', {'prob': 0.0})]\n",
      "2023-01-11 15:24:04,287:  <digit>                       [('0', {'prob': 0.0220517844714476}), ('1', {'prob': 0.041537556413174914}), ('2', {'prob': 0.14244475392951808}), ('3', {'prob': 0.0976514756559173}), ('4', {'prob': 0.11403202942991351}), ('5', {'prob': 0.09506629413152727}), ('6', {'prob': 0.11810848433648558}), ('7', {'prob': 0.1398430242229076}), ('8', {'prob': 0.028749431615754068}), ('9', {'prob': 0.20051516579335407})]\n",
      "2023-01-11 15:24:04,288:  <maybe_digits>                [('', {'prob': 0.1}), ('<digits>', {'prob': 0.9})]\n",
      "2023-01-11 15:24:04,288:  <digits>                      [('<digit>', {'prob': 0.15517241379310345}), ('<digit><digits>', {'prob': 0.8448275862068966})]\n",
      "2023-01-11 15:24:04,288:  <maybe_frac>                  [('', {'prob': 1.0}), ('.<digits>', {'prob': 0.0})]\n",
      "2023-01-11 15:24:04,289:  Starting iteration 6\n",
      "2023-01-11 15:24:04,383:  Generated 92 unique inputs\n",
      "2023-01-11 15:24:04,383:  Executing input files\n",
      "2023-01-11 15:24:04,384:  Current probabilistic grammar achived a fitness of: 10\n",
      "2023-01-11 15:24:04,384:  Learning new Grammar\n",
      "2023-01-11 15:24:04,384:  ['sqrt(-505435)', 'sqrt(-4627415995)', 'sqrt(-459276247940)', 'sqrt(-276)', 'sqrt(-4529)', 'sqrt(-27532979354)', 'sqrt(-3)', 'sqrt(-5123)', 'sqrt(-2973)', 'sqrt(-6663)']\n",
      "2023-01-11 15:24:04,393:  Mutating new Grammar\n",
      "2023-01-11 15:24:04,394:  Selected rule <digit> to be mutated.\n",
      "2023-01-11 15:24:04,394:  <start>                       [('<arith_expr>', {'prob': None})]\n",
      "2023-01-11 15:24:04,394:  <arith_expr>                  [('<function>(<number>)', {'prob': None})]\n",
      "2023-01-11 15:24:04,394:  <function>                    [('sqrt', {'prob': 1.0}), ('sin', {'prob': 0.0}), ('cos', {'prob': 0.0}), ('tan', {'prob': 0.0})]\n",
      "2023-01-11 15:24:04,394:  <number>                      [('<maybe_minus><onenine><maybe_digits><maybe_frac>', {'prob': None})]\n",
      "2023-01-11 15:24:04,395:  <maybe_minus>                 [('', {'prob': 0.0}), ('-', {'prob': 1.0})]\n",
      "2023-01-11 15:24:04,395:  <onenine>                     [('1', {'prob': 0.0}), ('2', {'prob': 0.3}), ('3', {'prob': 0.1}), ('4', {'prob': 0.3}), ('5', {'prob': 0.2}), ('6', {'prob': 0.1}), ('7', {'prob': 0.0}), ('8', {'prob': 0.0}), ('9', {'prob': 0.0})]\n",
      "2023-01-11 15:24:04,395:  <digit>                       [('0', {'prob': 0.07717652477909479}), ('1', {'prob': 0.05992936382451871}), ('2', {'prob': 0.06136682697223256}), ('3', {'prob': 0.09216038222720509}), ('4', {'prob': 0.11207161075591282}), ('5', {'prob': 0.13035552585182986}), ('6', {'prob': 0.1657198442912476}), ('7', {'prob': 0.15446794973735956}), ('8', {'prob': 0.05027410435991017}), ('9', {'prob': 0.09647786720068892})]\n",
      "2023-01-11 15:24:04,395:  <maybe_digits>                [('', {'prob': 0.1}), ('<digits>', {'prob': 0.9})]\n",
      "2023-01-11 15:24:04,395:  <digits>                      [('<digit>', {'prob': 0.1836734693877551}), ('<digit><digits>', {'prob': 0.8163265306122449})]\n",
      "2023-01-11 15:24:04,396:  <maybe_frac>                  [('', {'prob': 1.0}), ('.<digits>', {'prob': 0.0})]\n",
      "2023-01-11 15:24:04,396:  Starting iteration 7\n",
      "2023-01-11 15:24:04,483:  Generated 92 unique inputs\n",
      "2023-01-11 15:24:04,483:  Executing input files\n",
      "2023-01-11 15:24:04,484:  Current probabilistic grammar achived a fitness of: 10\n",
      "2023-01-11 15:24:04,484:  Learning new Grammar\n",
      "2023-01-11 15:24:04,485:  ['sqrt(-574476)', 'sqrt(-3)', 'sqrt(-26369476774)', 'sqrt(-587653855993)', 'sqrt(-2370)', 'sqrt(-6604774693)', 'sqrt(-337)', 'sqrt(-2099955442)', 'sqrt(-566)', 'sqrt(-5926780156937)']\n",
      "2023-01-11 15:24:04,495:  Mutating new Grammar\n",
      "2023-01-11 15:24:04,496:  Selected rule <maybe_minus> to be mutated.\n",
      "2023-01-11 15:24:04,496:  <start>                       [('<arith_expr>', {'prob': None})]\n",
      "2023-01-11 15:24:04,496:  <arith_expr>                  [('<function>(<number>)', {'prob': None})]\n",
      "2023-01-11 15:24:04,496:  <function>                    [('sqrt', {'prob': 1.0}), ('sin', {'prob': 0.0}), ('cos', {'prob': 0.0}), ('tan', {'prob': 0.0})]\n",
      "2023-01-11 15:24:04,497:  <number>                      [('<maybe_minus><onenine><maybe_digits><maybe_frac>', {'prob': None})]\n",
      "2023-01-11 15:24:04,497:  <maybe_minus>                 [('', {'prob': 0.7543041617936861}), ('-', {'prob': 0.2456958382063139})]\n",
      "2023-01-11 15:24:04,497:  <onenine>                     [('1', {'prob': 0.0}), ('2', {'prob': 0.3}), ('3', {'prob': 0.2}), ('4', {'prob': 0.0}), ('5', {'prob': 0.4}), ('6', {'prob': 0.1}), ('7', {'prob': 0.0}), ('8', {'prob': 0.0}), ('9', {'prob': 0.0})]\n",
      "2023-01-11 15:24:04,498:  <digit>                       [('0', {'prob': 0.06349206349206349}), ('1', {'prob': 0.015873015873015872}), ('2', {'prob': 0.031746031746031744}), ('3', {'prob': 0.1111111111111111}), ('4', {'prob': 0.12698412698412698}), ('5', {'prob': 0.09523809523809523}), ('6', {'prob': 0.1746031746031746}), ('7', {'prob': 0.19047619047619047}), ('8', {'prob': 0.047619047619047616}), ('9', {'prob': 0.14285714285714285})]\n",
      "2023-01-11 15:24:04,498:  <maybe_digits>                [('', {'prob': 0.1}), ('<digits>', {'prob': 0.9})]\n",
      "2023-01-11 15:24:04,498:  <digits>                      [('<digit>', {'prob': 0.14285714285714285}), ('<digit><digits>', {'prob': 0.8571428571428571})]\n",
      "2023-01-11 15:24:04,499:  <maybe_frac>                  [('', {'prob': 1.0}), ('.<digits>', {'prob': 0.0})]\n",
      "2023-01-11 15:24:04,499:  Starting iteration 8\n",
      "2023-01-11 15:24:04,686:  Generated 94 unique inputs\n",
      "2023-01-11 15:24:04,686:  Executing input files\n",
      "2023-01-11 15:24:04,687:  Current probabilistic grammar achived a fitness of: 5\n",
      "2023-01-11 15:24:04,687:  Learning new Grammar\n",
      "2023-01-11 15:24:04,687:  ['sqrt(-35)', 'sqrt(-37060)', 'sqrt(-64632966646)', 'sqrt(-5964565)', 'sqrt(3777767767)', 'sqrt(2659)', 'sqrt(59780)', 'sqrt(547333732663636)', 'sqrt(-564677)', 'sqrt(595)']\n",
      "2023-01-11 15:24:04,697:  Mutating new Grammar\n",
      "2023-01-11 15:24:04,698:  Selected rule <digit> to be mutated.\n",
      "2023-01-11 15:24:04,698:  <start>                       [('<arith_expr>', {'prob': None})]\n",
      "2023-01-11 15:24:04,698:  <arith_expr>                  [('<function>(<number>)', {'prob': None})]\n",
      "2023-01-11 15:24:04,698:  <function>                    [('sqrt', {'prob': 1.0}), ('sin', {'prob': 0.0}), ('cos', {'prob': 0.0}), ('tan', {'prob': 0.0})]\n",
      "2023-01-11 15:24:04,698:  <number>                      [('<maybe_minus><onenine><maybe_digits><maybe_frac>', {'prob': None})]\n",
      "2023-01-11 15:24:04,699:  <maybe_minus>                 [('', {'prob': 0.5}), ('-', {'prob': 0.5})]\n",
      "2023-01-11 15:24:04,699:  <onenine>                     [('1', {'prob': 0.0}), ('2', {'prob': 0.1}), ('3', {'prob': 0.3}), ('4', {'prob': 0.0}), ('5', {'prob': 0.5}), ('6', {'prob': 0.1}), ('7', {'prob': 0.0}), ('8', {'prob': 0.0}), ('9', {'prob': 0.0})]\n",
      "2023-01-11 15:24:04,699:  <digit>                       [('0', {'prob': 0.07850659486649654}), ('1', {'prob': 0.0995987816354722}), ('2', {'prob': 0.026508539271641002}), ('3', {'prob': 0.1458842018225309}), ('4', {'prob': 0.15577638108079006}), ('5', {'prob': 0.07651987783913594}), ('6', {'prob': 0.01730570707108664}), ('7', {'prob': 0.09305712294194009}), ('8', {'prob': 0.13514451398336425}), ('9', {'prob': 0.1716982794875423})]\n",
      "2023-01-11 15:24:04,699:  <maybe_digits>                [('', {'prob': 0.0}), ('<digits>', {'prob': 1.0})]\n",
      "2023-01-11 15:24:04,700:  <digits>                      [('<digit>', {'prob': 0.1724137931034483}), ('<digit><digits>', {'prob': 0.8275862068965517})]\n",
      "2023-01-11 15:24:04,700:  <maybe_frac>                  [('', {'prob': 1.0}), ('.<digits>', {'prob': 0.0})]\n",
      "2023-01-11 15:24:04,700:  Starting iteration 9\n",
      "2023-01-11 15:24:04,803:  Generated 99 unique inputs\n",
      "2023-01-11 15:24:04,803:  Executing input files\n",
      "2023-01-11 15:24:04,803:  Current probabilistic grammar achived a fitness of: 10\n",
      "2023-01-11 15:24:04,804:  Learning new Grammar\n",
      "2023-01-11 15:24:04,804:  ['sqrt(-51348)', 'sqrt(-591)', 'sqrt(-278487)', 'sqrt(-2932499014)', 'sqrt(-518344)', 'sqrt(-500)', 'sqrt(-51385974)', 'sqrt(-53)', 'sqrt(-28)', 'sqrt(-2395948)']\n",
      "2023-01-11 15:24:04,812:  Mutating new Grammar\n",
      "2023-01-11 15:24:04,812:  Selected rule <maybe_digits> to be mutated.\n",
      "2023-01-11 15:24:04,812:  <start>                       [('<arith_expr>', {'prob': None})]\n",
      "2023-01-11 15:24:04,813:  <arith_expr>                  [('<function>(<number>)', {'prob': None})]\n",
      "2023-01-11 15:24:04,813:  <function>                    [('sqrt', {'prob': 1.0}), ('sin', {'prob': 0.0}), ('cos', {'prob': 0.0}), ('tan', {'prob': 0.0})]\n",
      "2023-01-11 15:24:04,813:  <number>                      [('<maybe_minus><onenine><maybe_digits><maybe_frac>', {'prob': None})]\n",
      "2023-01-11 15:24:04,813:  <maybe_minus>                 [('', {'prob': 0.0}), ('-', {'prob': 1.0})]\n",
      "2023-01-11 15:24:04,813:  <onenine>                     [('1', {'prob': 0.0}), ('2', {'prob': 0.4}), ('3', {'prob': 0.0}), ('4', {'prob': 0.0}), ('5', {'prob': 0.6}), ('6', {'prob': 0.0}), ('7', {'prob': 0.0}), ('8', {'prob': 0.0}), ('9', {'prob': 0.0})]\n",
      "2023-01-11 15:24:04,813:  <digit>                       [('0', {'prob': 0.07142857142857142}), ('1', {'prob': 0.11904761904761904}), ('2', {'prob': 0.023809523809523808}), ('3', {'prob': 0.14285714285714285}), ('4', {'prob': 0.19047619047619047}), ('5', {'prob': 0.047619047619047616}), ('6', {'prob': 0.0}), ('7', {'prob': 0.07142857142857142}), ('8', {'prob': 0.16666666666666666}), ('9', {'prob': 0.16666666666666666})]\n",
      "2023-01-11 15:24:04,814:  <maybe_digits>                [('', {'prob': 0.490463775307651}), ('<digits>', {'prob': 0.5095362246923489})]\n",
      "2023-01-11 15:24:04,814:  <digits>                      [('<digit>', {'prob': 0.23809523809523808}), ('<digit><digits>', {'prob': 0.7619047619047619})]\n",
      "2023-01-11 15:24:04,814:  <maybe_frac>                  [('', {'prob': 1.0}), ('.<digits>', {'prob': 0.0})]\n",
      "2023-01-11 15:24:04,814:  Terminate due to maximal iterations reached\n",
      "2023-01-11 15:24:04,815:  Exiting EvoGFuzz!\n",
      "2023-01-11 15:24:04,815:  Final Grammar:\n",
      "2023-01-11 15:24:04,815:  <start>                       [('<arith_expr>', {'prob': None})]\n",
      "2023-01-11 15:24:04,815:  <arith_expr>                  [('<function>(<number>)', {'prob': None})]\n",
      "2023-01-11 15:24:04,815:  <function>                    [('sqrt', {'prob': 1.0}), ('sin', {'prob': 0.0}), ('cos', {'prob': 0.0}), ('tan', {'prob': 0.0})]\n",
      "2023-01-11 15:24:04,816:  <number>                      [('<maybe_minus><onenine><maybe_digits><maybe_frac>', {'prob': None})]\n",
      "2023-01-11 15:24:04,816:  <maybe_minus>                 [('', {'prob': 0.0}), ('-', {'prob': 1.0})]\n",
      "2023-01-11 15:24:04,816:  <onenine>                     [('1', {'prob': 0.0}), ('2', {'prob': 0.4}), ('3', {'prob': 0.0}), ('4', {'prob': 0.0}), ('5', {'prob': 0.6}), ('6', {'prob': 0.0}), ('7', {'prob': 0.0}), ('8', {'prob': 0.0}), ('9', {'prob': 0.0})]\n",
      "2023-01-11 15:24:04,816:  <digit>                       [('0', {'prob': 0.07142857142857142}), ('1', {'prob': 0.11904761904761904}), ('2', {'prob': 0.023809523809523808}), ('3', {'prob': 0.14285714285714285}), ('4', {'prob': 0.19047619047619047}), ('5', {'prob': 0.047619047619047616}), ('6', {'prob': 0.0}), ('7', {'prob': 0.07142857142857142}), ('8', {'prob': 0.16666666666666666}), ('9', {'prob': 0.16666666666666666})]\n",
      "2023-01-11 15:24:04,816:  <maybe_digits>                [('', {'prob': 0.490463775307651}), ('<digits>', {'prob': 0.5095362246923489})]\n",
      "2023-01-11 15:24:04,817:  <digits>                      [('<digit>', {'prob': 0.23809523809523808}), ('<digit><digits>', {'prob': 0.7619047619047619})]\n",
      "2023-01-11 15:24:04,817:  <maybe_frac>                  [('', {'prob': 1.0}), ('.<digits>', {'prob': 0.0})]\n"
     ]
    }
   ],
   "source": [
    "result = evogfuzz.execute()"
   ],
   "metadata": {
    "collapsed": false
   }
  },
  {
   "cell_type": "code",
   "execution_count": 98,
   "outputs": [],
   "source": [
    "result = evogfuzz._get_latest_grammar()"
   ],
   "metadata": {
    "collapsed": false
   }
  },
  {
   "cell_type": "code",
   "execution_count": 99,
   "outputs": [
    {
     "data": {
      "text/plain": "{'<start>': [('<arith_expr>', {'prob': None})],\n '<arith_expr>': [('<function>(<number>)', {'prob': None})],\n '<function>': [('sqrt', {'prob': 1.0}),\n  ('sin', {'prob': 0.0}),\n  ('cos', {'prob': 0.0}),\n  ('tan', {'prob': 0.0})],\n '<number>': [('<maybe_minus><onenine><maybe_digits><maybe_frac>',\n   {'prob': None})],\n '<maybe_minus>': [('', {'prob': 0.0}), ('-', {'prob': 1.0})],\n '<onenine>': [('1', {'prob': 0.0}),\n  ('2', {'prob': 0.4}),\n  ('3', {'prob': 0.0}),\n  ('4', {'prob': 0.0}),\n  ('5', {'prob': 0.6}),\n  ('6', {'prob': 0.0}),\n  ('7', {'prob': 0.0}),\n  ('8', {'prob': 0.0}),\n  ('9', {'prob': 0.0})],\n '<digit>': [('0', {'prob': 0.07142857142857142}),\n  ('1', {'prob': 0.11904761904761904}),\n  ('2', {'prob': 0.023809523809523808}),\n  ('3', {'prob': 0.14285714285714285}),\n  ('4', {'prob': 0.19047619047619047}),\n  ('5', {'prob': 0.047619047619047616}),\n  ('6', {'prob': 0.0}),\n  ('7', {'prob': 0.07142857142857142}),\n  ('8', {'prob': 0.16666666666666666}),\n  ('9', {'prob': 0.16666666666666666})],\n '<maybe_digits>': [('', {'prob': 0.490463775307651}),\n  ('<digits>', {'prob': 0.5095362246923489})],\n '<digits>': [('<digit>', {'prob': 0.23809523809523808}),\n  ('<digit><digits>', {'prob': 0.7619047619047619})],\n '<maybe_frac>': [('', {'prob': 1.0}), ('.<digits>', {'prob': 0.0})]}"
     },
     "execution_count": 99,
     "metadata": {},
     "output_type": "execute_result"
    }
   ],
   "source": [
    "result"
   ],
   "metadata": {
    "collapsed": false
   }
  },
  {
   "cell_type": "code",
   "execution_count": 100,
   "outputs": [
    {
     "name": "stdout",
     "output_type": "stream",
     "text": [
      "sqrt(-21743888)\n",
      "sqrt(-5)\n",
      "sqrt(-5)\n",
      "sqrt(-2)\n",
      "sqrt(-2031899149)\n",
      "sqrt(-284381305941983110)\n",
      "sqrt(-5787)\n",
      "sqrt(-5)\n",
      "sqrt(-5)\n",
      "sqrt(-59)\n",
      "sqrt(-5)\n",
      "sqrt(-5)\n",
      "sqrt(-5)\n",
      "sqrt(-2388)\n",
      "sqrt(-5305899)\n",
      "sqrt(-2)\n",
      "sqrt(-5)\n",
      "sqrt(-2)\n",
      "sqrt(-5)\n",
      "sqrt(-51)\n",
      "sqrt(-2994)\n",
      "sqrt(-5)\n",
      "sqrt(-548901357)\n",
      "sqrt(-5)\n",
      "sqrt(-2)\n",
      "sqrt(-59)\n",
      "sqrt(-5)\n",
      "sqrt(-5)\n",
      "sqrt(-5)\n",
      "sqrt(-5)\n",
      "sqrt(-544)\n",
      "sqrt(-5)\n",
      "sqrt(-23999)\n",
      "sqrt(-5)\n",
      "sqrt(-23)\n",
      "sqrt(-5)\n",
      "sqrt(-5)\n",
      "sqrt(-2)\n",
      "sqrt(-2)\n",
      "sqrt(-273801480851)\n",
      "sqrt(-2)\n",
      "sqrt(-5349)\n",
      "sqrt(-2)\n",
      "sqrt(-5)\n",
      "sqrt(-58399889)\n",
      "sqrt(-2)\n",
      "sqrt(-5)\n",
      "sqrt(-5)\n",
      "sqrt(-59859)\n",
      "sqrt(-5413454003)\n",
      "sqrt(-5)\n",
      "sqrt(-5)\n",
      "sqrt(-218)\n",
      "sqrt(-588714984)\n",
      "sqrt(-54)\n",
      "sqrt(-2)\n",
      "sqrt(-5043001487530)\n",
      "sqrt(-5)\n",
      "sqrt(-2)\n",
      "sqrt(-2408909)\n",
      "sqrt(-2)\n",
      "sqrt(-28)\n",
      "sqrt(-5)\n",
      "sqrt(-57)\n",
      "sqrt(-5904998948)\n",
      "sqrt(-58)\n",
      "sqrt(-2)\n",
      "sqrt(-503717)\n",
      "sqrt(-5293)\n",
      "sqrt(-5)\n",
      "sqrt(-50)\n",
      "sqrt(-2)\n",
      "sqrt(-5)\n",
      "sqrt(-508)\n",
      "sqrt(-2347124888913)\n",
      "sqrt(-27)\n",
      "sqrt(-2)\n",
      "sqrt(-5)\n",
      "sqrt(-5)\n",
      "sqrt(-27)\n",
      "sqrt(-2)\n",
      "sqrt(-2)\n",
      "sqrt(-540)\n",
      "sqrt(-213)\n",
      "sqrt(-5)\n",
      "sqrt(-2)\n",
      "sqrt(-581)\n",
      "sqrt(-51)\n",
      "sqrt(-2)\n",
      "sqrt(-2)\n",
      "sqrt(-24)\n",
      "sqrt(-29449)\n",
      "sqrt(-5985)\n",
      "sqrt(-5)\n",
      "sqrt(-5)\n",
      "sqrt(-544599)\n",
      "sqrt(-5)\n",
      "sqrt(-538)\n",
      "sqrt(-2)\n",
      "sqrt(-57)\n"
     ]
    }
   ],
   "source": [
    "from fuzzingbook.ProbabilisticGrammarFuzzer import ProbabilisticGrammarFuzzer\n",
    "\n",
    "prob_fuzzer = ProbabilisticGrammarFuzzer(result)\n",
    "\n",
    "for _ in range(100):\n",
    "    print(prob_fuzzer.fuzz())"
   ],
   "metadata": {
    "collapsed": false
   }
  },
  {
   "cell_type": "markdown",
   "source": [
    "## Visualizing the Optimization"
   ],
   "metadata": {
    "collapsed": false
   }
  },
  {
   "cell_type": "code",
   "execution_count": 101,
   "outputs": [],
   "source": [
    "from matplotlib.pyplot import plot"
   ],
   "metadata": {
    "collapsed": false
   }
  },
  {
   "cell_type": "code",
   "execution_count": 102,
   "outputs": [
    {
     "data": {
      "text/plain": "[<matplotlib.lines.Line2D at 0x282f30610>]"
     },
     "execution_count": 102,
     "metadata": {},
     "output_type": "execute_result"
    },
    {
     "data": {
      "text/plain": "<Figure size 640x480 with 1 Axes>",
      "image/png": "[encoded data removed]"
     },
     "metadata": {},
     "output_type": "display_data"
    }
   ],
   "source": [
    "plot([1,2], [2,1])"
   ],
   "metadata": {
    "collapsed": false
   }
  },
  {
   "cell_type": "code",
   "execution_count": 103,
   "outputs": [
    {
     "data": {
      "text/plain": "dict_keys(['<start>', '<arith_expr>', '<function>', '<number>', '<maybe_minus>', '<onenine>', '<digit>', '<maybe_digits>', '<digits>', '<maybe_frac>'])"
     },
     "execution_count": 103,
     "metadata": {},
     "output_type": "execute_result"
    }
   ],
   "source": [
    "result.keys()"
   ],
   "metadata": {
    "collapsed": false
   }
  },
  {
   "cell_type": "code",
   "execution_count": 104,
   "outputs": [],
   "source": [
    "from copy import deepcopy\n",
    "g = deepcopy(result)\n",
    "\n",
    "features = set()\n",
    "\n",
    "for rule in g:\n",
    "    for child in g[rule]:\n",
    "        features.add(f\"{rule}->{child[1]['prob']}\")"
   ],
   "metadata": {
    "collapsed": false
   }
  },
  {
   "cell_type": "code",
   "execution_count": 105,
   "outputs": [
    {
     "data": {
      "text/plain": "{'<arith_expr>->None',\n '<digit>->0.0',\n '<digit>->0.023809523809523808',\n '<digit>->0.047619047619047616',\n '<digit>->0.07142857142857142',\n '<digit>->0.11904761904761904',\n '<digit>->0.14285714285714285',\n '<digit>->0.16666666666666666',\n '<digit>->0.19047619047619047',\n '<digits>->0.23809523809523808',\n '<digits>->0.7619047619047619',\n '<function>->0.0',\n '<function>->1.0',\n '<maybe_digits>->0.490463775307651',\n '<maybe_digits>->0.5095362246923489',\n '<maybe_frac>->0.0',\n '<maybe_frac>->1.0',\n '<maybe_minus>->0.0',\n '<maybe_minus>->1.0',\n '<number>->None',\n '<onenine>->0.0',\n '<onenine>->0.4',\n '<onenine>->0.6',\n '<start>->None'}"
     },
     "metadata": {},
     "output_type": "display_data"
    }
   ],
   "source": [
    "display(features)"
   ],
   "metadata": {
    "collapsed": false
   }
  },
  {
   "cell_type": "code",
   "execution_count": 106,
   "outputs": [],
   "source": [
    "gr = [g, g]\n",
    "\n",
    "def _initialize(g):\n",
    "    g = deepcopy(g)\n",
    "    probabilities = dict()\n",
    "    for rule in g:\n",
    "        for child in g[rule]:\n",
    "            feature = f\"{rule}->{child[0]}\"\n",
    "            probabilities[feature] = []\n",
    "    return probabilities\n",
    "\n",
    "\n",
    "\n",
    "def parse_prob_grammars(grammar_list):\n",
    "    probabilities = _initialize(grammar_list[0])\n",
    "\n",
    "    for grammar in grammar_list:\n",
    "        for rule in grammar:\n",
    "            for child in grammar[rule]:\n",
    "                feature = f\"{rule}->{child[0]}\"\n",
    "                prob_list = probabilities[feature]\n",
    "                if child[1]['prob'] is None:\n",
    "                    prob_list.append(1.0)\n",
    "                else:\n",
    "                    prob_list.append(child[1]['prob'])\n",
    "                probabilities[feature] = prob_list\n",
    "\n",
    "    return probabilities\n",
    "\n",
    "\n",
    "r = parse_prob_grammars(gr)"
   ],
   "metadata": {
    "collapsed": false
   }
  },
  {
   "cell_type": "code",
   "execution_count": 107,
   "outputs": [
    {
     "data": {
      "text/plain": "{'<start>-><arith_expr>': [1.0, 1.0],\n '<arith_expr>-><function>(<number>)': [1.0, 1.0],\n '<function>->sqrt': [1.0, 1.0],\n '<function>->sin': [0.0, 0.0],\n '<function>->cos': [0.0, 0.0],\n '<function>->tan': [0.0, 0.0],\n '<number>-><maybe_minus><onenine><maybe_digits><maybe_frac>': [1.0, 1.0],\n '<maybe_minus>->': [0.0, 0.0],\n '<maybe_minus>->-': [1.0, 1.0],\n '<onenine>->1': [0.0, 0.0],\n '<onenine>->2': [0.4, 0.4],\n '<onenine>->3': [0.0, 0.0],\n '<onenine>->4': [0.0, 0.0],\n '<onenine>->5': [0.6, 0.6],\n '<onenine>->6': [0.0, 0.0],\n '<onenine>->7': [0.0, 0.0],\n '<onenine>->8': [0.0, 0.0],\n '<onenine>->9': [0.0, 0.0],\n '<digit>->0': [0.07142857142857142, 0.07142857142857142],\n '<digit>->1': [0.11904761904761904, 0.11904761904761904],\n '<digit>->2': [0.023809523809523808, 0.023809523809523808],\n '<digit>->3': [0.14285714285714285, 0.14285714285714285],\n '<digit>->4': [0.19047619047619047, 0.19047619047619047],\n '<digit>->5': [0.047619047619047616, 0.047619047619047616],\n '<digit>->6': [0.0, 0.0],\n '<digit>->7': [0.07142857142857142, 0.07142857142857142],\n '<digit>->8': [0.16666666666666666, 0.16666666666666666],\n '<digit>->9': [0.16666666666666666, 0.16666666666666666],\n '<maybe_digits>->': [0.490463775307651, 0.490463775307651],\n '<maybe_digits>-><digits>': [0.5095362246923489, 0.5095362246923489],\n '<digits>-><digit>': [0.23809523809523808, 0.23809523809523808],\n '<digits>-><digit><digits>': [0.7619047619047619, 0.7619047619047619],\n '<maybe_frac>->': [1.0, 1.0],\n '<maybe_frac>->.<digits>': [0.0, 0.0]}"
     },
     "metadata": {},
     "output_type": "display_data"
    }
   ],
   "source": [
    "display(r)"
   ],
   "metadata": {
    "collapsed": false
   }
  },
  {
   "cell_type": "code",
   "execution_count": 108,
   "outputs": [],
   "source": [
    "all_prob_grammars_org = evogfuzz._probabilistic_grammars\n",
    "all_prob_grammars = [g[0] for g in all_prob_grammars_org]"
   ],
   "metadata": {
    "collapsed": false
   }
  },
  {
   "cell_type": "code",
   "execution_count": 109,
   "outputs": [],
   "source": [
    "# all_prob_grammars = [g[0] for g in all_prob_grammars]"
   ],
   "metadata": {
    "collapsed": false
   }
  },
  {
   "cell_type": "code",
   "execution_count": 110,
   "outputs": [],
   "source": [
    "r = parse_prob_grammars(all_prob_grammars)"
   ],
   "metadata": {
    "collapsed": false
   }
  },
  {
   "cell_type": "code",
   "execution_count": 111,
   "outputs": [
    {
     "data": {
      "text/plain": "{'<start>-><arith_expr>': [1.0,\n  1.0,\n  1.0,\n  1.0,\n  1.0,\n  1.0,\n  1.0,\n  1.0,\n  1.0,\n  1.0,\n  1.0,\n  1.0,\n  1.0,\n  1.0,\n  1.0,\n  1.0,\n  1.0,\n  1.0,\n  1.0,\n  1.0,\n  1.0],\n '<arith_expr>-><function>(<number>)': [1.0,\n  1.0,\n  1.0,\n  1.0,\n  1.0,\n  1.0,\n  1.0,\n  1.0,\n  1.0,\n  1.0,\n  1.0,\n  1.0,\n  1.0,\n  1.0,\n  1.0,\n  1.0,\n  1.0,\n  1.0,\n  1.0,\n  1.0,\n  1.0],\n '<function>->sqrt': [0.5,\n  0.6,\n  0.6,\n  0.6,\n  0.6,\n  0.7,\n  0.7,\n  1.0,\n  1.0,\n  1.0,\n  1.0,\n  1.0,\n  1.0,\n  1.0,\n  1.0,\n  1.0,\n  1.0,\n  1.0,\n  1.0,\n  1.0,\n  1.0],\n '<function>->sin': [0.0,\n  0.0,\n  0.0,\n  0.0,\n  0.0,\n  0.0,\n  0.0,\n  0.0,\n  0.0,\n  0.0,\n  0.0,\n  0.0,\n  0.0,\n  0.0,\n  0.0,\n  0.0,\n  0.0,\n  0.0,\n  0.0,\n  0.0,\n  0.0],\n '<function>->cos': [0.25,\n  0.3,\n  0.3,\n  0.4,\n  0.4,\n  0.3,\n  0.3,\n  0.0,\n  0.0,\n  0.0,\n  0.0,\n  0.0,\n  0.0,\n  0.0,\n  0.0,\n  0.0,\n  0.0,\n  0.0,\n  0.0,\n  0.0,\n  0.0],\n '<function>->tan': [0.25,\n  0.1,\n  0.1,\n  0.0,\n  0.0,\n  0.0,\n  0.0,\n  0.0,\n  0.0,\n  0.0,\n  0.0,\n  0.0,\n  0.0,\n  0.0,\n  0.0,\n  0.0,\n  0.0,\n  0.0,\n  0.0,\n  0.0,\n  0.0],\n '<number>-><maybe_minus><onenine><maybe_digits><maybe_frac>': [1.0,\n  1.0,\n  1.0,\n  1.0,\n  1.0,\n  1.0,\n  1.0,\n  1.0,\n  1.0,\n  1.0,\n  1.0,\n  1.0,\n  1.0,\n  1.0,\n  1.0,\n  1.0,\n  1.0,\n  1.0,\n  1.0,\n  1.0,\n  1.0],\n '<maybe_minus>->': [0.75,\n  0.6,\n  0.6,\n  0.5,\n  0.5,\n  0.2,\n  0.2,\n  0.1,\n  0.1,\n  0.0,\n  0.0,\n  0.0,\n  0.0,\n  0.0,\n  0.0,\n  0.0,\n  0.7543041617936861,\n  0.5,\n  0.5,\n  0.0,\n  0.0],\n '<maybe_minus>->-': [0.25,\n  0.4,\n  0.4,\n  0.5,\n  0.5,\n  0.8,\n  0.8,\n  0.9,\n  0.9,\n  1.0,\n  1.0,\n  1.0,\n  1.0,\n  1.0,\n  1.0,\n  1.0,\n  0.2456958382063139,\n  0.5,\n  0.5,\n  1.0,\n  1.0],\n '<onenine>->1': [0.5,\n  0.2,\n  0.2,\n  0.2,\n  0.2,\n  0.1,\n  0.1,\n  0.1,\n  0.1,\n  0.1,\n  0.015564809875060258,\n  0.0,\n  0.0,\n  0.0,\n  0.0,\n  0.0,\n  0.0,\n  0.0,\n  0.0,\n  0.0,\n  0.0],\n '<onenine>->2': [0.25,\n  0.3,\n  0.3,\n  0.3,\n  0.3,\n  0.4,\n  0.4,\n  0.5,\n  0.5,\n  0.5,\n  0.18066093265950753,\n  0.1,\n  0.1,\n  0.3,\n  0.3,\n  0.3,\n  0.3,\n  0.1,\n  0.1,\n  0.4,\n  0.4],\n '<onenine>->3': [0.25,\n  0.5,\n  0.5,\n  0.5,\n  0.5,\n  0.5,\n  0.5,\n  0.4,\n  0.4,\n  0.4,\n  0.18824240340970796,\n  0.2,\n  0.2,\n  0.1,\n  0.1,\n  0.2,\n  0.2,\n  0.3,\n  0.3,\n  0.0,\n  0.0],\n '<onenine>->4': [0.0,\n  0.0,\n  0.0,\n  0.0,\n  0.0,\n  0.0,\n  0.0,\n  0.0,\n  0.0,\n  0.0,\n  0.17461925508935933,\n  0.3,\n  0.3,\n  0.3,\n  0.3,\n  0.0,\n  0.0,\n  0.0,\n  0.0,\n  0.0,\n  0.0],\n '<onenine>->5': [0.0,\n  0.0,\n  0.0,\n  0.0,\n  0.0,\n  0.0,\n  0.0,\n  0.0,\n  0.0,\n  0.0,\n  0.08907414282055266,\n  0.2,\n  0.2,\n  0.2,\n  0.2,\n  0.4,\n  0.4,\n  0.5,\n  0.5,\n  0.6,\n  0.6],\n '<onenine>->6': [0.0,\n  0.0,\n  0.0,\n  0.0,\n  0.0,\n  0.0,\n  0.0,\n  0.0,\n  0.0,\n  0.0,\n  0.12210088303420046,\n  0.1,\n  0.1,\n  0.1,\n  0.1,\n  0.1,\n  0.1,\n  0.1,\n  0.1,\n  0.0,\n  0.0],\n '<onenine>->7': [0.0,\n  0.0,\n  0.0,\n  0.0,\n  0.0,\n  0.0,\n  0.0,\n  0.0,\n  0.0,\n  0.0,\n  0.014940856084447769,\n  0.0,\n  0.0,\n  0.0,\n  0.0,\n  0.0,\n  0.0,\n  0.0,\n  0.0,\n  0.0,\n  0.0],\n '<onenine>->8': [0.0,\n  0.0,\n  0.0,\n  0.0,\n  0.0,\n  0.0,\n  0.0,\n  0.0,\n  0.0,\n  0.0,\n  0.13091392555361292,\n  0.1,\n  0.1,\n  0.0,\n  0.0,\n  0.0,\n  0.0,\n  0.0,\n  0.0,\n  0.0,\n  0.0],\n '<onenine>->9': [0.0,\n  0.0,\n  0.0,\n  0.0,\n  0.0,\n  0.0,\n  0.0,\n  0.0,\n  0.0,\n  0.0,\n  0.08388279147355095,\n  0.0,\n  0.0,\n  0.0,\n  0.0,\n  0.0,\n  0.0,\n  0.0,\n  0.0,\n  0.0,\n  0.0],\n '<digit>->0': [0.16666666666666666,\n  0.07142857142857142,\n  0.07142857142857142,\n  0.16666666666666666,\n  0.16666666666666666,\n  0.21052631578947367,\n  0.21052631578947367,\n  0.23076923076923078,\n  0.23076923076923078,\n  0.2,\n  0.2,\n  0.22413793103448276,\n  0.0220517844714476,\n  0.04081632653061224,\n  0.07717652477909479,\n  0.06349206349206349,\n  0.06349206349206349,\n  0.05172413793103448,\n  0.07850659486649654,\n  0.07142857142857142,\n  0.07142857142857142],\n '<digit>->1': [0.0,\n  0.0,\n  0.0,\n  0.0,\n  0.0,\n  0.0,\n  0.0,\n  0.0,\n  0.0,\n  0.0,\n  0.0,\n  0.0,\n  0.041537556413174914,\n  0.04081632653061224,\n  0.05992936382451871,\n  0.015873015873015872,\n  0.015873015873015872,\n  0.0,\n  0.0995987816354722,\n  0.11904761904761904,\n  0.11904761904761904],\n '<digit>->2': [0.16666666666666666,\n  0.0,\n  0.0,\n  0.0,\n  0.0,\n  0.0,\n  0.0,\n  0.0,\n  0.0,\n  0.0,\n  0.0,\n  0.0,\n  0.14244475392951808,\n  0.12244897959183673,\n  0.06136682697223256,\n  0.031746031746031744,\n  0.031746031746031744,\n  0.034482758620689655,\n  0.026508539271641002,\n  0.023809523809523808,\n  0.023809523809523808],\n '<digit>->3': [0.16666666666666666,\n  0.42857142857142855,\n  0.42857142857142855,\n  0.3888888888888889,\n  0.3888888888888889,\n  0.3684210526315789,\n  0.3684210526315789,\n  0.6153846153846154,\n  0.6153846153846154,\n  0.6857142857142857,\n  0.6857142857142857,\n  0.5517241379310345,\n  0.0976514756559173,\n  0.12244897959183673,\n  0.09216038222720509,\n  0.1111111111111111,\n  0.1111111111111111,\n  0.1206896551724138,\n  0.1458842018225309,\n  0.14285714285714285,\n  0.14285714285714285],\n '<digit>->4': [0.0,\n  0.0,\n  0.0,\n  0.0,\n  0.0,\n  0.0,\n  0.0,\n  0.0,\n  0.0,\n  0.0,\n  0.0,\n  0.0,\n  0.11403202942991351,\n  0.10204081632653061,\n  0.11207161075591282,\n  0.12698412698412698,\n  0.12698412698412698,\n  0.08620689655172414,\n  0.15577638108079006,\n  0.19047619047619047,\n  0.19047619047619047],\n '<digit>->5': [0.0,\n  0.0,\n  0.0,\n  0.0,\n  0.0,\n  0.0,\n  0.0,\n  0.0,\n  0.0,\n  0.0,\n  0.0,\n  0.0,\n  0.09506629413152727,\n  0.16326530612244897,\n  0.13035552585182986,\n  0.09523809523809523,\n  0.09523809523809523,\n  0.08620689655172414,\n  0.07651987783913594,\n  0.047619047619047616,\n  0.047619047619047616],\n '<digit>->6': [0.16666666666666666,\n  0.14285714285714285,\n  0.14285714285714285,\n  0.1111111111111111,\n  0.1111111111111111,\n  0.2631578947368421,\n  0.2631578947368421,\n  0.07692307692307693,\n  0.07692307692307693,\n  0.08571428571428572,\n  0.08571428571428572,\n  0.20689655172413793,\n  0.11810848433648558,\n  0.10204081632653061,\n  0.1657198442912476,\n  0.1746031746031746,\n  0.1746031746031746,\n  0.29310344827586204,\n  0.01730570707108664,\n  0.0,\n  0.0],\n '<digit>->7': [0.16666666666666666,\n  0.14285714285714285,\n  0.14285714285714285,\n  0.1111111111111111,\n  0.1111111111111111,\n  0.0,\n  0.0,\n  0.0,\n  0.0,\n  0.0,\n  0.0,\n  0.0,\n  0.1398430242229076,\n  0.14285714285714285,\n  0.15446794973735956,\n  0.19047619047619047,\n  0.19047619047619047,\n  0.22413793103448276,\n  0.09305712294194009,\n  0.07142857142857142,\n  0.07142857142857142],\n '<digit>->8': [0.16666666666666666,\n  0.21428571428571427,\n  0.21428571428571427,\n  0.2222222222222222,\n  0.2222222222222222,\n  0.15789473684210525,\n  0.15789473684210525,\n  0.07692307692307693,\n  0.07692307692307693,\n  0.02857142857142857,\n  0.02857142857142857,\n  0.017241379310344827,\n  0.028749431615754068,\n  0.0,\n  0.05027410435991017,\n  0.047619047619047616,\n  0.047619047619047616,\n  0.017241379310344827,\n  0.13514451398336425,\n  0.16666666666666666,\n  0.16666666666666666],\n '<digit>->9': [0.0,\n  0.0,\n  0.0,\n  0.0,\n  0.0,\n  0.0,\n  0.0,\n  0.0,\n  0.0,\n  0.0,\n  0.0,\n  0.0,\n  0.20051516579335407,\n  0.16326530612244897,\n  0.09647786720068892,\n  0.14285714285714285,\n  0.14285714285714285,\n  0.08620689655172414,\n  0.1716982794875423,\n  0.16666666666666666,\n  0.16666666666666666],\n '<maybe_digits>->': [0.25,\n  0.1,\n  0.40078044128988083,\n  0.1,\n  0.5060600986042797,\n  0.2,\n  0.2,\n  0.1,\n  0.6072554699669332,\n  0.1,\n  0.1,\n  0.1,\n  0.1,\n  0.1,\n  0.1,\n  0.1,\n  0.1,\n  0.0,\n  0.0,\n  0.0,\n  0.490463775307651],\n '<maybe_digits>-><digits>': [0.75,\n  0.9,\n  0.5992195587101191,\n  0.9,\n  0.49393990139572036,\n  0.8,\n  0.8,\n  0.9,\n  0.3927445300330668,\n  0.9,\n  0.9,\n  0.9,\n  0.9,\n  0.9,\n  0.9,\n  0.9,\n  0.9,\n  1.0,\n  1.0,\n  1.0,\n  0.5095362246923489],\n '<digits>-><digit>': [0.5,\n  0.6428571428571429,\n  0.6428571428571429,\n  0.5,\n  0.5,\n  0.42105263157894735,\n  0.5002656215129827,\n  0.34615384615384615,\n  0.34615384615384615,\n  0.2571428571428571,\n  0.2571428571428571,\n  0.15517241379310345,\n  0.15517241379310345,\n  0.1836734693877551,\n  0.1836734693877551,\n  0.14285714285714285,\n  0.14285714285714285,\n  0.1724137931034483,\n  0.1724137931034483,\n  0.23809523809523808,\n  0.23809523809523808],\n '<digits>-><digit><digits>': [0.5,\n  0.35714285714285715,\n  0.35714285714285715,\n  0.5,\n  0.5,\n  0.5789473684210527,\n  0.49973437848701735,\n  0.6538461538461539,\n  0.6538461538461539,\n  0.7428571428571429,\n  0.7428571428571429,\n  0.8448275862068966,\n  0.8448275862068966,\n  0.8163265306122449,\n  0.8163265306122449,\n  0.8571428571428571,\n  0.8571428571428571,\n  0.8275862068965517,\n  0.8275862068965517,\n  0.7619047619047619,\n  0.7619047619047619],\n '<maybe_frac>->': [1.0,\n  1.0,\n  1.0,\n  1.0,\n  1.0,\n  1.0,\n  1.0,\n  1.0,\n  1.0,\n  1.0,\n  1.0,\n  1.0,\n  1.0,\n  1.0,\n  1.0,\n  1.0,\n  1.0,\n  1.0,\n  1.0,\n  1.0,\n  1.0],\n '<maybe_frac>->.<digits>': [0.0,\n  0.0,\n  0.0,\n  0.0,\n  0.0,\n  0.0,\n  0.0,\n  0.0,\n  0.0,\n  0.0,\n  0.0,\n  0.0,\n  0.0,\n  0.0,\n  0.0,\n  0.0,\n  0.0,\n  0.0,\n  0.0,\n  0.0,\n  0.0]}"
     },
     "metadata": {},
     "output_type": "display_data"
    }
   ],
   "source": [
    "display(r)"
   ],
   "metadata": {
    "collapsed": false
   }
  },
  {
   "cell_type": "code",
   "execution_count": 112,
   "outputs": [
    {
     "name": "stdout",
     "output_type": "stream",
     "text": [
      "21\n"
     ]
    }
   ],
   "source": [
    "from evogfuzz.evogfuzz_class import GrammarType\n",
    "reduced = list(filter(lambda x: x[1] == GrammarType.LEARNED or GrammarType.MUTATED, all_prob_grammars_org))\n",
    "reduced = [g[0] for g in reduced]\n",
    "print(len(reduced))\n",
    "dicts = parse_prob_grammars(reduced)"
   ],
   "metadata": {
    "collapsed": false
   }
  },
  {
   "cell_type": "code",
   "execution_count": 113,
   "outputs": [
    {
     "data": {
      "text/plain": "{'<start>-><arith_expr>': [1.0,\n  1.0,\n  1.0,\n  1.0,\n  1.0,\n  1.0,\n  1.0,\n  1.0,\n  1.0,\n  1.0,\n  1.0,\n  1.0,\n  1.0,\n  1.0,\n  1.0,\n  1.0,\n  1.0,\n  1.0,\n  1.0,\n  1.0,\n  1.0],\n '<arith_expr>-><function>(<number>)': [1.0,\n  1.0,\n  1.0,\n  1.0,\n  1.0,\n  1.0,\n  1.0,\n  1.0,\n  1.0,\n  1.0,\n  1.0,\n  1.0,\n  1.0,\n  1.0,\n  1.0,\n  1.0,\n  1.0,\n  1.0,\n  1.0,\n  1.0,\n  1.0],\n '<function>->sqrt': [0.5,\n  0.6,\n  0.6,\n  0.6,\n  0.6,\n  0.7,\n  0.7,\n  1.0,\n  1.0,\n  1.0,\n  1.0,\n  1.0,\n  1.0,\n  1.0,\n  1.0,\n  1.0,\n  1.0,\n  1.0,\n  1.0,\n  1.0,\n  1.0],\n '<function>->sin': [0.0,\n  0.0,\n  0.0,\n  0.0,\n  0.0,\n  0.0,\n  0.0,\n  0.0,\n  0.0,\n  0.0,\n  0.0,\n  0.0,\n  0.0,\n  0.0,\n  0.0,\n  0.0,\n  0.0,\n  0.0,\n  0.0,\n  0.0,\n  0.0],\n '<function>->cos': [0.25,\n  0.3,\n  0.3,\n  0.4,\n  0.4,\n  0.3,\n  0.3,\n  0.0,\n  0.0,\n  0.0,\n  0.0,\n  0.0,\n  0.0,\n  0.0,\n  0.0,\n  0.0,\n  0.0,\n  0.0,\n  0.0,\n  0.0,\n  0.0],\n '<function>->tan': [0.25,\n  0.1,\n  0.1,\n  0.0,\n  0.0,\n  0.0,\n  0.0,\n  0.0,\n  0.0,\n  0.0,\n  0.0,\n  0.0,\n  0.0,\n  0.0,\n  0.0,\n  0.0,\n  0.0,\n  0.0,\n  0.0,\n  0.0,\n  0.0],\n '<number>-><maybe_minus><onenine><maybe_digits><maybe_frac>': [1.0,\n  1.0,\n  1.0,\n  1.0,\n  1.0,\n  1.0,\n  1.0,\n  1.0,\n  1.0,\n  1.0,\n  1.0,\n  1.0,\n  1.0,\n  1.0,\n  1.0,\n  1.0,\n  1.0,\n  1.0,\n  1.0,\n  1.0,\n  1.0],\n '<maybe_minus>->': [0.75,\n  0.6,\n  0.6,\n  0.5,\n  0.5,\n  0.2,\n  0.2,\n  0.1,\n  0.1,\n  0.0,\n  0.0,\n  0.0,\n  0.0,\n  0.0,\n  0.0,\n  0.0,\n  0.7543041617936861,\n  0.5,\n  0.5,\n  0.0,\n  0.0],\n '<maybe_minus>->-': [0.25,\n  0.4,\n  0.4,\n  0.5,\n  0.5,\n  0.8,\n  0.8,\n  0.9,\n  0.9,\n  1.0,\n  1.0,\n  1.0,\n  1.0,\n  1.0,\n  1.0,\n  1.0,\n  0.2456958382063139,\n  0.5,\n  0.5,\n  1.0,\n  1.0],\n '<onenine>->1': [0.5,\n  0.2,\n  0.2,\n  0.2,\n  0.2,\n  0.1,\n  0.1,\n  0.1,\n  0.1,\n  0.1,\n  0.015564809875060258,\n  0.0,\n  0.0,\n  0.0,\n  0.0,\n  0.0,\n  0.0,\n  0.0,\n  0.0,\n  0.0,\n  0.0],\n '<onenine>->2': [0.25,\n  0.3,\n  0.3,\n  0.3,\n  0.3,\n  0.4,\n  0.4,\n  0.5,\n  0.5,\n  0.5,\n  0.18066093265950753,\n  0.1,\n  0.1,\n  0.3,\n  0.3,\n  0.3,\n  0.3,\n  0.1,\n  0.1,\n  0.4,\n  0.4],\n '<onenine>->3': [0.25,\n  0.5,\n  0.5,\n  0.5,\n  0.5,\n  0.5,\n  0.5,\n  0.4,\n  0.4,\n  0.4,\n  0.18824240340970796,\n  0.2,\n  0.2,\n  0.1,\n  0.1,\n  0.2,\n  0.2,\n  0.3,\n  0.3,\n  0.0,\n  0.0],\n '<onenine>->4': [0.0,\n  0.0,\n  0.0,\n  0.0,\n  0.0,\n  0.0,\n  0.0,\n  0.0,\n  0.0,\n  0.0,\n  0.17461925508935933,\n  0.3,\n  0.3,\n  0.3,\n  0.3,\n  0.0,\n  0.0,\n  0.0,\n  0.0,\n  0.0,\n  0.0],\n '<onenine>->5': [0.0,\n  0.0,\n  0.0,\n  0.0,\n  0.0,\n  0.0,\n  0.0,\n  0.0,\n  0.0,\n  0.0,\n  0.08907414282055266,\n  0.2,\n  0.2,\n  0.2,\n  0.2,\n  0.4,\n  0.4,\n  0.5,\n  0.5,\n  0.6,\n  0.6],\n '<onenine>->6': [0.0,\n  0.0,\n  0.0,\n  0.0,\n  0.0,\n  0.0,\n  0.0,\n  0.0,\n  0.0,\n  0.0,\n  0.12210088303420046,\n  0.1,\n  0.1,\n  0.1,\n  0.1,\n  0.1,\n  0.1,\n  0.1,\n  0.1,\n  0.0,\n  0.0],\n '<onenine>->7': [0.0,\n  0.0,\n  0.0,\n  0.0,\n  0.0,\n  0.0,\n  0.0,\n  0.0,\n  0.0,\n  0.0,\n  0.014940856084447769,\n  0.0,\n  0.0,\n  0.0,\n  0.0,\n  0.0,\n  0.0,\n  0.0,\n  0.0,\n  0.0,\n  0.0],\n '<onenine>->8': [0.0,\n  0.0,\n  0.0,\n  0.0,\n  0.0,\n  0.0,\n  0.0,\n  0.0,\n  0.0,\n  0.0,\n  0.13091392555361292,\n  0.1,\n  0.1,\n  0.0,\n  0.0,\n  0.0,\n  0.0,\n  0.0,\n  0.0,\n  0.0,\n  0.0],\n '<onenine>->9': [0.0,\n  0.0,\n  0.0,\n  0.0,\n  0.0,\n  0.0,\n  0.0,\n  0.0,\n  0.0,\n  0.0,\n  0.08388279147355095,\n  0.0,\n  0.0,\n  0.0,\n  0.0,\n  0.0,\n  0.0,\n  0.0,\n  0.0,\n  0.0,\n  0.0],\n '<digit>->0': [0.16666666666666666,\n  0.07142857142857142,\n  0.07142857142857142,\n  0.16666666666666666,\n  0.16666666666666666,\n  0.21052631578947367,\n  0.21052631578947367,\n  0.23076923076923078,\n  0.23076923076923078,\n  0.2,\n  0.2,\n  0.22413793103448276,\n  0.0220517844714476,\n  0.04081632653061224,\n  0.07717652477909479,\n  0.06349206349206349,\n  0.06349206349206349,\n  0.05172413793103448,\n  0.07850659486649654,\n  0.07142857142857142,\n  0.07142857142857142],\n '<digit>->1': [0.0,\n  0.0,\n  0.0,\n  0.0,\n  0.0,\n  0.0,\n  0.0,\n  0.0,\n  0.0,\n  0.0,\n  0.0,\n  0.0,\n  0.041537556413174914,\n  0.04081632653061224,\n  0.05992936382451871,\n  0.015873015873015872,\n  0.015873015873015872,\n  0.0,\n  0.0995987816354722,\n  0.11904761904761904,\n  0.11904761904761904],\n '<digit>->2': [0.16666666666666666,\n  0.0,\n  0.0,\n  0.0,\n  0.0,\n  0.0,\n  0.0,\n  0.0,\n  0.0,\n  0.0,\n  0.0,\n  0.0,\n  0.14244475392951808,\n  0.12244897959183673,\n  0.06136682697223256,\n  0.031746031746031744,\n  0.031746031746031744,\n  0.034482758620689655,\n  0.026508539271641002,\n  0.023809523809523808,\n  0.023809523809523808],\n '<digit>->3': [0.16666666666666666,\n  0.42857142857142855,\n  0.42857142857142855,\n  0.3888888888888889,\n  0.3888888888888889,\n  0.3684210526315789,\n  0.3684210526315789,\n  0.6153846153846154,\n  0.6153846153846154,\n  0.6857142857142857,\n  0.6857142857142857,\n  0.5517241379310345,\n  0.0976514756559173,\n  0.12244897959183673,\n  0.09216038222720509,\n  0.1111111111111111,\n  0.1111111111111111,\n  0.1206896551724138,\n  0.1458842018225309,\n  0.14285714285714285,\n  0.14285714285714285],\n '<digit>->4': [0.0,\n  0.0,\n  0.0,\n  0.0,\n  0.0,\n  0.0,\n  0.0,\n  0.0,\n  0.0,\n  0.0,\n  0.0,\n  0.0,\n  0.11403202942991351,\n  0.10204081632653061,\n  0.11207161075591282,\n  0.12698412698412698,\n  0.12698412698412698,\n  0.08620689655172414,\n  0.15577638108079006,\n  0.19047619047619047,\n  0.19047619047619047],\n '<digit>->5': [0.0,\n  0.0,\n  0.0,\n  0.0,\n  0.0,\n  0.0,\n  0.0,\n  0.0,\n  0.0,\n  0.0,\n  0.0,\n  0.0,\n  0.09506629413152727,\n  0.16326530612244897,\n  0.13035552585182986,\n  0.09523809523809523,\n  0.09523809523809523,\n  0.08620689655172414,\n  0.07651987783913594,\n  0.047619047619047616,\n  0.047619047619047616],\n '<digit>->6': [0.16666666666666666,\n  0.14285714285714285,\n  0.14285714285714285,\n  0.1111111111111111,\n  0.1111111111111111,\n  0.2631578947368421,\n  0.2631578947368421,\n  0.07692307692307693,\n  0.07692307692307693,\n  0.08571428571428572,\n  0.08571428571428572,\n  0.20689655172413793,\n  0.11810848433648558,\n  0.10204081632653061,\n  0.1657198442912476,\n  0.1746031746031746,\n  0.1746031746031746,\n  0.29310344827586204,\n  0.01730570707108664,\n  0.0,\n  0.0],\n '<digit>->7': [0.16666666666666666,\n  0.14285714285714285,\n  0.14285714285714285,\n  0.1111111111111111,\n  0.1111111111111111,\n  0.0,\n  0.0,\n  0.0,\n  0.0,\n  0.0,\n  0.0,\n  0.0,\n  0.1398430242229076,\n  0.14285714285714285,\n  0.15446794973735956,\n  0.19047619047619047,\n  0.19047619047619047,\n  0.22413793103448276,\n  0.09305712294194009,\n  0.07142857142857142,\n  0.07142857142857142],\n '<digit>->8': [0.16666666666666666,\n  0.21428571428571427,\n  0.21428571428571427,\n  0.2222222222222222,\n  0.2222222222222222,\n  0.15789473684210525,\n  0.15789473684210525,\n  0.07692307692307693,\n  0.07692307692307693,\n  0.02857142857142857,\n  0.02857142857142857,\n  0.017241379310344827,\n  0.028749431615754068,\n  0.0,\n  0.05027410435991017,\n  0.047619047619047616,\n  0.047619047619047616,\n  0.017241379310344827,\n  0.13514451398336425,\n  0.16666666666666666,\n  0.16666666666666666],\n '<digit>->9': [0.0,\n  0.0,\n  0.0,\n  0.0,\n  0.0,\n  0.0,\n  0.0,\n  0.0,\n  0.0,\n  0.0,\n  0.0,\n  0.0,\n  0.20051516579335407,\n  0.16326530612244897,\n  0.09647786720068892,\n  0.14285714285714285,\n  0.14285714285714285,\n  0.08620689655172414,\n  0.1716982794875423,\n  0.16666666666666666,\n  0.16666666666666666],\n '<maybe_digits>->': [0.25,\n  0.1,\n  0.40078044128988083,\n  0.1,\n  0.5060600986042797,\n  0.2,\n  0.2,\n  0.1,\n  0.6072554699669332,\n  0.1,\n  0.1,\n  0.1,\n  0.1,\n  0.1,\n  0.1,\n  0.1,\n  0.1,\n  0.0,\n  0.0,\n  0.0,\n  0.490463775307651],\n '<maybe_digits>-><digits>': [0.75,\n  0.9,\n  0.5992195587101191,\n  0.9,\n  0.49393990139572036,\n  0.8,\n  0.8,\n  0.9,\n  0.3927445300330668,\n  0.9,\n  0.9,\n  0.9,\n  0.9,\n  0.9,\n  0.9,\n  0.9,\n  0.9,\n  1.0,\n  1.0,\n  1.0,\n  0.5095362246923489],\n '<digits>-><digit>': [0.5,\n  0.6428571428571429,\n  0.6428571428571429,\n  0.5,\n  0.5,\n  0.42105263157894735,\n  0.5002656215129827,\n  0.34615384615384615,\n  0.34615384615384615,\n  0.2571428571428571,\n  0.2571428571428571,\n  0.15517241379310345,\n  0.15517241379310345,\n  0.1836734693877551,\n  0.1836734693877551,\n  0.14285714285714285,\n  0.14285714285714285,\n  0.1724137931034483,\n  0.1724137931034483,\n  0.23809523809523808,\n  0.23809523809523808],\n '<digits>-><digit><digits>': [0.5,\n  0.35714285714285715,\n  0.35714285714285715,\n  0.5,\n  0.5,\n  0.5789473684210527,\n  0.49973437848701735,\n  0.6538461538461539,\n  0.6538461538461539,\n  0.7428571428571429,\n  0.7428571428571429,\n  0.8448275862068966,\n  0.8448275862068966,\n  0.8163265306122449,\n  0.8163265306122449,\n  0.8571428571428571,\n  0.8571428571428571,\n  0.8275862068965517,\n  0.8275862068965517,\n  0.7619047619047619,\n  0.7619047619047619],\n '<maybe_frac>->': [1.0,\n  1.0,\n  1.0,\n  1.0,\n  1.0,\n  1.0,\n  1.0,\n  1.0,\n  1.0,\n  1.0,\n  1.0,\n  1.0,\n  1.0,\n  1.0,\n  1.0,\n  1.0,\n  1.0,\n  1.0,\n  1.0,\n  1.0,\n  1.0],\n '<maybe_frac>->.<digits>': [0.0,\n  0.0,\n  0.0,\n  0.0,\n  0.0,\n  0.0,\n  0.0,\n  0.0,\n  0.0,\n  0.0,\n  0.0,\n  0.0,\n  0.0,\n  0.0,\n  0.0,\n  0.0,\n  0.0,\n  0.0,\n  0.0,\n  0.0,\n  0.0]}"
     },
     "metadata": {},
     "output_type": "display_data"
    }
   ],
   "source": [
    "display(dicts)"
   ],
   "metadata": {
    "collapsed": false
   }
  },
  {
   "cell_type": "code",
   "execution_count": 114,
   "outputs": [
    {
     "data": {
      "text/plain": "<Figure size 640x480 with 1 Axes>",
      "image/png": "[encoded data removed]"
     },
     "metadata": {},
     "output_type": "display_data"
    }
   ],
   "source": [
    "import matplotlib.pyplot as plt\n",
    "\n",
    "xvals = [i for i in range(len(reduced))]\n",
    "\n",
    "f, ax = plt.subplots(1)\n",
    "\n",
    "feature_disp = ['<function>->cos', '<function>->sqrt', '<maybe_minus>->-']\n",
    "\n",
    "for feature in feature_disp:\n",
    "    ax.plot(xvals, dicts[feature])\n"
   ],
   "metadata": {
    "collapsed": false
   }
  },
  {
   "cell_type": "code",
   "execution_count": 114,
   "outputs": [],
   "source": [],
   "metadata": {
    "collapsed": false
   }
  },
  {
   "cell_type": "code",
   "execution_count": 114,
   "outputs": [],
   "source": [],
   "metadata": {
    "collapsed": false
   }
  },
  {
   "cell_type": "code",
   "execution_count": 115,
   "outputs": [
    {
     "data": {
      "text/plain": "[({'<start>': [('<arith_expr>', {'prob': None})],\n   '<arith_expr>': [('<function>(<number>)', {'prob': None})],\n   '<function>': [('sqrt', {'prob': 0.5}),\n    ('sin', {'prob': 0.0}),\n    ('cos', {'prob': 0.25}),\n    ('tan', {'prob': 0.25})],\n   '<number>': [('<maybe_minus><onenine><maybe_digits><maybe_frac>',\n     {'prob': None})],\n   '<maybe_minus>': [('', {'prob': 0.75}), ('-', {'prob': 0.25})],\n   '<onenine>': [('1', {'prob': 0.5}),\n    ('2', {'prob': 0.25}),\n    ('3', {'prob': 0.25}),\n    ('4', {'prob': 0.0}),\n    ('5', {'prob': 0.0}),\n    ('6', {'prob': 0.0}),\n    ('7', {'prob': 0.0}),\n    ('8', {'prob': 0.0}),\n    ('9', {'prob': 0.0})],\n   '<digit>': [('0', {'prob': 0.16666666666666666}),\n    ('1', {'prob': 0.0}),\n    ('2', {'prob': 0.16666666666666666}),\n    ('3', {'prob': 0.16666666666666666}),\n    ('4', {'prob': 0.0}),\n    ('5', {'prob': 0.0}),\n    ('6', {'prob': 0.16666666666666666}),\n    ('7', {'prob': 0.16666666666666666}),\n    ('8', {'prob': 0.16666666666666666}),\n    ('9', {'prob': 0.0})],\n   '<maybe_digits>': [('', {'prob': 0.25}), ('<digits>', {'prob': 0.75})],\n   '<digits>': [('<digit>', {'prob': 0.5}),\n    ('<digit><digits>', {'prob': 0.5})],\n   '<maybe_frac>': [('', {'prob': 1.0}), ('.<digits>', {'prob': 0.0})]},\n  <GrammarType.LEARNED: 'learned'>,\n  3),\n ({'<start>': [('<arith_expr>', {'prob': None})],\n   '<arith_expr>': [('<function>(<number>)', {'prob': None})],\n   '<function>': [('sqrt', {'prob': 0.6}),\n    ('sin', {'prob': 0.0}),\n    ('cos', {'prob': 0.3}),\n    ('tan', {'prob': 0.1})],\n   '<number>': [('<maybe_minus><onenine><maybe_digits><maybe_frac>',\n     {'prob': None})],\n   '<maybe_minus>': [('', {'prob': 0.6}), ('-', {'prob': 0.4})],\n   '<onenine>': [('1', {'prob': 0.2}),\n    ('2', {'prob': 0.3}),\n    ('3', {'prob': 0.5}),\n    ('4', {'prob': 0.0}),\n    ('5', {'prob': 0.0}),\n    ('6', {'prob': 0.0}),\n    ('7', {'prob': 0.0}),\n    ('8', {'prob': 0.0}),\n    ('9', {'prob': 0.0})],\n   '<digit>': [('0', {'prob': 0.07142857142857142}),\n    ('1', {'prob': 0.0}),\n    ('2', {'prob': 0.0}),\n    ('3', {'prob': 0.42857142857142855}),\n    ('4', {'prob': 0.0}),\n    ('5', {'prob': 0.0}),\n    ('6', {'prob': 0.14285714285714285}),\n    ('7', {'prob': 0.14285714285714285}),\n    ('8', {'prob': 0.21428571428571427}),\n    ('9', {'prob': 0.0})],\n   '<maybe_digits>': [('', {'prob': 0.1}), ('<digits>', {'prob': 0.9})],\n   '<digits>': [('<digit>', {'prob': 0.6428571428571429}),\n    ('<digit><digits>', {'prob': 0.35714285714285715})],\n   '<maybe_frac>': [('', {'prob': 1.0}), ('.<digits>', {'prob': 0.0})]},\n  <GrammarType.LEARNED: 'learned'>,\n  -1),\n ({'<start>': [('<arith_expr>', {'prob': None})],\n   '<arith_expr>': [('<function>(<number>)', {'prob': None})],\n   '<function>': [('sqrt', {'prob': 0.6}),\n    ('sin', {'prob': 0.0}),\n    ('cos', {'prob': 0.3}),\n    ('tan', {'prob': 0.1})],\n   '<number>': [('<maybe_minus><onenine><maybe_digits><maybe_frac>',\n     {'prob': None})],\n   '<maybe_minus>': [('', {'prob': 0.6}), ('-', {'prob': 0.4})],\n   '<onenine>': [('1', {'prob': 0.2}),\n    ('2', {'prob': 0.3}),\n    ('3', {'prob': 0.5}),\n    ('4', {'prob': 0.0}),\n    ('5', {'prob': 0.0}),\n    ('6', {'prob': 0.0}),\n    ('7', {'prob': 0.0}),\n    ('8', {'prob': 0.0}),\n    ('9', {'prob': 0.0})],\n   '<digit>': [('0', {'prob': 0.07142857142857142}),\n    ('1', {'prob': 0.0}),\n    ('2', {'prob': 0.0}),\n    ('3', {'prob': 0.42857142857142855}),\n    ('4', {'prob': 0.0}),\n    ('5', {'prob': 0.0}),\n    ('6', {'prob': 0.14285714285714285}),\n    ('7', {'prob': 0.14285714285714285}),\n    ('8', {'prob': 0.21428571428571427}),\n    ('9', {'prob': 0.0})],\n   '<maybe_digits>': [('', {'prob': 0.40078044128988083}),\n    ('<digits>', {'prob': 0.5992195587101191})],\n   '<digits>': [('<digit>', {'prob': 0.6428571428571429}),\n    ('<digit><digits>', {'prob': 0.35714285714285715})],\n   '<maybe_frac>': [('', {'prob': 1.0}), ('.<digits>', {'prob': 0.0})]},\n  <GrammarType.MUTATED: 'mutated'>,\n  4),\n ({'<start>': [('<arith_expr>', {'prob': None})],\n   '<arith_expr>': [('<function>(<number>)', {'prob': None})],\n   '<function>': [('sqrt', {'prob': 0.6}),\n    ('sin', {'prob': 0.0}),\n    ('cos', {'prob': 0.4}),\n    ('tan', {'prob': 0.0})],\n   '<number>': [('<maybe_minus><onenine><maybe_digits><maybe_frac>',\n     {'prob': None})],\n   '<maybe_minus>': [('', {'prob': 0.5}), ('-', {'prob': 0.5})],\n   '<onenine>': [('1', {'prob': 0.2}),\n    ('2', {'prob': 0.3}),\n    ('3', {'prob': 0.5}),\n    ('4', {'prob': 0.0}),\n    ('5', {'prob': 0.0}),\n    ('6', {'prob': 0.0}),\n    ('7', {'prob': 0.0}),\n    ('8', {'prob': 0.0}),\n    ('9', {'prob': 0.0})],\n   '<digit>': [('0', {'prob': 0.16666666666666666}),\n    ('1', {'prob': 0.0}),\n    ('2', {'prob': 0.0}),\n    ('3', {'prob': 0.3888888888888889}),\n    ('4', {'prob': 0.0}),\n    ('5', {'prob': 0.0}),\n    ('6', {'prob': 0.1111111111111111}),\n    ('7', {'prob': 0.1111111111111111}),\n    ('8', {'prob': 0.2222222222222222}),\n    ('9', {'prob': 0.0})],\n   '<maybe_digits>': [('', {'prob': 0.1}), ('<digits>', {'prob': 0.9})],\n   '<digits>': [('<digit>', {'prob': 0.5}),\n    ('<digit><digits>', {'prob': 0.5})],\n   '<maybe_frac>': [('', {'prob': 1.0}), ('.<digits>', {'prob': 0.0})]},\n  <GrammarType.LEARNED: 'learned'>,\n  -1),\n ({'<start>': [('<arith_expr>', {'prob': None})],\n   '<arith_expr>': [('<function>(<number>)', {'prob': None})],\n   '<function>': [('sqrt', {'prob': 0.6}),\n    ('sin', {'prob': 0.0}),\n    ('cos', {'prob': 0.4}),\n    ('tan', {'prob': 0.0})],\n   '<number>': [('<maybe_minus><onenine><maybe_digits><maybe_frac>',\n     {'prob': None})],\n   '<maybe_minus>': [('', {'prob': 0.5}), ('-', {'prob': 0.5})],\n   '<onenine>': [('1', {'prob': 0.2}),\n    ('2', {'prob': 0.3}),\n    ('3', {'prob': 0.5}),\n    ('4', {'prob': 0.0}),\n    ('5', {'prob': 0.0}),\n    ('6', {'prob': 0.0}),\n    ('7', {'prob': 0.0}),\n    ('8', {'prob': 0.0}),\n    ('9', {'prob': 0.0})],\n   '<digit>': [('0', {'prob': 0.16666666666666666}),\n    ('1', {'prob': 0.0}),\n    ('2', {'prob': 0.0}),\n    ('3', {'prob': 0.3888888888888889}),\n    ('4', {'prob': 0.0}),\n    ('5', {'prob': 0.0}),\n    ('6', {'prob': 0.1111111111111111}),\n    ('7', {'prob': 0.1111111111111111}),\n    ('8', {'prob': 0.2222222222222222}),\n    ('9', {'prob': 0.0})],\n   '<maybe_digits>': [('', {'prob': 0.5060600986042797}),\n    ('<digits>', {'prob': 0.49393990139572036})],\n   '<digits>': [('<digit>', {'prob': 0.5}),\n    ('<digit><digits>', {'prob': 0.5})],\n   '<maybe_frac>': [('', {'prob': 1.0}), ('.<digits>', {'prob': 0.0})]},\n  <GrammarType.MUTATED: 'mutated'>,\n  7),\n ({'<start>': [('<arith_expr>', {'prob': None})],\n   '<arith_expr>': [('<function>(<number>)', {'prob': None})],\n   '<function>': [('sqrt', {'prob': 0.7}),\n    ('sin', {'prob': 0.0}),\n    ('cos', {'prob': 0.3}),\n    ('tan', {'prob': 0.0})],\n   '<number>': [('<maybe_minus><onenine><maybe_digits><maybe_frac>',\n     {'prob': None})],\n   '<maybe_minus>': [('', {'prob': 0.2}), ('-', {'prob': 0.8})],\n   '<onenine>': [('1', {'prob': 0.1}),\n    ('2', {'prob': 0.4}),\n    ('3', {'prob': 0.5}),\n    ('4', {'prob': 0.0}),\n    ('5', {'prob': 0.0}),\n    ('6', {'prob': 0.0}),\n    ('7', {'prob': 0.0}),\n    ('8', {'prob': 0.0}),\n    ('9', {'prob': 0.0})],\n   '<digit>': [('0', {'prob': 0.21052631578947367}),\n    ('1', {'prob': 0.0}),\n    ('2', {'prob': 0.0}),\n    ('3', {'prob': 0.3684210526315789}),\n    ('4', {'prob': 0.0}),\n    ('5', {'prob': 0.0}),\n    ('6', {'prob': 0.2631578947368421}),\n    ('7', {'prob': 0.0}),\n    ('8', {'prob': 0.15789473684210525}),\n    ('9', {'prob': 0.0})],\n   '<maybe_digits>': [('', {'prob': 0.2}), ('<digits>', {'prob': 0.8})],\n   '<digits>': [('<digit>', {'prob': 0.42105263157894735}),\n    ('<digit><digits>', {'prob': 0.5789473684210527})],\n   '<maybe_frac>': [('', {'prob': 1.0}), ('.<digits>', {'prob': 0.0})]},\n  <GrammarType.LEARNED: 'learned'>,\n  -1),\n ({'<start>': [('<arith_expr>', {'prob': None})],\n   '<arith_expr>': [('<function>(<number>)', {'prob': None})],\n   '<function>': [('sqrt', {'prob': 0.7}),\n    ('sin', {'prob': 0.0}),\n    ('cos', {'prob': 0.3}),\n    ('tan', {'prob': 0.0})],\n   '<number>': [('<maybe_minus><onenine><maybe_digits><maybe_frac>',\n     {'prob': None})],\n   '<maybe_minus>': [('', {'prob': 0.2}), ('-', {'prob': 0.8})],\n   '<onenine>': [('1', {'prob': 0.1}),\n    ('2', {'prob': 0.4}),\n    ('3', {'prob': 0.5}),\n    ('4', {'prob': 0.0}),\n    ('5', {'prob': 0.0}),\n    ('6', {'prob': 0.0}),\n    ('7', {'prob': 0.0}),\n    ('8', {'prob': 0.0}),\n    ('9', {'prob': 0.0})],\n   '<digit>': [('0', {'prob': 0.21052631578947367}),\n    ('1', {'prob': 0.0}),\n    ('2', {'prob': 0.0}),\n    ('3', {'prob': 0.3684210526315789}),\n    ('4', {'prob': 0.0}),\n    ('5', {'prob': 0.0}),\n    ('6', {'prob': 0.2631578947368421}),\n    ('7', {'prob': 0.0}),\n    ('8', {'prob': 0.15789473684210525}),\n    ('9', {'prob': 0.0})],\n   '<maybe_digits>': [('', {'prob': 0.2}), ('<digits>', {'prob': 0.8})],\n   '<digits>': [('<digit>', {'prob': 0.5002656215129827}),\n    ('<digit><digits>', {'prob': 0.49973437848701735})],\n   '<maybe_frac>': [('', {'prob': 1.0}), ('.<digits>', {'prob': 0.0})]},\n  <GrammarType.MUTATED: 'mutated'>,\n  9),\n ({'<start>': [('<arith_expr>', {'prob': None})],\n   '<arith_expr>': [('<function>(<number>)', {'prob': None})],\n   '<function>': [('sqrt', {'prob': 1.0}),\n    ('sin', {'prob': 0.0}),\n    ('cos', {'prob': 0.0}),\n    ('tan', {'prob': 0.0})],\n   '<number>': [('<maybe_minus><onenine><maybe_digits><maybe_frac>',\n     {'prob': None})],\n   '<maybe_minus>': [('', {'prob': 0.1}), ('-', {'prob': 0.9})],\n   '<onenine>': [('1', {'prob': 0.1}),\n    ('2', {'prob': 0.5}),\n    ('3', {'prob': 0.4}),\n    ('4', {'prob': 0.0}),\n    ('5', {'prob': 0.0}),\n    ('6', {'prob': 0.0}),\n    ('7', {'prob': 0.0}),\n    ('8', {'prob': 0.0}),\n    ('9', {'prob': 0.0})],\n   '<digit>': [('0', {'prob': 0.23076923076923078}),\n    ('1', {'prob': 0.0}),\n    ('2', {'prob': 0.0}),\n    ('3', {'prob': 0.6153846153846154}),\n    ('4', {'prob': 0.0}),\n    ('5', {'prob': 0.0}),\n    ('6', {'prob': 0.07692307692307693}),\n    ('7', {'prob': 0.0}),\n    ('8', {'prob': 0.07692307692307693}),\n    ('9', {'prob': 0.0})],\n   '<maybe_digits>': [('', {'prob': 0.1}), ('<digits>', {'prob': 0.9})],\n   '<digits>': [('<digit>', {'prob': 0.34615384615384615}),\n    ('<digit><digits>', {'prob': 0.6538461538461539})],\n   '<maybe_frac>': [('', {'prob': 1.0}), ('.<digits>', {'prob': 0.0})]},\n  <GrammarType.LEARNED: 'learned'>,\n  -1),\n ({'<start>': [('<arith_expr>', {'prob': None})],\n   '<arith_expr>': [('<function>(<number>)', {'prob': None})],\n   '<function>': [('sqrt', {'prob': 1.0}),\n    ('sin', {'prob': 0.0}),\n    ('cos', {'prob': 0.0}),\n    ('tan', {'prob': 0.0})],\n   '<number>': [('<maybe_minus><onenine><maybe_digits><maybe_frac>',\n     {'prob': None})],\n   '<maybe_minus>': [('', {'prob': 0.1}), ('-', {'prob': 0.9})],\n   '<onenine>': [('1', {'prob': 0.1}),\n    ('2', {'prob': 0.5}),\n    ('3', {'prob': 0.4}),\n    ('4', {'prob': 0.0}),\n    ('5', {'prob': 0.0}),\n    ('6', {'prob': 0.0}),\n    ('7', {'prob': 0.0}),\n    ('8', {'prob': 0.0}),\n    ('9', {'prob': 0.0})],\n   '<digit>': [('0', {'prob': 0.23076923076923078}),\n    ('1', {'prob': 0.0}),\n    ('2', {'prob': 0.0}),\n    ('3', {'prob': 0.6153846153846154}),\n    ('4', {'prob': 0.0}),\n    ('5', {'prob': 0.0}),\n    ('6', {'prob': 0.07692307692307693}),\n    ('7', {'prob': 0.0}),\n    ('8', {'prob': 0.07692307692307693}),\n    ('9', {'prob': 0.0})],\n   '<maybe_digits>': [('', {'prob': 0.6072554699669332}),\n    ('<digits>', {'prob': 0.3927445300330668})],\n   '<digits>': [('<digit>', {'prob': 0.34615384615384615}),\n    ('<digit><digits>', {'prob': 0.6538461538461539})],\n   '<maybe_frac>': [('', {'prob': 1.0}), ('.<digits>', {'prob': 0.0})]},\n  <GrammarType.MUTATED: 'mutated'>,\n  10),\n ({'<start>': [('<arith_expr>', {'prob': None})],\n   '<arith_expr>': [('<function>(<number>)', {'prob': None})],\n   '<function>': [('sqrt', {'prob': 1.0}),\n    ('sin', {'prob': 0.0}),\n    ('cos', {'prob': 0.0}),\n    ('tan', {'prob': 0.0})],\n   '<number>': [('<maybe_minus><onenine><maybe_digits><maybe_frac>',\n     {'prob': None})],\n   '<maybe_minus>': [('', {'prob': 0.0}), ('-', {'prob': 1.0})],\n   '<onenine>': [('1', {'prob': 0.1}),\n    ('2', {'prob': 0.5}),\n    ('3', {'prob': 0.4}),\n    ('4', {'prob': 0.0}),\n    ('5', {'prob': 0.0}),\n    ('6', {'prob': 0.0}),\n    ('7', {'prob': 0.0}),\n    ('8', {'prob': 0.0}),\n    ('9', {'prob': 0.0})],\n   '<digit>': [('0', {'prob': 0.2}),\n    ('1', {'prob': 0.0}),\n    ('2', {'prob': 0.0}),\n    ('3', {'prob': 0.6857142857142857}),\n    ('4', {'prob': 0.0}),\n    ('5', {'prob': 0.0}),\n    ('6', {'prob': 0.08571428571428572}),\n    ('7', {'prob': 0.0}),\n    ('8', {'prob': 0.02857142857142857}),\n    ('9', {'prob': 0.0})],\n   '<maybe_digits>': [('', {'prob': 0.1}), ('<digits>', {'prob': 0.9})],\n   '<digits>': [('<digit>', {'prob': 0.2571428571428571}),\n    ('<digit><digits>', {'prob': 0.7428571428571429})],\n   '<maybe_frac>': [('', {'prob': 1.0}), ('.<digits>', {'prob': 0.0})]},\n  <GrammarType.LEARNED: 'learned'>,\n  -1),\n ({'<start>': [('<arith_expr>', {'prob': None})],\n   '<arith_expr>': [('<function>(<number>)', {'prob': None})],\n   '<function>': [('sqrt', {'prob': 1.0}),\n    ('sin', {'prob': 0.0}),\n    ('cos', {'prob': 0.0}),\n    ('tan', {'prob': 0.0})],\n   '<number>': [('<maybe_minus><onenine><maybe_digits><maybe_frac>',\n     {'prob': None})],\n   '<maybe_minus>': [('', {'prob': 0.0}), ('-', {'prob': 1.0})],\n   '<onenine>': [('1', {'prob': 0.015564809875060258}),\n    ('2', {'prob': 0.18066093265950753}),\n    ('3', {'prob': 0.18824240340970796}),\n    ('4', {'prob': 0.17461925508935933}),\n    ('5', {'prob': 0.08907414282055266}),\n    ('6', {'prob': 0.12210088303420046}),\n    ('7', {'prob': 0.014940856084447769}),\n    ('8', {'prob': 0.13091392555361292}),\n    ('9', {'prob': 0.08388279147355095})],\n   '<digit>': [('0', {'prob': 0.2}),\n    ('1', {'prob': 0.0}),\n    ('2', {'prob': 0.0}),\n    ('3', {'prob': 0.6857142857142857}),\n    ('4', {'prob': 0.0}),\n    ('5', {'prob': 0.0}),\n    ('6', {'prob': 0.08571428571428572}),\n    ('7', {'prob': 0.0}),\n    ('8', {'prob': 0.02857142857142857}),\n    ('9', {'prob': 0.0})],\n   '<maybe_digits>': [('', {'prob': 0.1}), ('<digits>', {'prob': 0.9})],\n   '<digits>': [('<digit>', {'prob': 0.2571428571428571}),\n    ('<digit><digits>', {'prob': 0.7428571428571429})],\n   '<maybe_frac>': [('', {'prob': 1.0}), ('.<digits>', {'prob': 0.0})]},\n  <GrammarType.MUTATED: 'mutated'>,\n  10),\n ({'<start>': [('<arith_expr>', {'prob': None})],\n   '<arith_expr>': [('<function>(<number>)', {'prob': None})],\n   '<function>': [('sqrt', {'prob': 1.0}),\n    ('sin', {'prob': 0.0}),\n    ('cos', {'prob': 0.0}),\n    ('tan', {'prob': 0.0})],\n   '<number>': [('<maybe_minus><onenine><maybe_digits><maybe_frac>',\n     {'prob': None})],\n   '<maybe_minus>': [('', {'prob': 0.0}), ('-', {'prob': 1.0})],\n   '<onenine>': [('1', {'prob': 0.0}),\n    ('2', {'prob': 0.1}),\n    ('3', {'prob': 0.2}),\n    ('4', {'prob': 0.3}),\n    ('5', {'prob': 0.2}),\n    ('6', {'prob': 0.1}),\n    ('7', {'prob': 0.0}),\n    ('8', {'prob': 0.1}),\n    ('9', {'prob': 0.0})],\n   '<digit>': [('0', {'prob': 0.22413793103448276}),\n    ('1', {'prob': 0.0}),\n    ('2', {'prob': 0.0}),\n    ('3', {'prob': 0.5517241379310345}),\n    ('4', {'prob': 0.0}),\n    ('5', {'prob': 0.0}),\n    ('6', {'prob': 0.20689655172413793}),\n    ('7', {'prob': 0.0}),\n    ('8', {'prob': 0.017241379310344827}),\n    ('9', {'prob': 0.0})],\n   '<maybe_digits>': [('', {'prob': 0.1}), ('<digits>', {'prob': 0.9})],\n   '<digits>': [('<digit>', {'prob': 0.15517241379310345}),\n    ('<digit><digits>', {'prob': 0.8448275862068966})],\n   '<maybe_frac>': [('', {'prob': 1.0}), ('.<digits>', {'prob': 0.0})]},\n  <GrammarType.LEARNED: 'learned'>,\n  -1),\n ({'<start>': [('<arith_expr>', {'prob': None})],\n   '<arith_expr>': [('<function>(<number>)', {'prob': None})],\n   '<function>': [('sqrt', {'prob': 1.0}),\n    ('sin', {'prob': 0.0}),\n    ('cos', {'prob': 0.0}),\n    ('tan', {'prob': 0.0})],\n   '<number>': [('<maybe_minus><onenine><maybe_digits><maybe_frac>',\n     {'prob': None})],\n   '<maybe_minus>': [('', {'prob': 0.0}), ('-', {'prob': 1.0})],\n   '<onenine>': [('1', {'prob': 0.0}),\n    ('2', {'prob': 0.1}),\n    ('3', {'prob': 0.2}),\n    ('4', {'prob': 0.3}),\n    ('5', {'prob': 0.2}),\n    ('6', {'prob': 0.1}),\n    ('7', {'prob': 0.0}),\n    ('8', {'prob': 0.1}),\n    ('9', {'prob': 0.0})],\n   '<digit>': [('0', {'prob': 0.0220517844714476}),\n    ('1', {'prob': 0.041537556413174914}),\n    ('2', {'prob': 0.14244475392951808}),\n    ('3', {'prob': 0.0976514756559173}),\n    ('4', {'prob': 0.11403202942991351}),\n    ('5', {'prob': 0.09506629413152727}),\n    ('6', {'prob': 0.11810848433648558}),\n    ('7', {'prob': 0.1398430242229076}),\n    ('8', {'prob': 0.028749431615754068}),\n    ('9', {'prob': 0.20051516579335407})],\n   '<maybe_digits>': [('', {'prob': 0.1}), ('<digits>', {'prob': 0.9})],\n   '<digits>': [('<digit>', {'prob': 0.15517241379310345}),\n    ('<digit><digits>', {'prob': 0.8448275862068966})],\n   '<maybe_frac>': [('', {'prob': 1.0}), ('.<digits>', {'prob': 0.0})]},\n  <GrammarType.MUTATED: 'mutated'>,\n  10),\n ({'<start>': [('<arith_expr>', {'prob': None})],\n   '<arith_expr>': [('<function>(<number>)', {'prob': None})],\n   '<function>': [('sqrt', {'prob': 1.0}),\n    ('sin', {'prob': 0.0}),\n    ('cos', {'prob': 0.0}),\n    ('tan', {'prob': 0.0})],\n   '<number>': [('<maybe_minus><onenine><maybe_digits><maybe_frac>',\n     {'prob': None})],\n   '<maybe_minus>': [('', {'prob': 0.0}), ('-', {'prob': 1.0})],\n   '<onenine>': [('1', {'prob': 0.0}),\n    ('2', {'prob': 0.3}),\n    ('3', {'prob': 0.1}),\n    ('4', {'prob': 0.3}),\n    ('5', {'prob': 0.2}),\n    ('6', {'prob': 0.1}),\n    ('7', {'prob': 0.0}),\n    ('8', {'prob': 0.0}),\n    ('9', {'prob': 0.0})],\n   '<digit>': [('0', {'prob': 0.04081632653061224}),\n    ('1', {'prob': 0.04081632653061224}),\n    ('2', {'prob': 0.12244897959183673}),\n    ('3', {'prob': 0.12244897959183673}),\n    ('4', {'prob': 0.10204081632653061}),\n    ('5', {'prob': 0.16326530612244897}),\n    ('6', {'prob': 0.10204081632653061}),\n    ('7', {'prob': 0.14285714285714285}),\n    ('8', {'prob': 0.0}),\n    ('9', {'prob': 0.16326530612244897})],\n   '<maybe_digits>': [('', {'prob': 0.1}), ('<digits>', {'prob': 0.9})],\n   '<digits>': [('<digit>', {'prob': 0.1836734693877551}),\n    ('<digit><digits>', {'prob': 0.8163265306122449})],\n   '<maybe_frac>': [('', {'prob': 1.0}), ('.<digits>', {'prob': 0.0})]},\n  <GrammarType.LEARNED: 'learned'>,\n  -1),\n ({'<start>': [('<arith_expr>', {'prob': None})],\n   '<arith_expr>': [('<function>(<number>)', {'prob': None})],\n   '<function>': [('sqrt', {'prob': 1.0}),\n    ('sin', {'prob': 0.0}),\n    ('cos', {'prob': 0.0}),\n    ('tan', {'prob': 0.0})],\n   '<number>': [('<maybe_minus><onenine><maybe_digits><maybe_frac>',\n     {'prob': None})],\n   '<maybe_minus>': [('', {'prob': 0.0}), ('-', {'prob': 1.0})],\n   '<onenine>': [('1', {'prob': 0.0}),\n    ('2', {'prob': 0.3}),\n    ('3', {'prob': 0.1}),\n    ('4', {'prob': 0.3}),\n    ('5', {'prob': 0.2}),\n    ('6', {'prob': 0.1}),\n    ('7', {'prob': 0.0}),\n    ('8', {'prob': 0.0}),\n    ('9', {'prob': 0.0})],\n   '<digit>': [('0', {'prob': 0.07717652477909479}),\n    ('1', {'prob': 0.05992936382451871}),\n    ('2', {'prob': 0.06136682697223256}),\n    ('3', {'prob': 0.09216038222720509}),\n    ('4', {'prob': 0.11207161075591282}),\n    ('5', {'prob': 0.13035552585182986}),\n    ('6', {'prob': 0.1657198442912476}),\n    ('7', {'prob': 0.15446794973735956}),\n    ('8', {'prob': 0.05027410435991017}),\n    ('9', {'prob': 0.09647786720068892})],\n   '<maybe_digits>': [('', {'prob': 0.1}), ('<digits>', {'prob': 0.9})],\n   '<digits>': [('<digit>', {'prob': 0.1836734693877551}),\n    ('<digit><digits>', {'prob': 0.8163265306122449})],\n   '<maybe_frac>': [('', {'prob': 1.0}), ('.<digits>', {'prob': 0.0})]},\n  <GrammarType.MUTATED: 'mutated'>,\n  10),\n ({'<start>': [('<arith_expr>', {'prob': None})],\n   '<arith_expr>': [('<function>(<number>)', {'prob': None})],\n   '<function>': [('sqrt', {'prob': 1.0}),\n    ('sin', {'prob': 0.0}),\n    ('cos', {'prob': 0.0}),\n    ('tan', {'prob': 0.0})],\n   '<number>': [('<maybe_minus><onenine><maybe_digits><maybe_frac>',\n     {'prob': None})],\n   '<maybe_minus>': [('', {'prob': 0.0}), ('-', {'prob': 1.0})],\n   '<onenine>': [('1', {'prob': 0.0}),\n    ('2', {'prob': 0.3}),\n    ('3', {'prob': 0.2}),\n    ('4', {'prob': 0.0}),\n    ('5', {'prob': 0.4}),\n    ('6', {'prob': 0.1}),\n    ('7', {'prob': 0.0}),\n    ('8', {'prob': 0.0}),\n    ('9', {'prob': 0.0})],\n   '<digit>': [('0', {'prob': 0.06349206349206349}),\n    ('1', {'prob': 0.015873015873015872}),\n    ('2', {'prob': 0.031746031746031744}),\n    ('3', {'prob': 0.1111111111111111}),\n    ('4', {'prob': 0.12698412698412698}),\n    ('5', {'prob': 0.09523809523809523}),\n    ('6', {'prob': 0.1746031746031746}),\n    ('7', {'prob': 0.19047619047619047}),\n    ('8', {'prob': 0.047619047619047616}),\n    ('9', {'prob': 0.14285714285714285})],\n   '<maybe_digits>': [('', {'prob': 0.1}), ('<digits>', {'prob': 0.9})],\n   '<digits>': [('<digit>', {'prob': 0.14285714285714285}),\n    ('<digit><digits>', {'prob': 0.8571428571428571})],\n   '<maybe_frac>': [('', {'prob': 1.0}), ('.<digits>', {'prob': 0.0})]},\n  <GrammarType.LEARNED: 'learned'>,\n  -1),\n ({'<start>': [('<arith_expr>', {'prob': None})],\n   '<arith_expr>': [('<function>(<number>)', {'prob': None})],\n   '<function>': [('sqrt', {'prob': 1.0}),\n    ('sin', {'prob': 0.0}),\n    ('cos', {'prob': 0.0}),\n    ('tan', {'prob': 0.0})],\n   '<number>': [('<maybe_minus><onenine><maybe_digits><maybe_frac>',\n     {'prob': None})],\n   '<maybe_minus>': [('', {'prob': 0.7543041617936861}),\n    ('-', {'prob': 0.2456958382063139})],\n   '<onenine>': [('1', {'prob': 0.0}),\n    ('2', {'prob': 0.3}),\n    ('3', {'prob': 0.2}),\n    ('4', {'prob': 0.0}),\n    ('5', {'prob': 0.4}),\n    ('6', {'prob': 0.1}),\n    ('7', {'prob': 0.0}),\n    ('8', {'prob': 0.0}),\n    ('9', {'prob': 0.0})],\n   '<digit>': [('0', {'prob': 0.06349206349206349}),\n    ('1', {'prob': 0.015873015873015872}),\n    ('2', {'prob': 0.031746031746031744}),\n    ('3', {'prob': 0.1111111111111111}),\n    ('4', {'prob': 0.12698412698412698}),\n    ('5', {'prob': 0.09523809523809523}),\n    ('6', {'prob': 0.1746031746031746}),\n    ('7', {'prob': 0.19047619047619047}),\n    ('8', {'prob': 0.047619047619047616}),\n    ('9', {'prob': 0.14285714285714285})],\n   '<maybe_digits>': [('', {'prob': 0.1}), ('<digits>', {'prob': 0.9})],\n   '<digits>': [('<digit>', {'prob': 0.14285714285714285}),\n    ('<digit><digits>', {'prob': 0.8571428571428571})],\n   '<maybe_frac>': [('', {'prob': 1.0}), ('.<digits>', {'prob': 0.0})]},\n  <GrammarType.MUTATED: 'mutated'>,\n  5),\n ({'<start>': [('<arith_expr>', {'prob': None})],\n   '<arith_expr>': [('<function>(<number>)', {'prob': None})],\n   '<function>': [('sqrt', {'prob': 1.0}),\n    ('sin', {'prob': 0.0}),\n    ('cos', {'prob': 0.0}),\n    ('tan', {'prob': 0.0})],\n   '<number>': [('<maybe_minus><onenine><maybe_digits><maybe_frac>',\n     {'prob': None})],\n   '<maybe_minus>': [('', {'prob': 0.5}), ('-', {'prob': 0.5})],\n   '<onenine>': [('1', {'prob': 0.0}),\n    ('2', {'prob': 0.1}),\n    ('3', {'prob': 0.3}),\n    ('4', {'prob': 0.0}),\n    ('5', {'prob': 0.5}),\n    ('6', {'prob': 0.1}),\n    ('7', {'prob': 0.0}),\n    ('8', {'prob': 0.0}),\n    ('9', {'prob': 0.0})],\n   '<digit>': [('0', {'prob': 0.05172413793103448}),\n    ('1', {'prob': 0.0}),\n    ('2', {'prob': 0.034482758620689655}),\n    ('3', {'prob': 0.1206896551724138}),\n    ('4', {'prob': 0.08620689655172414}),\n    ('5', {'prob': 0.08620689655172414}),\n    ('6', {'prob': 0.29310344827586204}),\n    ('7', {'prob': 0.22413793103448276}),\n    ('8', {'prob': 0.017241379310344827}),\n    ('9', {'prob': 0.08620689655172414})],\n   '<maybe_digits>': [('', {'prob': 0.0}), ('<digits>', {'prob': 1.0})],\n   '<digits>': [('<digit>', {'prob': 0.1724137931034483}),\n    ('<digit><digits>', {'prob': 0.8275862068965517})],\n   '<maybe_frac>': [('', {'prob': 1.0}), ('.<digits>', {'prob': 0.0})]},\n  <GrammarType.LEARNED: 'learned'>,\n  -1),\n ({'<start>': [('<arith_expr>', {'prob': None})],\n   '<arith_expr>': [('<function>(<number>)', {'prob': None})],\n   '<function>': [('sqrt', {'prob': 1.0}),\n    ('sin', {'prob': 0.0}),\n    ('cos', {'prob': 0.0}),\n    ('tan', {'prob': 0.0})],\n   '<number>': [('<maybe_minus><onenine><maybe_digits><maybe_frac>',\n     {'prob': None})],\n   '<maybe_minus>': [('', {'prob': 0.5}), ('-', {'prob': 0.5})],\n   '<onenine>': [('1', {'prob': 0.0}),\n    ('2', {'prob': 0.1}),\n    ('3', {'prob': 0.3}),\n    ('4', {'prob': 0.0}),\n    ('5', {'prob': 0.5}),\n    ('6', {'prob': 0.1}),\n    ('7', {'prob': 0.0}),\n    ('8', {'prob': 0.0}),\n    ('9', {'prob': 0.0})],\n   '<digit>': [('0', {'prob': 0.07850659486649654}),\n    ('1', {'prob': 0.0995987816354722}),\n    ('2', {'prob': 0.026508539271641002}),\n    ('3', {'prob': 0.1458842018225309}),\n    ('4', {'prob': 0.15577638108079006}),\n    ('5', {'prob': 0.07651987783913594}),\n    ('6', {'prob': 0.01730570707108664}),\n    ('7', {'prob': 0.09305712294194009}),\n    ('8', {'prob': 0.13514451398336425}),\n    ('9', {'prob': 0.1716982794875423})],\n   '<maybe_digits>': [('', {'prob': 0.0}), ('<digits>', {'prob': 1.0})],\n   '<digits>': [('<digit>', {'prob': 0.1724137931034483}),\n    ('<digit><digits>', {'prob': 0.8275862068965517})],\n   '<maybe_frac>': [('', {'prob': 1.0}), ('.<digits>', {'prob': 0.0})]},\n  <GrammarType.MUTATED: 'mutated'>,\n  10),\n ({'<start>': [('<arith_expr>', {'prob': None})],\n   '<arith_expr>': [('<function>(<number>)', {'prob': None})],\n   '<function>': [('sqrt', {'prob': 1.0}),\n    ('sin', {'prob': 0.0}),\n    ('cos', {'prob': 0.0}),\n    ('tan', {'prob': 0.0})],\n   '<number>': [('<maybe_minus><onenine><maybe_digits><maybe_frac>',\n     {'prob': None})],\n   '<maybe_minus>': [('', {'prob': 0.0}), ('-', {'prob': 1.0})],\n   '<onenine>': [('1', {'prob': 0.0}),\n    ('2', {'prob': 0.4}),\n    ('3', {'prob': 0.0}),\n    ('4', {'prob': 0.0}),\n    ('5', {'prob': 0.6}),\n    ('6', {'prob': 0.0}),\n    ('7', {'prob': 0.0}),\n    ('8', {'prob': 0.0}),\n    ('9', {'prob': 0.0})],\n   '<digit>': [('0', {'prob': 0.07142857142857142}),\n    ('1', {'prob': 0.11904761904761904}),\n    ('2', {'prob': 0.023809523809523808}),\n    ('3', {'prob': 0.14285714285714285}),\n    ('4', {'prob': 0.19047619047619047}),\n    ('5', {'prob': 0.047619047619047616}),\n    ('6', {'prob': 0.0}),\n    ('7', {'prob': 0.07142857142857142}),\n    ('8', {'prob': 0.16666666666666666}),\n    ('9', {'prob': 0.16666666666666666})],\n   '<maybe_digits>': [('', {'prob': 0.0}), ('<digits>', {'prob': 1.0})],\n   '<digits>': [('<digit>', {'prob': 0.23809523809523808}),\n    ('<digit><digits>', {'prob': 0.7619047619047619})],\n   '<maybe_frac>': [('', {'prob': 1.0}), ('.<digits>', {'prob': 0.0})]},\n  <GrammarType.LEARNED: 'learned'>,\n  -1),\n ({'<start>': [('<arith_expr>', {'prob': None})],\n   '<arith_expr>': [('<function>(<number>)', {'prob': None})],\n   '<function>': [('sqrt', {'prob': 1.0}),\n    ('sin', {'prob': 0.0}),\n    ('cos', {'prob': 0.0}),\n    ('tan', {'prob': 0.0})],\n   '<number>': [('<maybe_minus><onenine><maybe_digits><maybe_frac>',\n     {'prob': None})],\n   '<maybe_minus>': [('', {'prob': 0.0}), ('-', {'prob': 1.0})],\n   '<onenine>': [('1', {'prob': 0.0}),\n    ('2', {'prob': 0.4}),\n    ('3', {'prob': 0.0}),\n    ('4', {'prob': 0.0}),\n    ('5', {'prob': 0.6}),\n    ('6', {'prob': 0.0}),\n    ('7', {'prob': 0.0}),\n    ('8', {'prob': 0.0}),\n    ('9', {'prob': 0.0})],\n   '<digit>': [('0', {'prob': 0.07142857142857142}),\n    ('1', {'prob': 0.11904761904761904}),\n    ('2', {'prob': 0.023809523809523808}),\n    ('3', {'prob': 0.14285714285714285}),\n    ('4', {'prob': 0.19047619047619047}),\n    ('5', {'prob': 0.047619047619047616}),\n    ('6', {'prob': 0.0}),\n    ('7', {'prob': 0.07142857142857142}),\n    ('8', {'prob': 0.16666666666666666}),\n    ('9', {'prob': 0.16666666666666666})],\n   '<maybe_digits>': [('', {'prob': 0.490463775307651}),\n    ('<digits>', {'prob': 0.5095362246923489})],\n   '<digits>': [('<digit>', {'prob': 0.23809523809523808}),\n    ('<digit><digits>', {'prob': 0.7619047619047619})],\n   '<maybe_frac>': [('', {'prob': 1.0}), ('.<digits>', {'prob': 0.0})]},\n  <GrammarType.MUTATED: 'mutated'>,\n  -1)]"
     },
     "metadata": {},
     "output_type": "display_data"
    }
   ],
   "source": [
    "display(evogfuzz._probabilistic_grammars)"
   ],
   "metadata": {
    "collapsed": false
   }
  },
  {
   "cell_type": "markdown",
   "source": [
    "### Plot Fitness Values"
   ],
   "metadata": {
    "collapsed": false
   }
  },
  {
   "cell_type": "code",
   "execution_count": 116,
   "outputs": [
    {
     "name": "stdout",
     "output_type": "stream",
     "text": [
      "Original\n"
     ]
    },
    {
     "data": {
      "text/plain": "[(3, <GrammarType.LEARNED: 'learned'>),\n (-1, <GrammarType.LEARNED: 'learned'>),\n (4, <GrammarType.MUTATED: 'mutated'>),\n (-1, <GrammarType.LEARNED: 'learned'>),\n (7, <GrammarType.MUTATED: 'mutated'>),\n (-1, <GrammarType.LEARNED: 'learned'>),\n (9, <GrammarType.MUTATED: 'mutated'>),\n (-1, <GrammarType.LEARNED: 'learned'>),\n (10, <GrammarType.MUTATED: 'mutated'>),\n (-1, <GrammarType.LEARNED: 'learned'>),\n (10, <GrammarType.MUTATED: 'mutated'>),\n (-1, <GrammarType.LEARNED: 'learned'>),\n (10, <GrammarType.MUTATED: 'mutated'>),\n (-1, <GrammarType.LEARNED: 'learned'>),\n (10, <GrammarType.MUTATED: 'mutated'>),\n (-1, <GrammarType.LEARNED: 'learned'>),\n (5, <GrammarType.MUTATED: 'mutated'>),\n (-1, <GrammarType.LEARNED: 'learned'>),\n (10, <GrammarType.MUTATED: 'mutated'>),\n (-1, <GrammarType.LEARNED: 'learned'>),\n (-1, <GrammarType.MUTATED: 'mutated'>)]"
     },
     "metadata": {},
     "output_type": "display_data"
    },
    {
     "name": "stdout",
     "output_type": "stream",
     "text": [
      "Clean\n"
     ]
    },
    {
     "data": {
      "text/plain": "[(3, <GrammarType.LEARNED: 'learned'>),\n (3, <GrammarType.LEARNED: 'learned'>),\n (4, <GrammarType.MUTATED: 'mutated'>),\n (4, <GrammarType.LEARNED: 'learned'>),\n (7, <GrammarType.MUTATED: 'mutated'>),\n (7, <GrammarType.LEARNED: 'learned'>),\n (9, <GrammarType.MUTATED: 'mutated'>),\n (9, <GrammarType.LEARNED: 'learned'>),\n (10, <GrammarType.MUTATED: 'mutated'>),\n (10, <GrammarType.LEARNED: 'learned'>),\n (10, <GrammarType.MUTATED: 'mutated'>),\n (10, <GrammarType.LEARNED: 'learned'>),\n (10, <GrammarType.MUTATED: 'mutated'>),\n (10, <GrammarType.LEARNED: 'learned'>),\n (10, <GrammarType.MUTATED: 'mutated'>),\n (10, <GrammarType.LEARNED: 'learned'>),\n (5, <GrammarType.MUTATED: 'mutated'>),\n (5, <GrammarType.LEARNED: 'learned'>),\n (10, <GrammarType.MUTATED: 'mutated'>),\n (10, <GrammarType.LEARNED: 'learned'>),\n (10, <GrammarType.MUTATED: 'mutated'>)]"
     },
     "metadata": {},
     "output_type": "display_data"
    }
   ],
   "source": [
    "fitness_values = [(x[2],x[1]) for x in all_prob_grammars_org[:]]\n",
    "print(\"Original\")\n",
    "display(fitness_values)\n",
    "\n",
    "\n",
    "from typing import Tuple, List\n",
    "\n",
    "def clean_fitness_values(fitness_values: List[Tuple[int, GrammarType]]):\n",
    "    for index, it in enumerate(fitness_values):\n",
    "        if it[0] == -1:\n",
    "            fitness_values[index] = (fitness_values[index-1][0], it[1])\n",
    "\n",
    "    return fitness_values\n",
    "\n",
    "res = clean_fitness_values(fitness_values)\n",
    "print(\"Clean\")\n",
    "display(res)"
   ],
   "metadata": {
    "collapsed": false
   }
  },
  {
   "cell_type": "code",
   "execution_count": 117,
   "outputs": [
    {
     "data": {
      "text/plain": "[<matplotlib.lines.Line2D at 0x282f8f7c0>]"
     },
     "execution_count": 117,
     "metadata": {},
     "output_type": "execute_result"
    },
    {
     "data": {
      "text/plain": "<Figure size 640x480 with 1 Axes>",
      "image/png": "[encoded data removed]"
     },
     "metadata": {},
     "output_type": "display_data"
    }
   ],
   "source": [
    "import matplotlib.pyplot as plt\n",
    "\n",
    "xvals = [i for i in range(len(reduced))]\n",
    "\n",
    "f, ax = plt.subplots(1)\n",
    "\n",
    "feature_disp = ['<function>->cos', '<function>->sqrt', '<maybe_minus>->-']\n",
    "# feature_disp = dicts.keys()\n",
    "\n",
    "for feature in feature_disp:\n",
    "    ax.plot(xvals, dicts[feature])\n",
    "\n",
    "xvals = [i for i in range(len(res))]\n",
    "yvals = [i[0] for i in res]\n",
    "\n",
    "import numpy as np\n",
    "\n",
    "def normalizeData(data):\n",
    "    return (data - np.min(data)) / (np.max(data) - np.min(data))\n",
    "\n",
    "p = normalizeData(yvals)\n",
    "\n",
    "ax.plot(xvals, p)"
   ],
   "metadata": {
    "collapsed": false
   }
  },
  {
   "cell_type": "code",
   "execution_count": 118,
   "outputs": [],
   "source": [
    "data = zip({1,2,3}, [False,False,False])"
   ],
   "metadata": {
    "collapsed": false
   }
  },
  {
   "cell_type": "code",
   "execution_count": 119,
   "outputs": [
    {
     "name": "stdout",
     "output_type": "stream",
     "text": [
      "Found <start> -> <arith_expr>\n",
      "Found <arith_expr> -> <function>(<number>)\n",
      "Found <function> -> sqrt\n",
      "Found <number> -> <maybe_minus><onenine><maybe_digits><maybe_frac>\n",
      "Found <maybe_minus> -> \n",
      "Found <onenine> -> 1\n",
      "Found <maybe_digits> -> <digits>\n",
      "Found <digits> -> <digit>\n",
      "Found <digit> -> 2\n",
      "Found <maybe_frac> -> \n",
      "Found <start> -> <arith_expr>\n",
      "Found <arith_expr> -> <function>(<number>)\n",
      "Found <function> -> tan\n",
      "Found <number> -> <maybe_minus><onenine><maybe_digits><maybe_frac>\n",
      "Found <maybe_minus> -> -\n",
      "Found <onenine> -> 1\n",
      "Found <maybe_digits> -> \n",
      "Found <maybe_frac> -> \n",
      "['sqrt', 'sin', 'cos', 'tan']\n",
      "{'<start> -> <arith_expr>': 2, '<arith_expr> -> <function>(<number>)': 2, '<function> -> sqrt': 1, '<number> -> <maybe_minus><onenine><maybe_digits><maybe_frac>': 2, '<maybe_minus> -> ': 1, '<onenine> -> 1': 2, '<maybe_digits> -> <digits>': 1, '<digits> -> <digit>': 1, '<digit> -> 2': 1, '<maybe_frac> -> ': 2, '<function> -> tan': 1, '<maybe_minus> -> -': 1, '<maybe_digits> -> ': 1}\n",
      "['sqrt', 'sin', 'cos', 'tan']\n",
      "[1, 0, 0, 1]\n",
      "['', '-']\n",
      "{'<start> -> <arith_expr>': 2, '<arith_expr> -> <function>(<number>)': 2, '<function> -> sqrt': 1, '<number> -> <maybe_minus><onenine><maybe_digits><maybe_frac>': 2, '<maybe_minus> -> ': 1, '<onenine> -> 1': 2, '<maybe_digits> -> <digits>': 1, '<digits> -> <digit>': 1, '<digit> -> 2': 1, '<maybe_frac> -> ': 2, '<function> -> tan': 1, '<maybe_minus> -> -': 1, '<maybe_digits> -> ': 1}\n",
      "['', '-']\n",
      "[1, 1]\n",
      "['1', '2', '3', '4', '5', '6', '7', '8', '9']\n",
      "{'<start> -> <arith_expr>': 2, '<arith_expr> -> <function>(<number>)': 2, '<function> -> sqrt': 1, '<number> -> <maybe_minus><onenine><maybe_digits><maybe_frac>': 2, '<maybe_minus> -> ': 1, '<onenine> -> 1': 2, '<maybe_digits> -> <digits>': 1, '<digits> -> <digit>': 1, '<digit> -> 2': 1, '<maybe_frac> -> ': 2, '<function> -> tan': 1, '<maybe_minus> -> -': 1, '<maybe_digits> -> ': 1}\n",
      "['1', '2', '3', '4', '5', '6', '7', '8', '9']\n",
      "[2, 0, 0, 0, 0, 0, 0, 0, 0]\n",
      "['0', '1', '2', '3', '4', '5', '6', '7', '8', '9']\n",
      "{'<start> -> <arith_expr>': 2, '<arith_expr> -> <function>(<number>)': 2, '<function> -> sqrt': 1, '<number> -> <maybe_minus><onenine><maybe_digits><maybe_frac>': 2, '<maybe_minus> -> ': 1, '<onenine> -> 1': 2, '<maybe_digits> -> <digits>': 1, '<digits> -> <digit>': 1, '<digit> -> 2': 1, '<maybe_frac> -> ': 2, '<function> -> tan': 1, '<maybe_minus> -> -': 1, '<maybe_digits> -> ': 1}\n",
      "['0', '1', '2', '3', '4', '5', '6', '7', '8', '9']\n",
      "[0, 0, 1, 0, 0, 0, 0, 0, 0, 0]\n",
      "['', '<digits>']\n",
      "{'<start> -> <arith_expr>': 2, '<arith_expr> -> <function>(<number>)': 2, '<function> -> sqrt': 1, '<number> -> <maybe_minus><onenine><maybe_digits><maybe_frac>': 2, '<maybe_minus> -> ': 1, '<onenine> -> 1': 2, '<maybe_digits> -> <digits>': 1, '<digits> -> <digit>': 1, '<digit> -> 2': 1, '<maybe_frac> -> ': 2, '<function> -> tan': 1, '<maybe_minus> -> -': 1, '<maybe_digits> -> ': 1}\n",
      "['', '<digits>']\n",
      "[1, 1]\n",
      "['<digit>', '<digit><digits>']\n",
      "{'<start> -> <arith_expr>': 2, '<arith_expr> -> <function>(<number>)': 2, '<function> -> sqrt': 1, '<number> -> <maybe_minus><onenine><maybe_digits><maybe_frac>': 2, '<maybe_minus> -> ': 1, '<onenine> -> 1': 2, '<maybe_digits> -> <digits>': 1, '<digits> -> <digit>': 1, '<digit> -> 2': 1, '<maybe_frac> -> ': 2, '<function> -> tan': 1, '<maybe_minus> -> -': 1, '<maybe_digits> -> ': 1}\n",
      "['<digit>', '<digit><digits>']\n",
      "[1, 0]\n",
      "['', '.<digits>']\n",
      "{'<start> -> <arith_expr>': 2, '<arith_expr> -> <function>(<number>)': 2, '<function> -> sqrt': 1, '<number> -> <maybe_minus><onenine><maybe_digits><maybe_frac>': 2, '<maybe_minus> -> ': 1, '<onenine> -> 1': 2, '<maybe_digits> -> <digits>': 1, '<digits> -> <digit>': 1, '<digit> -> 2': 1, '<maybe_frac> -> ': 2, '<function> -> tan': 1, '<maybe_minus> -> -': 1, '<maybe_digits> -> ': 1}\n",
      "['', '.<digits>']\n",
      "[2, 0]\n"
     ]
    }
   ],
   "source": [
    "from fuzzingbook.ProbabilisticGrammarFuzzer import ProbabilisticGrammarMiner\n",
    "from fuzzingbook.Parser import EarleyParser\n",
    "from copy import deepcopy\n",
    "\n",
    "new_g = deepcopy(GRAMMAR)\n",
    "new_g['<maybe_minus>'] = ['', '-']\n",
    "\n",
    "probabilistic_grammar_miner = ProbabilisticGrammarMiner(EarleyParser(new_g), log=True)\n",
    "probabilistic_grammar = probabilistic_grammar_miner.mine_probabilistic_grammar(['sqrt(12)', 'tan(-1)'])"
   ],
   "metadata": {
    "collapsed": false
   }
  },
  {
   "cell_type": "code",
   "execution_count": 120,
   "outputs": [
    {
     "data": {
      "text/plain": "{'<start>': [('<arith_expr>', {'prob': None})],\n '<arith_expr>': [('<function>(<number>)', {'prob': None})],\n '<function>': [('sqrt', {'prob': 0.5}),\n  ('sin', {'prob': 0.0}),\n  ('cos', {'prob': 0.0}),\n  ('tan', {'prob': 0.5})],\n '<number>': [('<maybe_minus><onenine><maybe_digits><maybe_frac>',\n   {'prob': None})],\n '<maybe_minus>': [('', {'prob': 0.5}), ('-', {'prob': 0.5})],\n '<onenine>': [('1', {'prob': 1.0}),\n  ('2', {'prob': 0.0}),\n  ('3', {'prob': 0.0}),\n  ('4', {'prob': 0.0}),\n  ('5', {'prob': 0.0}),\n  ('6', {'prob': 0.0}),\n  ('7', {'prob': 0.0}),\n  ('8', {'prob': 0.0}),\n  ('9', {'prob': 0.0})],\n '<digit>': [('0', {'prob': 0.0}),\n  ('1', {'prob': 0.0}),\n  ('2', {'prob': 1.0}),\n  ('3', {'prob': 0.0}),\n  ('4', {'prob': 0.0}),\n  ('5', {'prob': 0.0}),\n  ('6', {'prob': 0.0}),\n  ('7', {'prob': 0.0}),\n  ('8', {'prob': 0.0}),\n  ('9', {'prob': 0.0})],\n '<maybe_digits>': [('', {'prob': 0.5}), ('<digits>', {'prob': 0.5})],\n '<digits>': [('<digit>', {'prob': 1.0}), ('<digit><digits>', {'prob': 0.0})],\n '<maybe_frac>': [('', {'prob': 1.0}), ('.<digits>', {'prob': 0.0})]}"
     },
     "metadata": {},
     "output_type": "display_data"
    }
   ],
   "source": [
    "display(probabilistic_grammar)"
   ],
   "metadata": {
    "collapsed": false
   }
  },
  {
   "cell_type": "code",
   "execution_count": 121,
   "outputs": [
    {
     "name": "stdout",
     "output_type": "stream",
     "text": [
      "('<start>', [('<arith_expr>', [('<function>', [('sqrt', [])]), ('(', []), ('<number>', [('<maybe_minus>', []), ('<onenine>', [('1', [])]), ('<maybe_digits>', [('<digits>', [('<digit>', [('0', [])])])]), ('<maybe_frac>', [])]), (')', [])])])\n"
     ]
    }
   ],
   "source": [
    "p = EarleyParser(GRAMMAR)\n",
    "for t in p.parse('sqrt(10)'):\n",
    "    print(t)"
   ],
   "metadata": {
    "collapsed": false
   }
  },
  {
   "cell_type": "code",
   "execution_count": 122,
   "outputs": [
    {
     "data": {
      "text/plain": "int"
     },
     "execution_count": 122,
     "metadata": {},
     "output_type": "execute_result"
    }
   ],
   "source": [
    "x = []\n",
    "type(len(x))"
   ],
   "metadata": {
    "collapsed": false
   }
  },
  {
   "cell_type": "code",
   "execution_count": 122,
   "outputs": [],
   "source": [],
   "metadata": {
    "collapsed": false
   }
  }
 ],
 "metadata": {
  "kernelspec": {
   "display_name": "Python 3",
   "language": "python",
   "name": "python3"
  },
  "language_info": {
   "codemirror_mode": {
    "name": "ipython",
    "version": 2
   },
   "file_extension": ".py",
   "mimetype": "text/x-python",
   "name": "python",
   "nbconvert_exporter": "python",
   "pygments_lexer": "ipython2",
   "version": "2.7.6"
  }
 },
 "nbformat": 4,
 "nbformat_minor": 0
}
