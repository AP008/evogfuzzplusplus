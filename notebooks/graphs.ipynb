{
 "cells": [
  {
   "cell_type": "markdown",
   "source": [
    "# Analyze EvoGFuzz"
   ],
   "metadata": {
    "collapsed": false,
    "pycharm": {
     "name": "#%% md\n"
    }
   }
  },
  {
   "cell_type": "code",
   "execution_count": null,
   "outputs": [],
   "source": [
    "from evogfuzz_formalizations.calculator import GRAMMAR, INITIAL_INPUTS, prop"
   ],
   "metadata": {
    "collapsed": false,
    "pycharm": {
     "name": "#%%\n"
    }
   }
  },
  {
   "cell_type": "code",
   "execution_count": null,
   "outputs": [],
   "source": [
    "from evogfuzz import EvoGFuzz"
   ],
   "metadata": {
    "collapsed": false,
    "pycharm": {
     "name": "#%%\n"
    }
   }
  },
  {
   "cell_type": "code",
   "execution_count": null,
   "outputs": [],
   "source": [
    "from importlib import reload  # Not needed in Python 2\n",
    "import logging\n",
    "reload(logging)\n",
    "logging.basicConfig(\n",
    "    level=logging.DEBUG,\n",
    "    format=\"%(asctime)s:  %(message)s\"\n",
    ")\n",
    "\n",
    "evogfuzz = EvoGFuzz(\n",
    "    grammar=GRAMMAR,\n",
    "    inputs=INITIAL_INPUTS,\n",
    "    prop=prop\n",
    ")"
   ],
   "metadata": {
    "collapsed": false,
    "pycharm": {
     "name": "#%%\n"
    }
   }
  },
  {
   "cell_type": "code",
   "execution_count": null,
   "outputs": [],
   "source": [
    "result = evogfuzz.execute()"
   ],
   "metadata": {
    "collapsed": false,
    "pycharm": {
     "name": "#%%\n"
    }
   }
  },
  {
   "cell_type": "code",
   "execution_count": null,
   "outputs": [],
   "source": [
    "result = evogfuzz._get_latest_grammar()"
   ],
   "metadata": {
    "collapsed": false,
    "pycharm": {
     "name": "#%%\n"
    }
   }
  },
  {
   "cell_type": "code",
   "execution_count": null,
   "outputs": [],
   "source": [
    "result"
   ],
   "metadata": {
    "collapsed": false,
    "pycharm": {
     "name": "#%%\n"
    }
   }
  },
  {
   "cell_type": "code",
   "execution_count": null,
   "outputs": [],
   "source": [
    "from fuzzingbook.ProbabilisticGrammarFuzzer import ProbabilisticGrammarFuzzer\n",
    "\n",
    "prob_fuzzer = ProbabilisticGrammarFuzzer(result)\n",
    "\n",
    "for _ in range(100):\n",
    "    print(prob_fuzzer.fuzz())"
   ],
   "metadata": {
    "collapsed": false,
    "pycharm": {
     "name": "#%%\n"
    }
   }
  },
  {
   "cell_type": "markdown",
   "source": [
    "## Visualizing the Optimization"
   ],
   "metadata": {
    "collapsed": false,
    "pycharm": {
     "name": "#%% md\n"
    }
   }
  },
  {
   "cell_type": "code",
   "execution_count": null,
   "outputs": [],
   "source": [
    "from matplotlib.pyplot import plot"
   ],
   "metadata": {
    "collapsed": false,
    "pycharm": {
     "name": "#%%\n"
    }
   }
  },
  {
   "cell_type": "code",
   "execution_count": null,
   "outputs": [],
   "source": [
    "plot([1,2], [2,1])"
   ],
   "metadata": {
    "collapsed": false,
    "pycharm": {
     "name": "#%%\n"
    }
   }
  },
  {
   "cell_type": "code",
   "execution_count": null,
   "outputs": [],
   "source": [
    "result.keys()"
   ],
   "metadata": {
    "collapsed": false,
    "pycharm": {
     "name": "#%%\n"
    }
   }
  },
  {
   "cell_type": "code",
   "execution_count": null,
   "outputs": [],
   "source": [
    "from copy import deepcopy\n",
    "g = deepcopy(result)\n",
    "\n",
    "features = set()\n",
    "\n",
    "for rule in g:\n",
    "    for child in g[rule]:\n",
    "        features.add(f\"{rule}->{child[1]['prob']}\")"
   ],
   "metadata": {
    "collapsed": false,
    "pycharm": {
     "name": "#%%\n"
    }
   }
  },
  {
   "cell_type": "code",
   "execution_count": null,
   "outputs": [],
   "source": [
    "display(features)"
   ],
   "metadata": {
    "collapsed": false,
    "pycharm": {
     "name": "#%%\n"
    }
   }
  },
  {
   "cell_type": "code",
   "execution_count": null,
   "outputs": [],
   "source": [
    "gr = [g, g]\n",
    "\n",
    "def _initialize(g):\n",
    "    g = deepcopy(g)\n",
    "    probabilities = dict()\n",
    "    for rule in g:\n",
    "        for child in g[rule]:\n",
    "            feature = f\"{rule}->{child[0]}\"\n",
    "            probabilities[feature] = []\n",
    "    return probabilities\n",
    "\n",
    "\n",
    "\n",
    "def parse_prob_grammars(grammar_list):\n",
    "    probabilities = _initialize(grammar_list[0])\n",
    "\n",
    "    for grammar in grammar_list:\n",
    "        for rule in grammar:\n",
    "            for child in grammar[rule]:\n",
    "                feature = f\"{rule}->{child[0]}\"\n",
    "                prob_list = probabilities[feature]\n",
    "                if child[1]['prob'] is None:\n",
    "                    prob_list.append(1.0)\n",
    "                else:\n",
    "                    prob_list.append(child[1]['prob'])\n",
    "                probabilities[feature] = prob_list\n",
    "\n",
    "    return probabilities\n",
    "\n",
    "\n",
    "r = parse_prob_grammars(gr)"
   ],
   "metadata": {
    "collapsed": false,
    "pycharm": {
     "name": "#%%\n"
    }
   }
  },
  {
   "cell_type": "code",
   "execution_count": null,
   "outputs": [],
   "source": [
    "display(r)"
   ],
   "metadata": {
    "collapsed": false,
    "pycharm": {
     "name": "#%%\n"
    }
   }
  },
  {
   "cell_type": "code",
   "execution_count": null,
   "outputs": [],
   "source": [
    "all_prob_grammars_org = evogfuzz._probabilistic_grammars\n",
    "all_prob_grammars = [g[0] for g in all_prob_grammars_org]"
   ],
   "metadata": {
    "collapsed": false,
    "pycharm": {
     "name": "#%%\n"
    }
   }
  },
  {
   "cell_type": "code",
   "execution_count": null,
   "outputs": [],
   "source": [
    "# all_prob_grammars = [g[0] for g in all_prob_grammars]"
   ],
   "metadata": {
    "collapsed": false,
    "pycharm": {
     "name": "#%%\n"
    }
   }
  },
  {
   "cell_type": "code",
   "execution_count": null,
   "outputs": [],
   "source": [
    "r = parse_prob_grammars(all_prob_grammars)"
   ],
   "metadata": {
    "collapsed": false,
    "pycharm": {
     "name": "#%%\n"
    }
   }
  },
  {
   "cell_type": "code",
   "execution_count": null,
   "outputs": [],
   "source": [
    "display(r)"
   ],
   "metadata": {
    "collapsed": false,
    "pycharm": {
     "name": "#%%\n"
    }
   }
  },
  {
   "cell_type": "code",
   "execution_count": null,
   "outputs": [],
   "source": [
    "from evogfuzz.evogfuzz_class import GrammarType\n",
    "reduced = list(filter(lambda x: x[1] == GrammarType.LEARNED or GrammarType.MUTATED, all_prob_grammars_org))\n",
    "reduced = [g[0] for g in reduced]\n",
    "print(len(reduced))\n",
    "dicts = parse_prob_grammars(reduced)"
   ],
   "metadata": {
    "collapsed": false,
    "pycharm": {
     "name": "#%%\n"
    }
   }
  },
  {
   "cell_type": "code",
   "execution_count": null,
   "outputs": [],
   "source": [
    "display(dicts)"
   ],
   "metadata": {
    "collapsed": false,
    "pycharm": {
     "name": "#%%\n"
    }
   }
  },
  {
   "cell_type": "code",
   "execution_count": null,
   "outputs": [],
   "source": [
    "import matplotlib.pyplot as plt\n",
    "\n",
    "xvals = [i for i in range(len(reduced))]\n",
    "\n",
    "f, ax = plt.subplots(1)\n",
    "\n",
    "feature_disp = ['<function>->cos', '<function>->sqrt', '<maybe_minus>->-']\n",
    "\n",
    "for feature in feature_disp:\n",
    "    ax.plot(xvals, dicts[feature])\n"
   ],
   "metadata": {
    "collapsed": false,
    "pycharm": {
     "name": "#%%\n"
    }
   }
  },
  {
   "cell_type": "code",
   "execution_count": null,
   "outputs": [],
   "source": [],
   "metadata": {
    "collapsed": false,
    "pycharm": {
     "name": "#%%\n"
    }
   }
  },
  {
   "cell_type": "code",
   "execution_count": null,
   "outputs": [],
   "source": [],
   "metadata": {
    "collapsed": false,
    "pycharm": {
     "name": "#%%\n"
    }
   }
  },
  {
   "cell_type": "code",
   "execution_count": null,
   "outputs": [],
   "source": [
    "display(evogfuzz._probabilistic_grammars)"
   ],
   "metadata": {
    "collapsed": false,
    "pycharm": {
     "name": "#%%\n"
    }
   }
  },
  {
   "cell_type": "markdown",
   "source": [
    "### Plot Fitness Values"
   ],
   "metadata": {
    "collapsed": false,
    "pycharm": {
     "name": "#%% md\n"
    }
   }
  },
  {
   "cell_type": "code",
   "execution_count": null,
   "outputs": [],
   "source": [
    "fitness_values = [(x[2],x[1]) for x in all_prob_grammars_org[:]]\n",
    "print(\"Original\")\n",
    "display(fitness_values)\n",
    "\n",
    "\n",
    "from typing import Tuple, List\n",
    "\n",
    "def clean_fitness_values(fitness_values: List[Tuple[int, GrammarType]]):\n",
    "    for index, it in enumerate(fitness_values):\n",
    "        if it[0] == -1:\n",
    "            fitness_values[index] = (fitness_values[index-1][0], it[1])\n",
    "\n",
    "    return fitness_values\n",
    "\n",
    "res = clean_fitness_values(fitness_values)\n",
    "print(\"Clean\")\n",
    "display(res)"
   ],
   "metadata": {
    "collapsed": false,
    "pycharm": {
     "name": "#%%\n"
    }
   }
  },
  {
   "cell_type": "code",
   "execution_count": null,
   "outputs": [],
   "source": [
    "import matplotlib.pyplot as plt\n",
    "\n",
    "xvals = [i for i in range(len(reduced))]\n",
    "\n",
    "f, ax = plt.subplots(1)\n",
    "\n",
    "feature_disp = ['<function>->cos', '<function>->sqrt', '<maybe_minus>->-']\n",
    "# feature_disp = dicts.keys()\n",
    "\n",
    "for feature in feature_disp:\n",
    "    ax.plot(xvals, dicts[feature])\n",
    "\n",
    "xvals = [i for i in range(len(res))]\n",
    "yvals = [i[0] for i in res]\n",
    "\n",
    "import numpy as np\n",
    "\n",
    "def normalizeData(data):\n",
    "    return (data - np.min(data)) / (np.max(data) - np.min(data))\n",
    "\n",
    "p = normalizeData(yvals)\n",
    "\n",
    "ax.plot(xvals, p)"
   ],
   "metadata": {
    "collapsed": false,
    "pycharm": {
     "name": "#%%\n"
    }
   }
  },
  {
   "cell_type": "code",
   "execution_count": null,
   "outputs": [],
   "source": [
    "data = zip({1,2,3}, [False,False,False])"
   ],
   "metadata": {
    "collapsed": false,
    "pycharm": {
     "name": "#%%\n"
    }
   }
  },
  {
   "cell_type": "code",
   "execution_count": null,
   "outputs": [],
   "source": [
    "from fuzzingbook.ProbabilisticGrammarFuzzer import ProbabilisticGrammarMiner\n",
    "from fuzzingbook.Parser import EarleyParser\n",
    "from copy import deepcopy\n",
    "\n",
    "new_g = deepcopy(GRAMMAR)\n",
    "new_g['<maybe_minus>'] = ['', '-']\n",
    "\n",
    "probabilistic_grammar_miner = ProbabilisticGrammarMiner(EarleyParser(new_g), log=True)\n",
    "probabilistic_grammar = probabilistic_grammar_miner.mine_probabilistic_grammar(['sqrt(12)', 'tan(-1)'])"
   ],
   "metadata": {
    "collapsed": false,
    "pycharm": {
     "name": "#%%\n"
    }
   }
  },
  {
   "cell_type": "code",
   "execution_count": null,
   "outputs": [],
   "source": [
    "display(probabilistic_grammar)"
   ],
   "metadata": {
    "collapsed": false,
    "pycharm": {
     "name": "#%%\n"
    }
   }
  },
  {
   "cell_type": "code",
   "execution_count": null,
   "outputs": [],
   "source": [
    "p = EarleyParser(GRAMMAR)\n",
    "for t in p.parse('sqrt(10)'):\n",
    "    print(t)"
   ],
   "metadata": {
    "collapsed": false,
    "pycharm": {
     "name": "#%%\n"
    }
   }
  },
  {
   "cell_type": "code",
   "execution_count": null,
   "outputs": [],
   "source": [
    "x = []\n",
    "type(len(x))"
   ],
   "metadata": {
    "collapsed": false,
    "pycharm": {
     "name": "#%%\n"
    }
   }
  },
  {
   "cell_type": "code",
   "execution_count": null,
   "outputs": [],
   "source": [],
   "metadata": {
    "collapsed": false,
    "pycharm": {
     "name": "#%%\n"
    }
   }
  }
 ],
 "metadata": {
  "kernelspec": {
   "display_name": "Python 3",
   "language": "python",
   "name": "python3"
  },
  "language_info": {
   "codemirror_mode": {
    "name": "ipython",
    "version": 2
   },
   "file_extension": ".py",
   "mimetype": "text/x-python",
   "name": "python",
   "nbconvert_exporter": "python",
   "pygments_lexer": "ipython2",
   "version": "2.7.6"
  }
 },
 "nbformat": 4,
 "nbformat_minor": 0
}